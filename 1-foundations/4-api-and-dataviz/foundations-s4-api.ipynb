{
  "cells": [
    {
      "cell_type": "markdown",
      "metadata": {
        "id": "view-in-github",
        "colab_type": "text"
      },
      "source": [
        "<a href=\"https://colab.research.google.com/github/franzruch/rrf24_training_ulli/blob/main/1-foundations/4-api-and-dataviz/foundations-s4-api.ipynb\" target=\"_parent\"><img src=\"https://colab.research.google.com/assets/colab-badge.svg\" alt=\"Open In Colab\"/></a>"
      ]
    },
    {
      "cell_type": "markdown",
      "metadata": {
        "id": "Tfsu2yQLYtZ1"
      },
      "source": [
        "# Interacting with APIs using Python\n",
        "\n",
        "Now that we understanding what APIs are, we can start interacting with them programatically."
      ]
    },
    {
      "cell_type": "markdown",
      "metadata": {
        "id": "G1Nk2ubRYtZ9"
      },
      "source": [
        "# The `requests` library\n",
        "\n",
        "- `requests` is a Python library to interact with information from the internet\n",
        "- It sends and receives data to and from URLs\n",
        "- You can think of it as a web browser (Chrome, Firefox), but without the graphic interface\n",
        "- APIs are URLs, so we can use `requests` to interact with APIs in Python\n",
        "\n",
        "To enable the use `requests` , run:"
      ]
    },
    {
      "cell_type": "code",
      "execution_count": 4,
      "metadata": {
        "id": "lLMNZ3XgYtZ_"
      },
      "outputs": [],
      "source": [
        "import requests"
      ]
    },
    {
      "cell_type": "markdown",
      "metadata": {
        "id": "-9__1yDUYtaC"
      },
      "source": [
        "Requests is a library but is always part of \"base\" Python, so you don't have to install it."
      ]
    },
    {
      "cell_type": "markdown",
      "metadata": {
        "id": "PU4EytBqYtaD"
      },
      "source": [
        "## Sending a request and receiving information from the web"
      ]
    },
    {
      "cell_type": "markdown",
      "metadata": {
        "id": "R999bQqrYtaE"
      },
      "source": [
        "- When you access a URL in your web browser, it is sending a request to receive information from a web server\n",
        "- Usually, most of the information your browser receives as a response to your request is in HTML format\n",
        "- Your web browser then renders the HTML information in the response and shows it to you\n",
        "- A familiar example:\n",
        "\n",
        "`https://www.worldbank.org/ext/en/home`"
      ]
    },
    {
      "cell_type": "markdown",
      "metadata": {
        "id": "aMoznQ9qYtaF"
      },
      "source": [
        "![world-bank-site](https://github.com/worldbank/dec-python-course/blob/main/1-foundations/4-api-and-dataviz/img/world-bank-site.png?raw=1)"
      ]
    },
    {
      "cell_type": "markdown",
      "metadata": {
        "id": "FSWkmjnMYtaG"
      },
      "source": [
        "Interacting with the web using Python through `requests` is not different than this. The basic syntax of `requests` is the following:\n",
        "\n",
        "`requests.get(my_url)`\n",
        "\n",
        "- `my_url` is a string with the URL address you want to access\n",
        "- the `get()` commands of `requests` uses your internet connection to enter a URL address in the internet and obtain a response with information from it\n",
        "- you can save the response in a Python variable this way:\n",
        "\n",
        "`response = requests.get(my_url)`\n",
        "\n",
        "See the following example:"
      ]
    },
    {
      "cell_type": "code",
      "execution_count": 1,
      "metadata": {
        "id": "1dlddrj8YtaG"
      },
      "outputs": [],
      "source": [
        "url = 'https://www.worldbank.org/ext/en/home'"
      ]
    },
    {
      "cell_type": "code",
      "execution_count": 5,
      "metadata": {
        "id": "DVKCr_4CYtaH"
      },
      "outputs": [],
      "source": [
        "response = requests.get(url)"
      ]
    },
    {
      "cell_type": "markdown",
      "metadata": {
        "id": "FGBpMBgDYtaI"
      },
      "source": [
        "`response` is a variable of an ad-hoc type used by the `requests` library, similarly to how data frames and series are custom variable types from the Pandas library."
      ]
    },
    {
      "cell_type": "code",
      "execution_count": 6,
      "metadata": {
        "id": "geAXjC0qYtaI",
        "outputId": "ef83b6b4-ea14-40d8-8518-3d01a2a13588",
        "colab": {
          "base_uri": "https://localhost:8080/",
          "height": 139
        }
      },
      "outputs": [
        {
          "output_type": "execute_result",
          "data": {
            "text/plain": [
              "requests.models.Response"
            ],
            "text/html": [
              "<div style=\"max-width:800px; border: 1px solid var(--colab-border-color);\"><style>\n",
              "      pre.function-repr-contents {\n",
              "        overflow-x: auto;\n",
              "        padding: 8px 12px;\n",
              "        max-height: 500px;\n",
              "      }\n",
              "\n",
              "      pre.function-repr-contents.function-repr-contents-collapsed {\n",
              "        cursor: pointer;\n",
              "        max-height: 100px;\n",
              "      }\n",
              "    </style>\n",
              "    <pre style=\"white-space: initial; background:\n",
              "         var(--colab-secondary-surface-color); padding: 8px 12px;\n",
              "         border-bottom: 1px solid var(--colab-border-color);\"><b>requests.models.Response</b><br/>def __init__()</pre><pre class=\"function-repr-contents function-repr-contents-collapsed\" style=\"\"><a class=\"filepath\" style=\"display:none\" href=\"#\">/usr/local/lib/python3.10/dist-packages/requests/models.py</a>The :class:`Response &lt;Response&gt;` object, which contains a\n",
              "server&#x27;s response to an HTTP request.</pre>\n",
              "      <script>\n",
              "      if (google.colab.kernel.accessAllowed && google.colab.files && google.colab.files.view) {\n",
              "        for (const element of document.querySelectorAll('.filepath')) {\n",
              "          element.style.display = 'block'\n",
              "          element.onclick = (event) => {\n",
              "            event.preventDefault();\n",
              "            event.stopPropagation();\n",
              "            google.colab.files.view(element.textContent, 640);\n",
              "          };\n",
              "        }\n",
              "      }\n",
              "      for (const element of document.querySelectorAll('.function-repr-contents')) {\n",
              "        element.onclick = (event) => {\n",
              "          event.preventDefault();\n",
              "          event.stopPropagation();\n",
              "          element.classList.toggle('function-repr-contents-collapsed');\n",
              "        };\n",
              "      }\n",
              "      </script>\n",
              "      </div>"
            ]
          },
          "metadata": {},
          "execution_count": 6
        }
      ],
      "source": [
        "type(response)"
      ]
    },
    {
      "cell_type": "markdown",
      "metadata": {
        "id": "8JMVm-z_YtaJ"
      },
      "source": [
        "The response to your request will be stored in `response` even if it failed. To check if your request was successful or not, use the attribute `status_code` of this variable type or print `response`."
      ]
    },
    {
      "cell_type": "code",
      "execution_count": 7,
      "metadata": {
        "id": "5yrBT4ulYtaJ",
        "outputId": "236db033-7758-402f-aae3-335e15f53291",
        "colab": {
          "base_uri": "https://localhost:8080/"
        }
      },
      "outputs": [
        {
          "output_type": "execute_result",
          "data": {
            "text/plain": [
              "200"
            ]
          },
          "metadata": {},
          "execution_count": 7
        }
      ],
      "source": [
        "response.status_code"
      ]
    },
    {
      "cell_type": "code",
      "execution_count": 8,
      "metadata": {
        "id": "UAJ67F6GYtaJ",
        "outputId": "0d7fe0ad-9371-47db-82e0-54152e966af8",
        "colab": {
          "base_uri": "https://localhost:8080/"
        }
      },
      "outputs": [
        {
          "output_type": "stream",
          "name": "stdout",
          "text": [
            "<Response [200]>\n"
          ]
        }
      ],
      "source": [
        "print(response)"
      ]
    },
    {
      "cell_type": "markdown",
      "metadata": {
        "id": "ZDL7mDKiYtaJ"
      },
      "source": [
        "A status code of 200 means that your request received a successful response. These are some of the most common types of response codes:\n",
        "\n",
        "- **200 - OK:** successful request\n",
        "- **403 - Forbidden:** the user (you) is not authorized to access that URL\n",
        "- **404 - Not found:** the web server cannot find the requested resource (often because your URL is incorrect)\n",
        "- **429 - Too many requests:** the web server has a limit on how many requests a user can send over a period of time (rate limit) and you went over that limit\n",
        "- **500 - Internal server error:** the request didn't work because of an unspecified error originated by the web server, not the user\n",
        "\n",
        "If a request is successful, the response variable will contain the content (also called \"body\") of the response from the server. When you access a URL from your web browser, this is the part that contains the HTML code that your browser renders.\n",
        "\n",
        "In `response`, the response content is in the `content` attribute:"
      ]
    },
    {
      "cell_type": "code",
      "execution_count": 9,
      "metadata": {
        "id": "GGNoTyRzYtaK",
        "outputId": "ce82cd04-5f37-45e5-a921-57196e552b98",
        "colab": {
          "base_uri": "https://localhost:8080/"
        }
      },
      "outputs": [
        {
          "output_type": "execute_result",
          "data": {
            "text/plain": [
              "b'<!DOCTYPE html>\\n<html>\\n  <head>\\n    <title>World Bank Group - International Development, Poverty and Sustainability</title>\\n    <link rel=\"canonical\" href=\"https://www.worldbank.org/ext/en/home\">\\n    <meta name=\"description\" content=\"With 189 member countries, the World Bank Group is a unique global partnership fighting poverty worldwide through sustainable solutions.\">\\n    <meta property=\"og:title\" content=\"World Bank Group - International Development, Poverty and Sustainability\">\\n    <meta property=\"og:description\" content=\"With 189 member countries, the World Bank Group is a unique global partnership fighting poverty worldwide through sustainable solutions.\">\\n    <meta property=\"og:url\" content=\"https://www.worldbank.org/ext/en/home\">\\n    <meta property=\"og:image\" content=\"https://www.worldbank.org/ext/en/media_13e1e0ebaf2e8653d9a179f051a057aba984252e3.jpeg?width=1200&#x26;format=pjpg&#x26;optimize=medium\">\\n    <meta property=\"og:image:secure_url\" content=\"https://www.worldbank.org/ext/en/media_13e1e0ebaf2e8653d9a179f051a057aba984252e3.jpeg?width=1200&#x26;format=pjpg&#x26;optimize=medium\">\\n    <meta property=\"og:image:alt\" content=\"IDA21 Raises $100 Billion to Boost Development\">\\n    <meta name=\"twitter:card\" content=\"summary_large_image\">\\n    <meta name=\"twitter:title\" content=\"World Bank Group - International Development, Poverty and Sustainability\">\\n    <meta name=\"twitter:description\" content=\"With 189 member countries, the World Bank Group is a unique global partnership fighting poverty worldwide through sustainable solutions.\">\\n    <meta name=\"twitter:image\" content=\"https://www.worldbank.org/ext/en/media_13e1e0ebaf2e8653d9a179f051a057aba984252e3.jpeg?width=1200&#x26;format=pjpg&#x26;optimize=medium\">\\n    <meta name=\"information_classification\" content=\"PUB_AI\">\\n    <meta name=\"originating_unit\" content=\"External and Corporate Relations - Corporate Communications, ECRCC\">\\n    <meta name=\"published-time\" content=\"2024-12-11T11:32:55.848Z\">\\n    <meta name=\"pagecategory\" content=\"home\">\\n    <meta name=\"languages\" content=\"English, ENG\">\\n    <meta name=\"author\" content=\"WorldBank\">\\n    <meta name=\"channel\" content=\"EXT HOME EN EXT\">\\n    <meta name=\"pagename\" content=\"homepage\">\\n    <meta name=\"page-swoosh\" content=\"page-swoosh-half-curve\">\\n    <meta name=\"cq-tags\" content=\"wbg:subject/research development and innovation, subject:economic growth, subject:governance in public sector, subject:poverty measurement and analysis, subject:sustainable-development-goals, subject:sustainable economic growth\">\\n    <meta name=\"content_type\" content=\"Landing\">\\n    <meta name=\"content_date\" content=\"2024-10-16T00:00:00.000Z\">\\n    <meta name=\"pageuid\" content=\"877a5312\">\\n    <meta name=\"alternate-url\" content=\"en|https://www.worldbank.org/ext/en/home, es|https://www.bancomundial.org/ext/es/home, fr|https://www.banquemondiale.org/ext/fr/home, ar|https://www.albankaldawli.org/ext/ar/home, ru|https://www.vsemirnyjbank.org/ext/ru/home, zh|https://www.shihang.org/ext/zh/home, View All|https://www.worldbank.org/en/language-resources\">\\n    <meta name=\"modified-time\" content=\"2024-12-11T11:30:53.794Z\">\\n    <meta name=\"viewport\" content=\"width=device-width, initial-scale=1\">\\n    <script src=\"/ext/scripts/aem.js\" type=\"module\"></script>\\n    <script src=\"/ext/scripts/scripts.js\" type=\"module\"></script>\\n    <link rel=\"stylesheet\" href=\"/ext/styles/styles.css\">\\n    <link rel=\"icon\" type=\"image/png\" href=\"/content/dam/wbr-redesign/logos/wbg-favicon.png\">\\n  </head>\\n  <body>\\n    <header></header>\\n    <main>\\n      <div>\\n        <div class=\"curated-cards\">\\n          <div>\\n            <div></div>\\n            <div>\\n              <picture>\\n                <source type=\"image/webp\" srcset=\"./media_13e1e0ebaf2e8653d9a179f051a057aba984252e3.jpeg?width=2000&#x26;format=webply&#x26;optimize=medium\" media=\"(min-width: 600px)\">\\n                <source type=\"image/webp\" srcset=\"./media_13e1e0ebaf2e8653d9a179f051a057aba984252e3.jpeg?width=750&#x26;format=webply&#x26;optimize=medium\">\\n                <source type=\"image/jpeg\" srcset=\"./media_13e1e0ebaf2e8653d9a179f051a057aba984252e3.jpeg?width=2000&#x26;format=jpeg&#x26;optimize=medium\" media=\"(min-width: 600px)\">\\n                <img loading=\"lazy\" alt=\"IDA21 Raises $100 Billion to Boost Development\" src=\"./media_13e1e0ebaf2e8653d9a179f051a057aba984252e3.jpeg?width=750&#x26;format=jpeg&#x26;optimize=medium\" width=\"1456\" height=\"700\">\\n              </picture>\\n            </div>\\n            <div></div>\\n            <div>world-bank:content-type/news</div>\\n            <div>IDA21 Raises $100 Billion to Boost Development</div>\\n            <div>Read Ajay\\xe2\\x80\\x99s letter about global support for the World Bank\\xe2\\x80\\x99s fund for low-income countries.</div>\\n            <div><a href=\"https://www.worldbank.org/en/news/statement/2024/12/05/an-open-letter-on-ida21?intcid=ecr_hp_headerA_en_ext\">https://www.worldbank.org/en/news/statement/2024/12/05/an-open-letter-on-ida21?intcid=ecr_hp_headerA_en_ext</a></div>\\n            <div>Learn More</div>\\n          </div>\\n          <div>\\n            <div></div>\\n            <div>\\n              <picture>\\n                <source type=\"image/webp\" srcset=\"./media_1454092de412a87ac1ff8ccd395c99421490ae293.jpeg?width=2000&#x26;format=webply&#x26;optimize=medium\" media=\"(min-width: 600px)\">\\n                <source type=\"image/webp\" srcset=\"./media_1454092de412a87ac1ff8ccd395c99421490ae293.jpeg?width=750&#x26;format=webply&#x26;optimize=medium\">\\n                <source type=\"image/jpeg\" srcset=\"./media_1454092de412a87ac1ff8ccd395c99421490ae293.jpeg?width=2000&#x26;format=jpeg&#x26;optimize=medium\" media=\"(min-width: 600px)\">\\n                <img loading=\"lazy\" alt=\"C\\xc3\\xb4te d\\xe2\\x80\\x99Ivoire: Swapping Debt for Development\" src=\"./media_1454092de412a87ac1ff8ccd395c99421490ae293.jpeg?width=750&#x26;format=jpeg&#x26;optimize=medium\" width=\"799\" height=\"533\">\\n              </picture>\\n            </div>\\n            <div></div>\\n            <div>world-bank:content-type/news</div>\\n            <div>C\\xc3\\xb4te d\\xe2\\x80\\x99Ivoire: Swapping Debt for Development</div>\\n            <div></div>\\n            <div><a href=\"https://www.worldbank.org/en/who-we-are/news/campaigns/2024/debt-swap-cote-divoire?intcid=ecr_hp_sidekick2_en_ext\">https://www.worldbank.org/en/who-we-are/news/campaigns/2024/debt-swap-cote-divoire?intcid=ecr_hp_sidekick2_en_ext</a></div>\\n            <div></div>\\n          </div>\\n          <div>\\n            <div></div>\\n            <div>\\n              <picture>\\n                <source type=\"image/webp\" srcset=\"./media_15e6c7cae752d86d12f9d0c27aa579a2166d192d6.jpeg?width=2000&#x26;format=webply&#x26;optimize=medium\" media=\"(min-width: 600px)\">\\n                <source type=\"image/webp\" srcset=\"./media_15e6c7cae752d86d12f9d0c27aa579a2166d192d6.jpeg?width=750&#x26;format=webply&#x26;optimize=medium\">\\n                <source type=\"image/jpeg\" srcset=\"./media_15e6c7cae752d86d12f9d0c27aa579a2166d192d6.jpeg?width=2000&#x26;format=jpeg&#x26;optimize=medium\" media=\"(min-width: 600px)\">\\n                <img loading=\"lazy\" alt=\"Sanctions System Promotes Good Governance and Tackles Corruption\" src=\"./media_15e6c7cae752d86d12f9d0c27aa579a2166d192d6.jpeg?width=750&#x26;format=jpeg&#x26;optimize=medium\" width=\"799\" height=\"533\">\\n              </picture>\\n            </div>\\n            <div></div>\\n            <div>world-bank:content-type/blog</div>\\n            <div>Sanctions System Promotes Good Governance and Tackles Corruption</div>\\n            <div></div>\\n            <div><a href=\"https://blogs.worldbank.org/en/voices/world-bank-group-sanctions-system-promoting-good-governance-and-tackling-corruption?intcid=ecr_hp_sidekick2_en_ext\">https://blogs.worldbank.org/en/voices/world-bank-group-sanctions-system-promoting-good-governance-and-tackling-corruption?intcid=ecr_hp_sidekick2_en_ext</a></div>\\n            <div></div>\\n          </div>\\n          <div>\\n            <div></div>\\n            <div>\\n              <picture>\\n                <source type=\"image/webp\" srcset=\"./media_108e0c35a5a40fd8874d7e800050719b96680fadf.jpeg?width=2000&#x26;format=webply&#x26;optimize=medium\" media=\"(min-width: 600px)\">\\n                <source type=\"image/webp\" srcset=\"./media_108e0c35a5a40fd8874d7e800050719b96680fadf.jpeg?width=750&#x26;format=webply&#x26;optimize=medium\">\\n                <source type=\"image/jpeg\" srcset=\"./media_108e0c35a5a40fd8874d7e800050719b96680fadf.jpeg?width=2000&#x26;format=jpeg&#x26;optimize=medium\" media=\"(min-width: 600px)\">\\n                <img loading=\"lazy\" alt=\"Moving the Dial on Poverty, Prosperity, and the Planet\" src=\"./media_108e0c35a5a40fd8874d7e800050719b96680fadf.jpeg?width=750&#x26;format=jpeg&#x26;optimize=medium\" width=\"799\" height=\"533\">\\n              </picture>\\n            </div>\\n            <div></div>\\n            <div>world-bank:content-type/expert-answers</div>\\n            <div>Moving the Dial on Poverty, Prosperity, and the Planet</div>\\n            <div></div>\\n            <div><a href=\"https://www.worldbank.org/en/news/video/2024/12/09/poverty-prosperity-planet-pathways-polycrisis-expert-answers?intcid=ecr_hp_sidekick3_en_ext\">https://www.worldbank.org/en/news/video/2024/12/09/poverty-prosperity-planet-pathways-polycrisis-expert-answers?intcid=ecr_hp_sidekick3_en_ext</a></div>\\n            <div></div>\\n          </div>\\n        </div>\\n        <div class=\"section-metadata\">\\n          <div>\\n            <div>sec-spacing</div>\\n            <div>section-none</div>\\n          </div>\\n          <div>\\n            <div>sec-spacing-bottom</div>\\n            <div>section-none</div>\\n          </div>\\n          <div>\\n            <div>style</div>\\n            <div>bg-primary-blue</div>\\n          </div>\\n          <div>\\n            <div>sec-inside-container</div>\\n            <div>false</div>\\n          </div>\\n        </div>\\n      </div>\\n      <div>\\n        <div class=\"teaser\">\\n          <div>\\n            <div>teaserBlurb</div>\\n            <div>Together we can create a\\xc2\\xa0 <strong>world free of poverty on a livable planet</strong></div>\\n          </div>\\n          <div>\\n            <div>teaserStyle</div>\\n            <div>video</div>\\n          </div>\\n          <div>\\n            <div>videoReference</div>\\n            <div><a href=\"https://publish-p136806-e1377785.adobeaemcloud.com/content/dam/theworldbankgroupasset/corporate/videos/global/2024/edge_home_all_except_Arabic.mp4\">https://publish-p136806-e1377785.adobeaemcloud.com/content/dam/theworldbankgroupasset/corporate/videos/global/2024/edge_home_all_except_Arabic.mp4</a></div>\\n          </div>\\n          <div>\\n            <div>videoBehavior</div>\\n            <div>autoplay</div>\\n          </div>\\n          <div>\\n            <div>imageRef</div>\\n            <div>\\n              <picture>\\n                <source type=\"image/webp\" srcset=\"./media_1e77594ad006bc4a5c83811d05c4b4778a7f22848.jpeg?width=2000&#x26;format=webply&#x26;optimize=medium\" media=\"(min-width: 600px)\">\\n                <source type=\"image/webp\" srcset=\"./media_1e77594ad006bc4a5c83811d05c4b4778a7f22848.jpeg?width=750&#x26;format=webply&#x26;optimize=medium\">\\n                <source type=\"image/jpeg\" srcset=\"./media_1e77594ad006bc4a5c83811d05c4b4778a7f22848.jpeg?width=2000&#x26;format=jpeg&#x26;optimize=medium\" media=\"(min-width: 600px)\">\\n                <img loading=\"lazy\" alt=\"\" src=\"./media_1e77594ad006bc4a5c83811d05c4b4778a7f22848.jpeg?width=750&#x26;format=jpeg&#x26;optimize=medium\" width=\"8192\" height=\"5461\">\\n              </picture>\\n            </div>\\n          </div>\\n          <div>\\n            <div>alt</div>\\n            <div>my image alt text</div>\\n          </div>\\n          <div>\\n            <div>btn-text</div>\\n            <div>About Us</div>\\n          </div>\\n          <div>\\n            <div>btn-link</div>\\n            <div><a href=\"https://www.worldbank.org/ext/en/who-we-are?intcid=ecr_hp_about_en_ext\">https://www.worldbank.org/ext/en/who-we-are?intcid=ecr_hp_about_en_ext</a></div>\\n          </div>\\n        </div>\\n        <div class=\"section-metadata\">\\n          <div>\\n            <div>sec-spacing</div>\\n            <div>section-xxlarge</div>\\n          </div>\\n          <div>\\n            <div>sec-spacing-bottom</div>\\n            <div>section-none</div>\\n          </div>\\n          <div>\\n            <div>style</div>\\n            <div>bg-primary-blue</div>\\n          </div>\\n        </div>\\n      </div>\\n      <div>\\n        <div class=\"data-cards data-card-variation\">\\n          <div>\\n            <div><strong>Data</strong> for Development</div>\\n          </div>\\n          <div>\\n            <div>\\n              <p>Essential data to guide decisions, monitor progress, and evaluate impact.</p>\\n              <p><a href=\"https://data.worldbank.org/\">See More Data</a></p>\\n            </div>\\n          </div>\\n          <div>\\n            <div>\\n              <p><strong>Explore by focus area</strong></p>\\n              <p><em><a href=\"https://www.worldbank.org/en/about/unit/human-development\" title=\"People\">People</a></em></p>\\n              <p><em><a href=\"https://www.worldbank.org/en/topic/macroeconomics\" title=\"Prosperity\">Prosperity</a></em></p>\\n              <p><em><a href=\"https://www.worldbank.org/en/topic/climatechange\" title=\"Planet\">Planet</a></em></p>\\n              <p><em><a href=\"https://www.worldbank.org/en/topic/infrastructure\" title=\"Infrastructure\">Infrastructure</a></em></p>\\n              <p><em><a href=\"https://www.worldbank.org/en/topic/digital\" title=\"Digital\">Digital</a></em></p>\\n            </div>\\n          </div>\\n          <div>\\n            <div>world-bank:category/digital</div>\\n            <div>92.76 million</div>\\n            <div>people had <strong>enhanced access to broadband internet</strong> in fiscal year 2023-2024 with support from IDA.</div>\\n            <div><a href=\"https://ida.worldbank.org/en/replenishments/road-to-IDA21?intcid=ecr_hp_dataA_en_ext\">https://ida.worldbank.org/en/replenishments/road-to-IDA21?intcid=ecr_hp_dataA_en_ext</a></div>\\n            <div>Source: International Development Association, World Bank</div>\\n          </div>\\n          <div>\\n            <div>world-bank:category/people</div>\\n            <div>143.61 million</div>\\n            <div>people received <strong>essential health, nutrition, and population services</strong> thanks to IDA in fiscal year 2023-2024.</div>\\n            <div><a href=\"https://ida.worldbank.org/en/replenishments/road-to-IDA21?intcid=ecr_hp_dataB_en_ext\">https://ida.worldbank.org/en/replenishments/road-to-IDA21?intcid=ecr_hp_dataB_en_ext</a></div>\\n            <div>Source: International Development Association, World Bank</div>\\n          </div>\\n          <div>\\n            <div>world-bank:category/planet</div>\\n            <div>1.4 billion</div>\\n            <div>more people could be fed if rainfed croplands are converted to <strong>sustainable irrigation</strong>.</div>\\n            <div><a href=\"https://www.worldbank.org/en/topic/water/publication/the-gwsp-2024-annual-report?intcid=ecr_hp_dataC_en_ext\">https://www.worldbank.org/en/topic/water/publication/the-gwsp-2024-annual-report?intcid=ecr_hp_dataC_en_ext</a></div>\\n            <div>Source: World Bank Group (2024), Global Water Security &#x26; Sanitation Partnership Annual Report</div>\\n          </div>\\n          <div>\\n            <div>world-bank:category/people</div>\\n            <div>1 in 3</div>\\n            <div>women globally <strong>experience physical or sexual violence</strong> by an intimate partner or sexual violence by a non-partner.</div>\\n            <div><a href=\"https://www.worldbank.org/en/topic/gender/brief/gender-strategy-update-2024-30-accelerating-equality-and-empowerment-for-all?intcid=ecr_hp_dataD_en_ext\">https://www.worldbank.org/en/topic/gender/brief/gender-strategy-update-2024-30-accelerating-equality-and-empowerment-for-all?intcid=ecr_hp_dataD_en_ext</a></div>\\n            <div>Source: World Bank Group Gender Strategy 2024-2030</div>\\n          </div>\\n        </div>\\n        <div class=\"section-metadata\">\\n          <div>\\n            <div>sec-spacing</div>\\n            <div>section-xxlarge</div>\\n          </div>\\n          <div>\\n            <div>sec-spacing-bottom</div>\\n            <div>section-none</div>\\n          </div>\\n          <div>\\n            <div>sec-swoosh</div>\\n            <div>sec-swoosh-none</div>\\n          </div>\\n          <div>\\n            <div>style</div>\\n            <div>bg-image</div>\\n          </div>\\n          <div>\\n            <div>image</div>\\n            <div>\\n              <picture>\\n                <source type=\"image/webp\" srcset=\"./media_1e0b1fdb94fb9cf5c2bc4bffb65cfb76c74508a71.png?width=2000&#x26;format=webply&#x26;optimize=medium\" media=\"(min-width: 600px)\">\\n                <source type=\"image/webp\" srcset=\"./media_1e0b1fdb94fb9cf5c2bc4bffb65cfb76c74508a71.png?width=750&#x26;format=webply&#x26;optimize=medium\">\\n                <source type=\"image/png\" srcset=\"./media_1e0b1fdb94fb9cf5c2bc4bffb65cfb76c74508a71.png?width=2000&#x26;format=png&#x26;optimize=medium\" media=\"(min-width: 600px)\">\\n                <img loading=\"lazy\" alt=\"\" src=\"./media_1e0b1fdb94fb9cf5c2bc4bffb65cfb76c74508a71.png?width=750&#x26;format=png&#x26;optimize=medium\" width=\"1600\" height=\"843\">\\n              </picture>\\n            </div>\\n          </div>\\n          <div>\\n            <div>tab-image</div>\\n            <div>\\n              <picture>\\n                <source type=\"image/webp\" srcset=\"./media_1c775f549051ac63f45393f9e58bf711c38865a71.png?width=2000&#x26;format=webply&#x26;optimize=medium\" media=\"(min-width: 600px)\">\\n                <source type=\"image/webp\" srcset=\"./media_1c775f549051ac63f45393f9e58bf711c38865a71.png?width=750&#x26;format=webply&#x26;optimize=medium\">\\n                <source type=\"image/png\" srcset=\"./media_1c775f549051ac63f45393f9e58bf711c38865a71.png?width=2000&#x26;format=png&#x26;optimize=medium\" media=\"(min-width: 600px)\">\\n                <img loading=\"lazy\" alt=\"\" src=\"./media_1c775f549051ac63f45393f9e58bf711c38865a71.png?width=750&#x26;format=png&#x26;optimize=medium\" width=\"744\" height=\"983\">\\n              </picture>\\n            </div>\\n          </div>\\n          <div>\\n            <div>mob-image</div>\\n            <div>\\n              <picture>\\n                <source type=\"image/webp\" srcset=\"./media_1e9846f9fe1b9a96a86cbd736399b74ccd636970c.png?width=2000&#x26;format=webply&#x26;optimize=medium\" media=\"(min-width: 600px)\">\\n                <source type=\"image/webp\" srcset=\"./media_1e9846f9fe1b9a96a86cbd736399b74ccd636970c.png?width=750&#x26;format=webply&#x26;optimize=medium\">\\n                <source type=\"image/png\" srcset=\"./media_1e9846f9fe1b9a96a86cbd736399b74ccd636970c.png?width=2000&#x26;format=png&#x26;optimize=medium\" media=\"(min-width: 600px)\">\\n                <img loading=\"lazy\" alt=\"\" src=\"./media_1e9846f9fe1b9a96a86cbd736399b74ccd636970c.png?width=750&#x26;format=png&#x26;optimize=medium\" width=\"390\" height=\"781\">\\n              </picture>\\n            </div>\\n          </div>\\n        </div>\\n      </div>\\n      <div>\\n        <div class=\"signup\">\\n          <div>\\n            <div></div>\\n          </div>\\n        </div>\\n        <div class=\"section-metadata\">\\n          <div>\\n            <div>sec-spacing</div>\\n            <div>section-xlarge</div>\\n          </div>\\n          <div>\\n            <div>sec-swoosh</div>\\n            <div>sec-swoosh-type5</div>\\n          </div>\\n          <div>\\n            <div>style</div>\\n            <div>bg-neutrals-20</div>\\n          </div>\\n          <div>\\n            <div>sec-inside-container</div>\\n            <div>true</div>\\n          </div>\\n          <div>\\n            <div>sec-width</div>\\n            <div>false</div>\\n          </div>\\n        </div>\\n      </div>\\n      <div>\\n        <div class=\"research-publications-cards\">\\n          <div>\\n            <div><strong>RESEARCH</strong> &#x26; PUBLICATIONS</div>\\n          </div>\\n          <div>\\n            <div>More Research &#x26; Publications</div>\\n          </div>\\n          <div>\\n            <div><a href=\"https://www.worldbank.org/en/research\">https://www.worldbank.org/en/research</a></div>\\n          </div>\\n          <div>\\n            <div>\\n              <picture>\\n                <source type=\"image/webp\" srcset=\"./media_1f38b1322781f734bb3bbcc93933d1e07dc893283.jpeg?width=2000&#x26;format=webply&#x26;optimize=medium\" media=\"(min-width: 600px)\">\\n                <source type=\"image/webp\" srcset=\"./media_1f38b1322781f734bb3bbcc93933d1e07dc893283.jpeg?width=750&#x26;format=webply&#x26;optimize=medium\">\\n                <source type=\"image/jpeg\" srcset=\"./media_1f38b1322781f734bb3bbcc93933d1e07dc893283.jpeg?width=2000&#x26;format=jpeg&#x26;optimize=medium\" media=\"(min-width: 600px)\">\\n                <img loading=\"lazy\" alt=\"\" src=\"./media_1f38b1322781f734bb3bbcc93933d1e07dc893283.jpeg?width=750&#x26;format=jpeg&#x26;optimize=medium\" width=\"220\" height=\"285\">\\n              </picture>\\n            </div>\\n            <div>World Bank Group Annual Report 2024</div>\\n            <div>World Bank Group Annual Report 2024</div>\\n            <div>Responding to intertwined challenges and becoming a faster, simpler, and more efficient World Bank Group.</div>\\n            <div><a href=\"https://www.worldbank.org/en/about/annual-report\">https://www.worldbank.org/en/about/annual-report</a></div>\\n            <div>Read Full Report</div>\\n            <div><a href=\"https://openknowledge.worldbank.org/entities/publication/60ebab07-6e84-498a-b389-3050ee6c160f\">https://openknowledge.worldbank.org/entities/publication/60ebab07-6e84-498a-b389-3050ee6c160f</a></div>\\n          </div>\\n          <div>\\n            <div>\\n              <picture>\\n                <source type=\"image/webp\" srcset=\"./media_145ca4f30e083caa3857772f22625bcd639b8bee1.jpeg?width=2000&#x26;format=webply&#x26;optimize=medium\" media=\"(min-width: 600px)\">\\n                <source type=\"image/webp\" srcset=\"./media_145ca4f30e083caa3857772f22625bcd639b8bee1.jpeg?width=750&#x26;format=webply&#x26;optimize=medium\">\\n                <source type=\"image/jpeg\" srcset=\"./media_145ca4f30e083caa3857772f22625bcd639b8bee1.jpeg?width=2000&#x26;format=jpeg&#x26;optimize=medium\" media=\"(min-width: 600px)\">\\n                <img loading=\"lazy\" alt=\"\" src=\"./media_145ca4f30e083caa3857772f22625bcd639b8bee1.jpeg?width=750&#x26;format=jpeg&#x26;optimize=medium\" width=\"231\" height=\"300\">\\n              </picture>\\n            </div>\\n            <div>International Debt Report 2024</div>\\n            <div>International Debt Report 2024</div>\\n            <div>Developing countries faced record debt costs as their interest payments climbed to a 20-year high in 2023.</div>\\n            <div><a href=\"https://www.worldbank.org/en/programs/debt-statistics\">https://www.worldbank.org/en/programs/debt-statistics</a></div>\\n            <div>Read Full Report</div>\\n            <div><a href=\"https://openknowledge.worldbank.org/handle/10986/42444\">https://openknowledge.worldbank.org/handle/10986/42444</a></div>\\n          </div>\\n        </div>\\n        <div class=\"section-metadata\">\\n          <div>\\n            <div>sec-spacing</div>\\n            <div>section-xhuge</div>\\n          </div>\\n          <div>\\n            <div>sec-spacing-bottom</div>\\n            <div>section-xhuge</div>\\n          </div>\\n          <div>\\n            <div>style</div>\\n            <div>default</div>\\n          </div>\\n        </div>\\n      </div>\\n      <div>\\n        <div class=\"columns columns-transform-teaser\">\\n          <div>\\n            <div>\\n              <p>Transforming Knowledge<br><strong>Transforming Lives</strong></p>\\n              <p>Capacity development and training for next-generation leaders</p>\\n              <p><a href=\"https://academy.worldbank.org/en/home\" title=\"Explore the Knowledge Academy\">Explore the Knowledge Academy</a></p>\\n              <p><strong><em><a href=\"https://wbg.edcast.com/\" title=\"Search More Courses\">Search More Courses</a></em></strong></p>\\n            </div>\\n            <div>\\n              <picture>\\n                <source type=\"image/webp\" srcset=\"./media_1f6ffd6d1d674646b88e6c70df06ebe5aee0bad93.png?width=2000&#x26;format=webply&#x26;optimize=medium\" media=\"(min-width: 600px)\">\\n                <source type=\"image/webp\" srcset=\"./media_1f6ffd6d1d674646b88e6c70df06ebe5aee0bad93.png?width=750&#x26;format=webply&#x26;optimize=medium\">\\n                <source type=\"image/png\" srcset=\"./media_1f6ffd6d1d674646b88e6c70df06ebe5aee0bad93.png?width=2000&#x26;format=png&#x26;optimize=medium\" media=\"(min-width: 600px)\">\\n                <img loading=\"lazy\" alt=\"Transforming Knowledge\" src=\"./media_1f6ffd6d1d674646b88e6c70df06ebe5aee0bad93.png?width=750&#x26;format=png&#x26;optimize=medium\" width=\"540\" height=\"592\">\\n              </picture>\\n            </div>\\n          </div>\\n        </div>\\n        <div class=\"section-metadata\">\\n          <div>\\n            <div>sec-spacing</div>\\n            <div>sec-spacing-default</div>\\n          </div>\\n          <div>\\n            <div>sec-swoosh</div>\\n            <div>sec-swoosh-none</div>\\n          </div>\\n          <div>\\n            <div>style</div>\\n            <div>bg-primary-blue-90</div>\\n          </div>\\n        </div>\\n      </div>\\n      <div>\\n        <div class=\"data-cards news-card-variation\">\\n          <div>\\n            <div><strong>EMPOWERING PEOPLE &#x26; COUNTRIES</strong> TO MAKE PROGRESS</div>\\n          </div>\\n          <div>\\n            <div><strong><em><a href=\"https://projects.worldbank.org/en/projects-operations/projects-home\">See all Projects</a></em></strong></div>\\n          </div>\\n          <div>\\n            <div>\\n              <p><strong>Explore by region</strong></p>\\n              <p><em><a href=\"https://projects.worldbank.org/en/projects-operations/projects-list?os=0&#x26;regionname_exact=Africa\" title=\"Africa\">Africa</a></em></p>\\n              <p><em><a href=\"https://projects.worldbank.org/en/projects-operations/projects-list?os=0&#x26;regionname_exact=East%20Asia%20And%20Pacific\" title=\"East Asia &#x26; Pacific\">East Asia &#x26; Pacific</a></em></p>\\n              <p><em><a href=\"https://projects.worldbank.org/en/projects-operations/projects-list?os=0&#x26;regionname_exact=Europe%20And%20Central%20Asia\" title=\"Europe &#x26; Central Asia\">Europe &#x26; Central Asia</a></em></p>\\n              <p><em><a href=\"https://projects.worldbank.org/en/projects-operations/projects-list?os=0&#x26;regionname_exact=Latin%20America%20And%20Caribbean\" title=\"Latin America &#x26; Caribbean\">Latin America &#x26; Caribbean</a></em></p>\\n              <p><em><a href=\"https://projects.worldbank.org/en/projects-operations/projects-list?os=0&#x26;regionname_exact=Middle%20East%20And%20North%20Africa\" title=\"Middle East &#x26; North Africa\">Middle East &#x26; North Africa</a></em></p>\\n              <p><em><a href=\"https://projects.worldbank.org/en/projects-operations/projects-list?os=0&#x26;regionname_exact=South%20Asia\" title=\"South Asia\">South Asia</a></em></p>\\n            </div>\\n          </div>\\n          <div>\\n            <div>world-bank:category/planet</div>\\n            <div>Scaling Up Locally-Led Climate Action</div>\\n            <div><a href=\"https://www.worldbank.org/en/results/2024/11/19/scaling-up-locally-led-climate-action-to-enable-community-resilience\">https://www.worldbank.org/en/results/2024/11/19/scaling-up-locally-led-climate-action-to-enable-community-resilience</a></div>\\n            <div>\\n              <picture>\\n                <source type=\"image/webp\" srcset=\"./media_17934620a4b62d6b2a3c95511f2d5884e78af374f.jpeg?width=2000&#x26;format=webply&#x26;optimize=medium\" media=\"(min-width: 600px)\">\\n                <source type=\"image/webp\" srcset=\"./media_17934620a4b62d6b2a3c95511f2d5884e78af374f.jpeg?width=750&#x26;format=webply&#x26;optimize=medium\">\\n                <source type=\"image/jpeg\" srcset=\"./media_17934620a4b62d6b2a3c95511f2d5884e78af374f.jpeg?width=2000&#x26;format=jpeg&#x26;optimize=medium\" media=\"(min-width: 600px)\">\\n                <img loading=\"lazy\" alt=\"\" src=\"./media_17934620a4b62d6b2a3c95511f2d5884e78af374f.jpeg?width=750&#x26;format=jpeg&#x26;optimize=medium\" width=\"799\" height=\"533\">\\n              </picture>\\n            </div>\\n            <div>People</div>\\n          </div>\\n          <div>\\n            <div>world-bank:category/prosperity</div>\\n            <div>Jordan: Economic Opportunities for Syrian Refugees and Host Communities</div>\\n            <div><a href=\"https://www.worldbank.org/en/results/2024/11/06/jordan-improving-economic-opportunities-for-syrian-refugees-and-host-communities\">https://www.worldbank.org/en/results/2024/11/06/jordan-improving-economic-opportunities-for-syrian-refugees-and-host-communities</a></div>\\n            <div>\\n              <picture>\\n                <source type=\"image/webp\" srcset=\"./media_10c0e430e6b4f5d0b63cd8628ed7277ae2835aa94.jpeg?width=2000&#x26;format=webply&#x26;optimize=medium\" media=\"(min-width: 600px)\">\\n                <source type=\"image/webp\" srcset=\"./media_10c0e430e6b4f5d0b63cd8628ed7277ae2835aa94.jpeg?width=750&#x26;format=webply&#x26;optimize=medium\">\\n                <source type=\"image/jpeg\" srcset=\"./media_10c0e430e6b4f5d0b63cd8628ed7277ae2835aa94.jpeg?width=2000&#x26;format=jpeg&#x26;optimize=medium\" media=\"(min-width: 600px)\">\\n                <img loading=\"lazy\" alt=\"\" src=\"./media_10c0e430e6b4f5d0b63cd8628ed7277ae2835aa94.jpeg?width=750&#x26;format=jpeg&#x26;optimize=medium\" width=\"799\" height=\"533\">\\n              </picture>\\n            </div>\\n            <div>People</div>\\n          </div>\\n          <div>\\n            <div>world-bank:category/people</div>\\n            <div>Latin America and the Caribbean: From Crisis Response to Health System Resilience</div>\\n            <div><a href=\"https://www.worldbank.org/en/results/2024/11/01/-transforming-health-the-world-bank-s-shift-from-crisis-response-to-building-health-system-resilience-in-latin-america-a\">https://www.worldbank.org/en/results/2024/11/01/-transforming-health-the-world-bank-s-shift-from-crisis-response-to-building-health-system-resilience-in-latin-america-a</a></div>\\n            <div>\\n              <picture>\\n                <source type=\"image/webp\" srcset=\"./media_1bfc7cad4bf1fcc59ed1b7b4fe456bed73edf7f38.jpeg?width=2000&#x26;format=webply&#x26;optimize=medium\" media=\"(min-width: 600px)\">\\n                <source type=\"image/webp\" srcset=\"./media_1bfc7cad4bf1fcc59ed1b7b4fe456bed73edf7f38.jpeg?width=750&#x26;format=webply&#x26;optimize=medium\">\\n                <source type=\"image/jpeg\" srcset=\"./media_1bfc7cad4bf1fcc59ed1b7b4fe456bed73edf7f38.jpeg?width=2000&#x26;format=jpeg&#x26;optimize=medium\" media=\"(min-width: 600px)\">\\n                <img loading=\"lazy\" alt=\"\" src=\"./media_1bfc7cad4bf1fcc59ed1b7b4fe456bed73edf7f38.jpeg?width=750&#x26;format=jpeg&#x26;optimize=medium\" width=\"780\" height=\"439\">\\n              </picture>\\n            </div>\\n            <div>Planet</div>\\n          </div>\\n        </div>\\n        <div class=\"section-metadata\">\\n          <div>\\n            <div>sec-spacing</div>\\n            <div>section-xhuge</div>\\n          </div>\\n          <div>\\n            <div>style</div>\\n            <div>default</div>\\n          </div>\\n        </div>\\n      </div>\\n      <div>\\n        <div class=\"columns halign-default column-layout-67-33 valign-bottom\">\\n          <div>\\n            <div>\\n              <h2 id=\"measuring-our-impact-and-progress\"><strong>Measuring Our Impact</strong> and Progress</h2>\\n              <p>Tracking our projects and results is a cornerstone of our work to become more transparent, accountable, and deliver impact that changes lives.</p>\\n            </div>\\n            <div><a href=\"https://scorecard.worldbank.org/en/home?intcid=ecr_hp_scorecard_en_ext\" title=\"See the Scorecard\">See the Scorecard</a></div>\\n          </div>\\n        </div>\\n        <div class=\"measuring-impact-cards\">\\n          <div>\\n            <div>protectionForThePoorest-people</div>\\n            <div>\\n              <picture>\\n                <source type=\"image/webp\" srcset=\"./media_1835c7014eed41d044781e045d002cccf9fa94f65.png?width=2000&#x26;format=webply&#x26;optimize=medium\" media=\"(min-width: 600px)\">\\n                <source type=\"image/webp\" srcset=\"./media_1835c7014eed41d044781e045d002cccf9fa94f65.png?width=750&#x26;format=webply&#x26;optimize=medium\">\\n                <source type=\"image/png\" srcset=\"./media_1835c7014eed41d044781e045d002cccf9fa94f65.png?width=2000&#x26;format=png&#x26;optimize=medium\" media=\"(min-width: 600px)\">\\n                <img loading=\"lazy\" alt=\"PROTECTION FOR THE POOREST\" src=\"./media_1835c7014eed41d044781e045d002cccf9fa94f65.png?width=750&#x26;format=png&#x26;optimize=medium\" width=\"1139\" height=\"1139\">\\n              </picture>\\n            </div>\\n            <div>221.8 million</div>\\n            <div>people directly benefited from social safety net operations</div>\\n            <div><a href=\"https://scorecard.worldbank.org/en/scorecard/protection-for-the-poorest\">https://scorecard.worldbank.org/en/scorecard/protection-for-the-poorest</a></div>\\n          </div>\\n          <div>\\n            <div>greenNBluePlanetNResilientPopulations-planet</div>\\n            <div>\\n              <picture>\\n                <source type=\"image/webp\" srcset=\"./media_13141f32680a6b7a116579b66e1bd69f230900b21.png?width=2000&#x26;format=webply&#x26;optimize=medium\" media=\"(min-width: 600px)\">\\n                <source type=\"image/webp\" srcset=\"./media_13141f32680a6b7a116579b66e1bd69f230900b21.png?width=750&#x26;format=webply&#x26;optimize=medium\">\\n                <source type=\"image/png\" srcset=\"./media_13141f32680a6b7a116579b66e1bd69f230900b21.png?width=2000&#x26;format=png&#x26;optimize=medium\" media=\"(min-width: 600px)\">\\n                <img loading=\"lazy\" alt=\"GREEN AND BLUE PLANET AND RESILIENT POPULATIONS\" src=\"./media_13141f32680a6b7a116579b66e1bd69f230900b21.png?width=750&#x26;format=png&#x26;optimize=medium\" width=\"1139\" height=\"1139\">\\n              </picture>\\n            </div>\\n            <div>123.2 million</div>\\n            <div>people supported with enhanced resilience to climate risks</div>\\n            <div><a href=\"https://scorecard.worldbank.org/en/scorecard/green-and-blue-planet-and-resilient-populations\">https://scorecard.worldbank.org/en/scorecard/green-and-blue-planet-and-resilient-populations</a></div>\\n          </div>\\n          <div>\\n            <div>connectedCommunities-infrastructure</div>\\n            <div>\\n              <picture>\\n                <source type=\"image/webp\" srcset=\"./media_19b8101cd18329de26ab83b0cfc147c6adca1bc73.png?width=2000&#x26;format=webply&#x26;optimize=medium\" media=\"(min-width: 600px)\">\\n                <source type=\"image/webp\" srcset=\"./media_19b8101cd18329de26ab83b0cfc147c6adca1bc73.png?width=750&#x26;format=webply&#x26;optimize=medium\">\\n                <source type=\"image/png\" srcset=\"./media_19b8101cd18329de26ab83b0cfc147c6adca1bc73.png?width=2000&#x26;format=png&#x26;optimize=medium\" media=\"(min-width: 600px)\">\\n                <img loading=\"lazy\" alt=\"CONNECTED COMMUNITIES\" src=\"./media_19b8101cd18329de26ab83b0cfc147c6adca1bc73.png?width=750&#x26;format=png&#x26;optimize=medium\" width=\"1139\" height=\"1139\">\\n              </picture>\\n            </div>\\n            <div>142.4 million</div>\\n            <div>people benefited from improved access to transportation</div>\\n            <div><a href=\"https://scorecard.worldbank.org/en/scorecard/connected-communities\">https://scorecard.worldbank.org/en/scorecard/connected-communities</a></div>\\n          </div>\\n        </div>\\n        <div class=\"section-metadata\">\\n          <div>\\n            <div>sec-spacing-bottom</div>\\n            <div>section-xhuge</div>\\n          </div>\\n          <div>\\n            <div>style</div>\\n            <div>default</div>\\n          </div>\\n        </div>\\n      </div>\\n      <div>\\n        <div class=\"explore-cards\">\\n          <div>\\n            <div>Explore Development Stories <strong>From Around the World</strong></div>\\n          </div>\\n          <div>\\n            <div>\\n              <picture>\\n                <source type=\"image/webp\" srcset=\"./media_1521f19a4f2cab7c93d676f7abb400ad9e862518d.jpeg?width=2000&#x26;format=webply&#x26;optimize=medium\" media=\"(min-width: 600px)\">\\n                <source type=\"image/webp\" srcset=\"./media_1521f19a4f2cab7c93d676f7abb400ad9e862518d.jpeg?width=750&#x26;format=webply&#x26;optimize=medium\">\\n                <source type=\"image/jpeg\" srcset=\"./media_1521f19a4f2cab7c93d676f7abb400ad9e862518d.jpeg?width=2000&#x26;format=jpeg&#x26;optimize=medium\" media=\"(min-width: 600px)\">\\n                <img loading=\"lazy\" alt=\"\" src=\"./media_1521f19a4f2cab7c93d676f7abb400ad9e862518d.jpeg?width=750&#x26;format=jpeg&#x26;optimize=medium\" width=\"799\" height=\"533\">\\n              </picture>\\n            </div>\\n            <div>Why and How Does IDA Work?</div>\\n            <div>Why and How Does IDA Work?</div>\\n            <div><a href=\"https://www.worldbank.org/en/news/podcast/2024/12/02/international-development-association-ida-replenishment-korea-podcast?intcid=ecr_hp_multimediaA_en_ext\">https://www.worldbank.org/en/news/podcast/2024/12/02/international-development-association-ida-replenishment-korea-podcast?intcid=ecr_hp_multimediaA_en_ext</a></div>\\n            <div>world-bank:content-type/audio</div>\\n            <div>world-bank:story-type/the-development-podcast</div>\\n          </div>\\n          <div>\\n            <div>\\n              <picture>\\n                <source type=\"image/webp\" srcset=\"./media_1225e69f17018d37b4fd4057cb00793167facca87.jpeg?width=2000&#x26;format=webply&#x26;optimize=medium\" media=\"(min-width: 600px)\">\\n                <source type=\"image/webp\" srcset=\"./media_1225e69f17018d37b4fd4057cb00793167facca87.jpeg?width=750&#x26;format=webply&#x26;optimize=medium\">\\n                <source type=\"image/jpeg\" srcset=\"./media_1225e69f17018d37b4fd4057cb00793167facca87.jpeg?width=2000&#x26;format=jpeg&#x26;optimize=medium\" media=\"(min-width: 600px)\">\\n                <img loading=\"lazy\" alt=\"\" src=\"./media_1225e69f17018d37b4fd4057cb00793167facca87.jpeg?width=750&#x26;format=jpeg&#x26;optimize=medium\" width=\"799\" height=\"533\">\\n              </picture>\\n            </div>\\n            <div>Cultivating Change in Zambia</div>\\n            <div>Cultivating Change in Zambia</div>\\n            <div><a href=\"https://www.worldbank.org/en/news/video/2024/10/31/building-africa-s-future-ida-s-impact-in-eastern-southern-africa?intcid=ecr_hp_multimediaB_en_ext\">https://www.worldbank.org/en/news/video/2024/10/31/building-africa-s-future-ida-s-impact-in-eastern-southern-africa?intcid=ecr_hp_multimediaB_en_ext</a></div>\\n            <div>world-bank:content-type/immersive story</div>\\n            <div>world-bank:story-type/immersive-stories</div>\\n          </div>\\n          <div>\\n            <div>\\n              <picture>\\n                <source type=\"image/webp\" srcset=\"./media_18fc3b4eeeefe123efd989e3ae6436d458fea1a86.jpeg?width=2000&#x26;format=webply&#x26;optimize=medium\" media=\"(min-width: 600px)\">\\n                <source type=\"image/webp\" srcset=\"./media_18fc3b4eeeefe123efd989e3ae6436d458fea1a86.jpeg?width=750&#x26;format=webply&#x26;optimize=medium\">\\n                <source type=\"image/jpeg\" srcset=\"./media_18fc3b4eeeefe123efd989e3ae6436d458fea1a86.jpeg?width=2000&#x26;format=jpeg&#x26;optimize=medium\" media=\"(min-width: 600px)\">\\n                <img loading=\"lazy\" alt=\"\" src=\"./media_18fc3b4eeeefe123efd989e3ae6436d458fea1a86.jpeg?width=750&#x26;format=jpeg&#x26;optimize=medium\" width=\"799\" height=\"533\">\\n              </picture>\\n            </div>\\n            <div>What\\'s the Key to Livable Cities?</div>\\n            <div>What\\'s the Key to Livable Cities?</div>\\n            <div><a href=\"https://www.worldbank.org/en/news/immersive-story/2024/11/21/keys-to-the-city?intcid=ecr_hp_multimediaC_en_ext\">https://www.worldbank.org/en/news/immersive-story/2024/11/21/keys-to-the-city?intcid=ecr_hp_multimediaC_en_ext</a></div>\\n            <div>world-bank:content-type/immersive story</div>\\n            <div>world-bank:story-type/immersive-stories</div>\\n          </div>\\n        </div>\\n        <div class=\"section-metadata\">\\n          <div>\\n            <div>sec-spacing</div>\\n            <div>section-xhuge</div>\\n          </div>\\n          <div>\\n            <div>sec-spacing-bottom</div>\\n            <div>section-xhuge</div>\\n          </div>\\n          <div>\\n            <div>sec-swoosh</div>\\n            <div>sec-swoosh-type2</div>\\n          </div>\\n          <div>\\n            <div>style</div>\\n            <div>bg-primary-blue-70</div>\\n          </div>\\n        </div>\\n      </div>\\n      <div>\\n        <div class=\"mini-cards\">\\n          <div>\\n            <div>Latest from the <strong>World Bank Group</strong></div>\\n          </div>\\n          <div>\\n            <div>\\n              <picture>\\n                <source type=\"image/webp\" srcset=\"./media_174fd796b3b19335bbc63e0826f6a3c4e0a5ee502.jpeg?width=2000&#x26;format=webply&#x26;optimize=medium\" media=\"(min-width: 600px)\">\\n                <source type=\"image/webp\" srcset=\"./media_174fd796b3b19335bbc63e0826f6a3c4e0a5ee502.jpeg?width=750&#x26;format=webply&#x26;optimize=medium\">\\n                <source type=\"image/jpeg\" srcset=\"./media_174fd796b3b19335bbc63e0826f6a3c4e0a5ee502.jpeg?width=2000&#x26;format=jpeg&#x26;optimize=medium\" media=\"(min-width: 600px)\">\\n                <img loading=\"lazy\" alt=\"\" src=\"./media_174fd796b3b19335bbc63e0826f6a3c4e0a5ee502.jpeg?width=750&#x26;format=jpeg&#x26;optimize=medium\" width=\"799\" height=\"533\">\\n              </picture>\\n            </div>\\n            <div>world-bank:content-type/feature story</div>\\n            <div>Cambodia\\'s Journey Towards Sustainable Rice Production</div>\\n            <div>December 9, 2024</div>\\n            <div></div>\\n            <div></div>\\n            <div><a href=\"https://www.ifc.org/en/stories/2024/paddies-to-plates-cambodia-s-journey-towards-sustainable-rice-production\">https://www.ifc.org/en/stories/2024/paddies-to-plates-cambodia-s-journey-towards-sustainable-rice-production</a></div>\\n            <div>Feature Story</div>\\n          </div>\\n          <div>\\n            <div>\\n              <picture>\\n                <source type=\"image/webp\" srcset=\"./media_1af994f7ff8ec3f246655cae4004cabddc475e695.jpeg?width=2000&#x26;format=webply&#x26;optimize=medium\" media=\"(min-width: 600px)\">\\n                <source type=\"image/webp\" srcset=\"./media_1af994f7ff8ec3f246655cae4004cabddc475e695.jpeg?width=750&#x26;format=webply&#x26;optimize=medium\">\\n                <source type=\"image/jpeg\" srcset=\"./media_1af994f7ff8ec3f246655cae4004cabddc475e695.jpeg?width=2000&#x26;format=jpeg&#x26;optimize=medium\" media=\"(min-width: 600px)\">\\n                <img loading=\"lazy\" alt=\"\" src=\"./media_1af994f7ff8ec3f246655cae4004cabddc475e695.jpeg?width=750&#x26;format=jpeg&#x26;optimize=medium\" width=\"799\" height=\"533\">\\n              </picture>\\n            </div>\\n            <div>world-bank:content-type/blog</div>\\n            <div>Insights on Gender-Based Violence Laws and Policies</div>\\n            <div>December 5, 2024</div>\\n            <div></div>\\n            <div></div>\\n            <div><a href=\"https://blogs.worldbank.org/en/opendata/ensuring-women-s-safety--data-insights-on-gender-based-violence-\">https://blogs.worldbank.org/en/opendata/ensuring-women-s-safety--data-insights-on-gender-based-violence-</a></div>\\n            <div>Blog</div>\\n          </div>\\n          <div>\\n            <div>\\n              <picture>\\n                <source type=\"image/webp\" srcset=\"./media_1b12df3660c66c133c36349e8f8c6ff723e876882.jpeg?width=2000&#x26;format=webply&#x26;optimize=medium\" media=\"(min-width: 600px)\">\\n                <source type=\"image/webp\" srcset=\"./media_1b12df3660c66c133c36349e8f8c6ff723e876882.jpeg?width=750&#x26;format=webply&#x26;optimize=medium\">\\n                <source type=\"image/jpeg\" srcset=\"./media_1b12df3660c66c133c36349e8f8c6ff723e876882.jpeg?width=2000&#x26;format=jpeg&#x26;optimize=medium\" media=\"(min-width: 600px)\">\\n                <img loading=\"lazy\" alt=\"\" src=\"./media_1b12df3660c66c133c36349e8f8c6ff723e876882.jpeg?width=750&#x26;format=jpeg&#x26;optimize=medium\" width=\"799\" height=\"533\">\\n              </picture>\\n            </div>\\n            <div>world-bank:content-type/feature story</div>\\n            <div>How C\\xc3\\xb4te d\\xe2\\x80\\x99Ivoire Is Reshaping Debt Management</div>\\n            <div>December 5, 2024</div>\\n            <div></div>\\n            <div></div>\\n            <div><a href=\"https://www.worldbank.org/en/news/feature/2024/12/05/a-pioneering-path-how-c-te-d-ivoire-is-reshaping-debt-management-to-invest-in-human-capital\">https://www.worldbank.org/en/news/feature/2024/12/05/a-pioneering-path-how-c-te-d-ivoire-is-reshaping-debt-management-to-invest-in-human-capital</a></div>\\n            <div>Feature Story</div>\\n          </div>\\n        </div>\\n        <div class=\"section-metadata\">\\n          <div>\\n            <div>sec-spacing</div>\\n            <div>section-xhuge</div>\\n          </div>\\n          <div>\\n            <div>style</div>\\n            <div>default</div>\\n          </div>\\n        </div>\\n      </div>\\n      <div>\\n        <div class=\"live-now normal-mode\">\\n          <div>\\n            <div></div>\\n          </div>\\n        </div>\\n        <div class=\"section-metadata\">\\n          <div>\\n            <div>style</div>\\n            <div>default</div>\\n          </div>\\n        </div>\\n      </div>\\n    </main>\\n    <footer></footer>\\n  </body>\\n</html>\\n'"
            ]
          },
          "metadata": {},
          "execution_count": 9
        }
      ],
      "source": [
        "response.content"
      ]
    },
    {
      "cell_type": "markdown",
      "metadata": {
        "id": "dy8ITk0sYtaK"
      },
      "source": [
        "## Interacting with APIs\n",
        "\n",
        "- `requests` works very similarly when you use it to interact with an API instead of a URL with HTML code in the response content\n",
        "- the only difference is that the content of an API request will be in a data-friendly format, such as JSON\n",
        "- JSON is a format for storing data that is commonly used to transfer data in the web\n",
        "- Python handles JSON data and reads them into lists or dictionaries (more on this below)\n",
        "\n",
        "Remember the API to get live data from the ISS? http://open-notify.org\n",
        "\n",
        "We'll retrieve information from one of its two endpoints:\n",
        "\n",
        "- Astronauts in space now - http://api.open-notify.org/astros.json"
      ]
    },
    {
      "cell_type": "code",
      "execution_count": 10,
      "metadata": {
        "id": "RoetrZuxYtaK"
      },
      "outputs": [],
      "source": [
        "url = 'http://api.open-notify.org/astros.json'"
      ]
    },
    {
      "cell_type": "code",
      "execution_count": 11,
      "metadata": {
        "id": "zwTVeF3MYtaL"
      },
      "outputs": [],
      "source": [
        "response = requests.get(url)"
      ]
    },
    {
      "cell_type": "code",
      "execution_count": 12,
      "metadata": {
        "id": "QaWfpT16YtaL",
        "outputId": "55865a47-44d1-43ef-c3d3-f4ad5ba5823a",
        "colab": {
          "base_uri": "https://localhost:8080/"
        }
      },
      "outputs": [
        {
          "output_type": "execute_result",
          "data": {
            "text/plain": [
              "200"
            ]
          },
          "metadata": {},
          "execution_count": 12
        }
      ],
      "source": [
        "response.status_code"
      ]
    },
    {
      "cell_type": "code",
      "execution_count": 13,
      "metadata": {
        "id": "t1Y63YD_YtaM",
        "outputId": "b2dce5a2-feb0-48ff-c0fa-311c950e659c",
        "colab": {
          "base_uri": "https://localhost:8080/"
        }
      },
      "outputs": [
        {
          "output_type": "execute_result",
          "data": {
            "text/plain": [
              "b'{\"people\": [{\"craft\": \"ISS\", \"name\": \"Oleg Kononenko\"}, {\"craft\": \"ISS\", \"name\": \"Nikolai Chub\"}, {\"craft\": \"ISS\", \"name\": \"Tracy Caldwell Dyson\"}, {\"craft\": \"ISS\", \"name\": \"Matthew Dominick\"}, {\"craft\": \"ISS\", \"name\": \"Michael Barratt\"}, {\"craft\": \"ISS\", \"name\": \"Jeanette Epps\"}, {\"craft\": \"ISS\", \"name\": \"Alexander Grebenkin\"}, {\"craft\": \"ISS\", \"name\": \"Butch Wilmore\"}, {\"craft\": \"ISS\", \"name\": \"Sunita Williams\"}, {\"craft\": \"Tiangong\", \"name\": \"Li Guangsu\"}, {\"craft\": \"Tiangong\", \"name\": \"Li Cong\"}, {\"craft\": \"Tiangong\", \"name\": \"Ye Guangfu\"}], \"number\": 12, \"message\": \"success\"}'"
            ]
          },
          "metadata": {},
          "execution_count": 13
        }
      ],
      "source": [
        "response.content"
      ]
    },
    {
      "cell_type": "markdown",
      "metadata": {
        "id": "e1QZvs6sYtaM"
      },
      "source": [
        "Response variable types from `requests` have the `json()` method which works very efficiently to convert JSON contents of a response into Python dictionaries or lists, depending on the format of the JSON data."
      ]
    },
    {
      "cell_type": "code",
      "execution_count": 15,
      "metadata": {
        "id": "ZKofltxSYtaM",
        "outputId": "aa9c0c5c-fa22-4047-ca50-8ea95d0ef304",
        "colab": {
          "base_uri": "https://localhost:8080/"
        }
      },
      "outputs": [
        {
          "output_type": "execute_result",
          "data": {
            "text/plain": [
              "{'people': [{'craft': 'ISS', 'name': 'Oleg Kononenko'},\n",
              "  {'craft': 'ISS', 'name': 'Nikolai Chub'},\n",
              "  {'craft': 'ISS', 'name': 'Tracy Caldwell Dyson'},\n",
              "  {'craft': 'ISS', 'name': 'Matthew Dominick'},\n",
              "  {'craft': 'ISS', 'name': 'Michael Barratt'},\n",
              "  {'craft': 'ISS', 'name': 'Jeanette Epps'},\n",
              "  {'craft': 'ISS', 'name': 'Alexander Grebenkin'},\n",
              "  {'craft': 'ISS', 'name': 'Butch Wilmore'},\n",
              "  {'craft': 'ISS', 'name': 'Sunita Williams'},\n",
              "  {'craft': 'Tiangong', 'name': 'Li Guangsu'},\n",
              "  {'craft': 'Tiangong', 'name': 'Li Cong'},\n",
              "  {'craft': 'Tiangong', 'name': 'Ye Guangfu'}],\n",
              " 'number': 12,\n",
              " 'message': 'success'}"
            ]
          },
          "metadata": {},
          "execution_count": 15
        }
      ],
      "source": [
        "response.json()"
      ]
    },
    {
      "cell_type": "markdown",
      "metadata": {
        "id": "2g8aZsi0YtaM"
      },
      "source": [
        "The result of `response.json()` is a Python dictionary for this example."
      ]
    },
    {
      "cell_type": "code",
      "execution_count": 16,
      "metadata": {
        "id": "zIDbppFSYtaN",
        "outputId": "72a61978-e091-4f64-becd-11e8a56cfef3",
        "colab": {
          "base_uri": "https://localhost:8080/"
        }
      },
      "outputs": [
        {
          "output_type": "execute_result",
          "data": {
            "text/plain": [
              "dict"
            ]
          },
          "metadata": {},
          "execution_count": 16
        }
      ],
      "source": [
        "data_dic = response.json()\n",
        "type(data_dic)"
      ]
    },
    {
      "cell_type": "markdown",
      "metadata": {
        "id": "g__cIQhyYtaN"
      },
      "source": [
        "Now that the response content is saved into a dictionary, we can explore more about its content."
      ]
    },
    {
      "cell_type": "code",
      "execution_count": 17,
      "metadata": {
        "id": "K2sUejI6YtaN",
        "outputId": "36d1ec15-c799-4e74-93c3-1499bb2d0194",
        "colab": {
          "base_uri": "https://localhost:8080/"
        }
      },
      "outputs": [
        {
          "output_type": "execute_result",
          "data": {
            "text/plain": [
              "dict_keys(['people', 'number', 'message'])"
            ]
          },
          "metadata": {},
          "execution_count": 17
        }
      ],
      "source": [
        "data_dic.keys()"
      ]
    },
    {
      "cell_type": "code",
      "execution_count": 18,
      "metadata": {
        "id": "_f0yLjOUYtaN",
        "outputId": "5c05bf9c-e055-4b63-c645-f8a006eb2426",
        "colab": {
          "base_uri": "https://localhost:8080/"
        }
      },
      "outputs": [
        {
          "output_type": "execute_result",
          "data": {
            "text/plain": [
              "12"
            ]
          },
          "metadata": {},
          "execution_count": 18
        }
      ],
      "source": [
        "data_dic['number']"
      ]
    },
    {
      "cell_type": "code",
      "execution_count": 19,
      "metadata": {
        "id": "wU_6JbQpYtaO",
        "outputId": "ac059f6c-aea4-450d-f447-5d4e7488aabe",
        "colab": {
          "base_uri": "https://localhost:8080/"
        }
      },
      "outputs": [
        {
          "output_type": "execute_result",
          "data": {
            "text/plain": [
              "[{'craft': 'ISS', 'name': 'Oleg Kononenko'},\n",
              " {'craft': 'ISS', 'name': 'Nikolai Chub'},\n",
              " {'craft': 'ISS', 'name': 'Tracy Caldwell Dyson'},\n",
              " {'craft': 'ISS', 'name': 'Matthew Dominick'},\n",
              " {'craft': 'ISS', 'name': 'Michael Barratt'},\n",
              " {'craft': 'ISS', 'name': 'Jeanette Epps'},\n",
              " {'craft': 'ISS', 'name': 'Alexander Grebenkin'},\n",
              " {'craft': 'ISS', 'name': 'Butch Wilmore'},\n",
              " {'craft': 'ISS', 'name': 'Sunita Williams'},\n",
              " {'craft': 'Tiangong', 'name': 'Li Guangsu'},\n",
              " {'craft': 'Tiangong', 'name': 'Li Cong'},\n",
              " {'craft': 'Tiangong', 'name': 'Ye Guangfu'}]"
            ]
          },
          "metadata": {},
          "execution_count": 19
        }
      ],
      "source": [
        "data_dic['people']"
      ]
    },
    {
      "cell_type": "code",
      "execution_count": null,
      "metadata": {
        "id": "phXeeDmjYtaO"
      },
      "outputs": [],
      "source": [
        "data_dic['message']"
      ]
    },
    {
      "cell_type": "markdown",
      "metadata": {
        "id": "MER61gIZYtaO"
      },
      "source": [
        "Furthermore, we can transform the list inside `data['people']` into a Pandas dataframe for further analysis."
      ]
    },
    {
      "cell_type": "code",
      "execution_count": 20,
      "metadata": {
        "id": "whz2Q8DlYtaO"
      },
      "outputs": [],
      "source": [
        "import pandas as pd"
      ]
    },
    {
      "cell_type": "code",
      "execution_count": 21,
      "metadata": {
        "id": "_5LNv2OSYtaO"
      },
      "outputs": [],
      "source": [
        "df = pd.DataFrame(data=data_dic['people'])"
      ]
    },
    {
      "cell_type": "code",
      "execution_count": 22,
      "metadata": {
        "id": "hQAQ1mqXYtaP",
        "outputId": "5245ff65-8ced-453f-e7ff-608532d74b52",
        "colab": {
          "base_uri": "https://localhost:8080/",
          "height": 426
        }
      },
      "outputs": [
        {
          "output_type": "execute_result",
          "data": {
            "text/plain": [
              "       craft                  name\n",
              "0        ISS        Oleg Kononenko\n",
              "1        ISS          Nikolai Chub\n",
              "2        ISS  Tracy Caldwell Dyson\n",
              "3        ISS      Matthew Dominick\n",
              "4        ISS       Michael Barratt\n",
              "5        ISS         Jeanette Epps\n",
              "6        ISS   Alexander Grebenkin\n",
              "7        ISS         Butch Wilmore\n",
              "8        ISS       Sunita Williams\n",
              "9   Tiangong            Li Guangsu\n",
              "10  Tiangong               Li Cong\n",
              "11  Tiangong            Ye Guangfu"
            ],
            "text/html": [
              "\n",
              "  <div id=\"df-b2ebdf6c-20ac-4cc5-b466-53b81f5658f4\" class=\"colab-df-container\">\n",
              "    <div>\n",
              "<style scoped>\n",
              "    .dataframe tbody tr th:only-of-type {\n",
              "        vertical-align: middle;\n",
              "    }\n",
              "\n",
              "    .dataframe tbody tr th {\n",
              "        vertical-align: top;\n",
              "    }\n",
              "\n",
              "    .dataframe thead th {\n",
              "        text-align: right;\n",
              "    }\n",
              "</style>\n",
              "<table border=\"1\" class=\"dataframe\">\n",
              "  <thead>\n",
              "    <tr style=\"text-align: right;\">\n",
              "      <th></th>\n",
              "      <th>craft</th>\n",
              "      <th>name</th>\n",
              "    </tr>\n",
              "  </thead>\n",
              "  <tbody>\n",
              "    <tr>\n",
              "      <th>0</th>\n",
              "      <td>ISS</td>\n",
              "      <td>Oleg Kononenko</td>\n",
              "    </tr>\n",
              "    <tr>\n",
              "      <th>1</th>\n",
              "      <td>ISS</td>\n",
              "      <td>Nikolai Chub</td>\n",
              "    </tr>\n",
              "    <tr>\n",
              "      <th>2</th>\n",
              "      <td>ISS</td>\n",
              "      <td>Tracy Caldwell Dyson</td>\n",
              "    </tr>\n",
              "    <tr>\n",
              "      <th>3</th>\n",
              "      <td>ISS</td>\n",
              "      <td>Matthew Dominick</td>\n",
              "    </tr>\n",
              "    <tr>\n",
              "      <th>4</th>\n",
              "      <td>ISS</td>\n",
              "      <td>Michael Barratt</td>\n",
              "    </tr>\n",
              "    <tr>\n",
              "      <th>5</th>\n",
              "      <td>ISS</td>\n",
              "      <td>Jeanette Epps</td>\n",
              "    </tr>\n",
              "    <tr>\n",
              "      <th>6</th>\n",
              "      <td>ISS</td>\n",
              "      <td>Alexander Grebenkin</td>\n",
              "    </tr>\n",
              "    <tr>\n",
              "      <th>7</th>\n",
              "      <td>ISS</td>\n",
              "      <td>Butch Wilmore</td>\n",
              "    </tr>\n",
              "    <tr>\n",
              "      <th>8</th>\n",
              "      <td>ISS</td>\n",
              "      <td>Sunita Williams</td>\n",
              "    </tr>\n",
              "    <tr>\n",
              "      <th>9</th>\n",
              "      <td>Tiangong</td>\n",
              "      <td>Li Guangsu</td>\n",
              "    </tr>\n",
              "    <tr>\n",
              "      <th>10</th>\n",
              "      <td>Tiangong</td>\n",
              "      <td>Li Cong</td>\n",
              "    </tr>\n",
              "    <tr>\n",
              "      <th>11</th>\n",
              "      <td>Tiangong</td>\n",
              "      <td>Ye Guangfu</td>\n",
              "    </tr>\n",
              "  </tbody>\n",
              "</table>\n",
              "</div>\n",
              "    <div class=\"colab-df-buttons\">\n",
              "\n",
              "  <div class=\"colab-df-container\">\n",
              "    <button class=\"colab-df-convert\" onclick=\"convertToInteractive('df-b2ebdf6c-20ac-4cc5-b466-53b81f5658f4')\"\n",
              "            title=\"Convert this dataframe to an interactive table.\"\n",
              "            style=\"display:none;\">\n",
              "\n",
              "  <svg xmlns=\"http://www.w3.org/2000/svg\" height=\"24px\" viewBox=\"0 -960 960 960\">\n",
              "    <path d=\"M120-120v-720h720v720H120Zm60-500h600v-160H180v160Zm220 220h160v-160H400v160Zm0 220h160v-160H400v160ZM180-400h160v-160H180v160Zm440 0h160v-160H620v160ZM180-180h160v-160H180v160Zm440 0h160v-160H620v160Z\"/>\n",
              "  </svg>\n",
              "    </button>\n",
              "\n",
              "  <style>\n",
              "    .colab-df-container {\n",
              "      display:flex;\n",
              "      gap: 12px;\n",
              "    }\n",
              "\n",
              "    .colab-df-convert {\n",
              "      background-color: #E8F0FE;\n",
              "      border: none;\n",
              "      border-radius: 50%;\n",
              "      cursor: pointer;\n",
              "      display: none;\n",
              "      fill: #1967D2;\n",
              "      height: 32px;\n",
              "      padding: 0 0 0 0;\n",
              "      width: 32px;\n",
              "    }\n",
              "\n",
              "    .colab-df-convert:hover {\n",
              "      background-color: #E2EBFA;\n",
              "      box-shadow: 0px 1px 2px rgba(60, 64, 67, 0.3), 0px 1px 3px 1px rgba(60, 64, 67, 0.15);\n",
              "      fill: #174EA6;\n",
              "    }\n",
              "\n",
              "    .colab-df-buttons div {\n",
              "      margin-bottom: 4px;\n",
              "    }\n",
              "\n",
              "    [theme=dark] .colab-df-convert {\n",
              "      background-color: #3B4455;\n",
              "      fill: #D2E3FC;\n",
              "    }\n",
              "\n",
              "    [theme=dark] .colab-df-convert:hover {\n",
              "      background-color: #434B5C;\n",
              "      box-shadow: 0px 1px 3px 1px rgba(0, 0, 0, 0.15);\n",
              "      filter: drop-shadow(0px 1px 2px rgba(0, 0, 0, 0.3));\n",
              "      fill: #FFFFFF;\n",
              "    }\n",
              "  </style>\n",
              "\n",
              "    <script>\n",
              "      const buttonEl =\n",
              "        document.querySelector('#df-b2ebdf6c-20ac-4cc5-b466-53b81f5658f4 button.colab-df-convert');\n",
              "      buttonEl.style.display =\n",
              "        google.colab.kernel.accessAllowed ? 'block' : 'none';\n",
              "\n",
              "      async function convertToInteractive(key) {\n",
              "        const element = document.querySelector('#df-b2ebdf6c-20ac-4cc5-b466-53b81f5658f4');\n",
              "        const dataTable =\n",
              "          await google.colab.kernel.invokeFunction('convertToInteractive',\n",
              "                                                    [key], {});\n",
              "        if (!dataTable) return;\n",
              "\n",
              "        const docLinkHtml = 'Like what you see? Visit the ' +\n",
              "          '<a target=\"_blank\" href=https://colab.research.google.com/notebooks/data_table.ipynb>data table notebook</a>'\n",
              "          + ' to learn more about interactive tables.';\n",
              "        element.innerHTML = '';\n",
              "        dataTable['output_type'] = 'display_data';\n",
              "        await google.colab.output.renderOutput(dataTable, element);\n",
              "        const docLink = document.createElement('div');\n",
              "        docLink.innerHTML = docLinkHtml;\n",
              "        element.appendChild(docLink);\n",
              "      }\n",
              "    </script>\n",
              "  </div>\n",
              "\n",
              "\n",
              "<div id=\"df-b2ec6300-6977-4d23-be6c-230779f9bb79\">\n",
              "  <button class=\"colab-df-quickchart\" onclick=\"quickchart('df-b2ec6300-6977-4d23-be6c-230779f9bb79')\"\n",
              "            title=\"Suggest charts\"\n",
              "            style=\"display:none;\">\n",
              "\n",
              "<svg xmlns=\"http://www.w3.org/2000/svg\" height=\"24px\"viewBox=\"0 0 24 24\"\n",
              "     width=\"24px\">\n",
              "    <g>\n",
              "        <path d=\"M19 3H5c-1.1 0-2 .9-2 2v14c0 1.1.9 2 2 2h14c1.1 0 2-.9 2-2V5c0-1.1-.9-2-2-2zM9 17H7v-7h2v7zm4 0h-2V7h2v10zm4 0h-2v-4h2v4z\"/>\n",
              "    </g>\n",
              "</svg>\n",
              "  </button>\n",
              "\n",
              "<style>\n",
              "  .colab-df-quickchart {\n",
              "      --bg-color: #E8F0FE;\n",
              "      --fill-color: #1967D2;\n",
              "      --hover-bg-color: #E2EBFA;\n",
              "      --hover-fill-color: #174EA6;\n",
              "      --disabled-fill-color: #AAA;\n",
              "      --disabled-bg-color: #DDD;\n",
              "  }\n",
              "\n",
              "  [theme=dark] .colab-df-quickchart {\n",
              "      --bg-color: #3B4455;\n",
              "      --fill-color: #D2E3FC;\n",
              "      --hover-bg-color: #434B5C;\n",
              "      --hover-fill-color: #FFFFFF;\n",
              "      --disabled-bg-color: #3B4455;\n",
              "      --disabled-fill-color: #666;\n",
              "  }\n",
              "\n",
              "  .colab-df-quickchart {\n",
              "    background-color: var(--bg-color);\n",
              "    border: none;\n",
              "    border-radius: 50%;\n",
              "    cursor: pointer;\n",
              "    display: none;\n",
              "    fill: var(--fill-color);\n",
              "    height: 32px;\n",
              "    padding: 0;\n",
              "    width: 32px;\n",
              "  }\n",
              "\n",
              "  .colab-df-quickchart:hover {\n",
              "    background-color: var(--hover-bg-color);\n",
              "    box-shadow: 0 1px 2px rgba(60, 64, 67, 0.3), 0 1px 3px 1px rgba(60, 64, 67, 0.15);\n",
              "    fill: var(--button-hover-fill-color);\n",
              "  }\n",
              "\n",
              "  .colab-df-quickchart-complete:disabled,\n",
              "  .colab-df-quickchart-complete:disabled:hover {\n",
              "    background-color: var(--disabled-bg-color);\n",
              "    fill: var(--disabled-fill-color);\n",
              "    box-shadow: none;\n",
              "  }\n",
              "\n",
              "  .colab-df-spinner {\n",
              "    border: 2px solid var(--fill-color);\n",
              "    border-color: transparent;\n",
              "    border-bottom-color: var(--fill-color);\n",
              "    animation:\n",
              "      spin 1s steps(1) infinite;\n",
              "  }\n",
              "\n",
              "  @keyframes spin {\n",
              "    0% {\n",
              "      border-color: transparent;\n",
              "      border-bottom-color: var(--fill-color);\n",
              "      border-left-color: var(--fill-color);\n",
              "    }\n",
              "    20% {\n",
              "      border-color: transparent;\n",
              "      border-left-color: var(--fill-color);\n",
              "      border-top-color: var(--fill-color);\n",
              "    }\n",
              "    30% {\n",
              "      border-color: transparent;\n",
              "      border-left-color: var(--fill-color);\n",
              "      border-top-color: var(--fill-color);\n",
              "      border-right-color: var(--fill-color);\n",
              "    }\n",
              "    40% {\n",
              "      border-color: transparent;\n",
              "      border-right-color: var(--fill-color);\n",
              "      border-top-color: var(--fill-color);\n",
              "    }\n",
              "    60% {\n",
              "      border-color: transparent;\n",
              "      border-right-color: var(--fill-color);\n",
              "    }\n",
              "    80% {\n",
              "      border-color: transparent;\n",
              "      border-right-color: var(--fill-color);\n",
              "      border-bottom-color: var(--fill-color);\n",
              "    }\n",
              "    90% {\n",
              "      border-color: transparent;\n",
              "      border-bottom-color: var(--fill-color);\n",
              "    }\n",
              "  }\n",
              "</style>\n",
              "\n",
              "  <script>\n",
              "    async function quickchart(key) {\n",
              "      const quickchartButtonEl =\n",
              "        document.querySelector('#' + key + ' button');\n",
              "      quickchartButtonEl.disabled = true;  // To prevent multiple clicks.\n",
              "      quickchartButtonEl.classList.add('colab-df-spinner');\n",
              "      try {\n",
              "        const charts = await google.colab.kernel.invokeFunction(\n",
              "            'suggestCharts', [key], {});\n",
              "      } catch (error) {\n",
              "        console.error('Error during call to suggestCharts:', error);\n",
              "      }\n",
              "      quickchartButtonEl.classList.remove('colab-df-spinner');\n",
              "      quickchartButtonEl.classList.add('colab-df-quickchart-complete');\n",
              "    }\n",
              "    (() => {\n",
              "      let quickchartButtonEl =\n",
              "        document.querySelector('#df-b2ec6300-6977-4d23-be6c-230779f9bb79 button');\n",
              "      quickchartButtonEl.style.display =\n",
              "        google.colab.kernel.accessAllowed ? 'block' : 'none';\n",
              "    })();\n",
              "  </script>\n",
              "</div>\n",
              "\n",
              "  <div id=\"id_2fe45da0-c0ce-430c-81e2-d0e437710345\">\n",
              "    <style>\n",
              "      .colab-df-generate {\n",
              "        background-color: #E8F0FE;\n",
              "        border: none;\n",
              "        border-radius: 50%;\n",
              "        cursor: pointer;\n",
              "        display: none;\n",
              "        fill: #1967D2;\n",
              "        height: 32px;\n",
              "        padding: 0 0 0 0;\n",
              "        width: 32px;\n",
              "      }\n",
              "\n",
              "      .colab-df-generate:hover {\n",
              "        background-color: #E2EBFA;\n",
              "        box-shadow: 0px 1px 2px rgba(60, 64, 67, 0.3), 0px 1px 3px 1px rgba(60, 64, 67, 0.15);\n",
              "        fill: #174EA6;\n",
              "      }\n",
              "\n",
              "      [theme=dark] .colab-df-generate {\n",
              "        background-color: #3B4455;\n",
              "        fill: #D2E3FC;\n",
              "      }\n",
              "\n",
              "      [theme=dark] .colab-df-generate:hover {\n",
              "        background-color: #434B5C;\n",
              "        box-shadow: 0px 1px 3px 1px rgba(0, 0, 0, 0.15);\n",
              "        filter: drop-shadow(0px 1px 2px rgba(0, 0, 0, 0.3));\n",
              "        fill: #FFFFFF;\n",
              "      }\n",
              "    </style>\n",
              "    <button class=\"colab-df-generate\" onclick=\"generateWithVariable('df')\"\n",
              "            title=\"Generate code using this dataframe.\"\n",
              "            style=\"display:none;\">\n",
              "\n",
              "  <svg xmlns=\"http://www.w3.org/2000/svg\" height=\"24px\"viewBox=\"0 0 24 24\"\n",
              "       width=\"24px\">\n",
              "    <path d=\"M7,19H8.4L18.45,9,17,7.55,7,17.6ZM5,21V16.75L18.45,3.32a2,2,0,0,1,2.83,0l1.4,1.43a1.91,1.91,0,0,1,.58,1.4,1.91,1.91,0,0,1-.58,1.4L9.25,21ZM18.45,9,17,7.55Zm-12,3A5.31,5.31,0,0,0,4.9,8.1,5.31,5.31,0,0,0,1,6.5,5.31,5.31,0,0,0,4.9,4.9,5.31,5.31,0,0,0,6.5,1,5.31,5.31,0,0,0,8.1,4.9,5.31,5.31,0,0,0,12,6.5,5.46,5.46,0,0,0,6.5,12Z\"/>\n",
              "  </svg>\n",
              "    </button>\n",
              "    <script>\n",
              "      (() => {\n",
              "      const buttonEl =\n",
              "        document.querySelector('#id_2fe45da0-c0ce-430c-81e2-d0e437710345 button.colab-df-generate');\n",
              "      buttonEl.style.display =\n",
              "        google.colab.kernel.accessAllowed ? 'block' : 'none';\n",
              "\n",
              "      buttonEl.onclick = () => {\n",
              "        google.colab.notebook.generateWithVariable('df');\n",
              "      }\n",
              "      })();\n",
              "    </script>\n",
              "  </div>\n",
              "\n",
              "    </div>\n",
              "  </div>\n"
            ],
            "application/vnd.google.colaboratory.intrinsic+json": {
              "type": "dataframe",
              "variable_name": "df",
              "summary": "{\n  \"name\": \"df\",\n  \"rows\": 12,\n  \"fields\": [\n    {\n      \"column\": \"craft\",\n      \"properties\": {\n        \"dtype\": \"category\",\n        \"num_unique_values\": 2,\n        \"samples\": [\n          \"Tiangong\",\n          \"ISS\"\n        ],\n        \"semantic_type\": \"\",\n        \"description\": \"\"\n      }\n    },\n    {\n      \"column\": \"name\",\n      \"properties\": {\n        \"dtype\": \"string\",\n        \"num_unique_values\": 12,\n        \"samples\": [\n          \"Li Cong\",\n          \"Li Guangsu\"\n        ],\n        \"semantic_type\": \"\",\n        \"description\": \"\"\n      }\n    }\n  ]\n}"
            }
          },
          "metadata": {},
          "execution_count": 22
        }
      ],
      "source": [
        "df"
      ]
    },
    {
      "cell_type": "markdown",
      "metadata": {
        "id": "hjJ53_nzYtaP"
      },
      "source": [
        "**Note:** the content and format of the JSON data in the response is specific to the API endpoint you access."
      ]
    },
    {
      "cell_type": "markdown",
      "metadata": {
        "id": "aYjWLWn2YtaP"
      },
      "source": [
        "# Exercise 1\n",
        "\n",
        "Create a function that repeats the steps shown above and returns the latitude and longitude of the current location of the ISS. The location endpoint is this: `http://api.open-notify.org/iss-now.json`.\n",
        "\n",
        "Suggested steps:\n",
        "\n",
        "1. use `requests` to send a request for this URL and store the result in a variable\n",
        "2. If the response was not successful, return `None`\n",
        "3. If it was, extract the response content into a dictionary\n",
        "4. Extract the latitude and longitude from the dictionary and return them in your function"
      ]
    },
    {
      "cell_type": "code",
      "execution_count": null,
      "metadata": {
        "id": "wkhckxTTYtaP"
      },
      "outputs": [],
      "source": [
        "# Note: this function should not take any inputs. Leave the parentheses empty after the function name\n",
        "def iss_location():\n",
        "\n",
        "    # === REPLACE THE EMPTY STRINGS AND None BELOW TO ADD YOUR SOLUTION ===\n",
        "\n",
        "    url = 'http://api.open-notify.org/astros.json'            # 1. Add URL here\n",
        "    response = requests.get()     # 2. use requests to get the response of the URL\n",
        "\n",
        "    if response.status_code == 200:\n",
        "\n",
        "        data = response.json()         # 3. Extract the data from response with the json() method\n",
        "        latitude = float(data['issposition']['latitude'])     # 4. Extract the latitude from the data dictionary\n",
        "        longitude = float(data['issposition']['longitude'])   # 5. Extract the logitude from the data dictionary\n",
        "\n",
        "        return latitude, longitude\n",
        "\n",
        "    # === DO NOT MODIFY THE FUNCTION FROM THIS POINT ON ===\n",
        "    else:\n",
        "        print('Request failed!')\n",
        "        return None"
      ]
    },
    {
      "cell_type": "markdown",
      "metadata": {
        "id": "8XM99FX4YtaQ"
      },
      "source": [
        "Remove the first line of the following block and run it to verify that your solution works. It should not return an error."
      ]
    },
    {
      "cell_type": "code",
      "execution_count": null,
      "metadata": {
        "id": "tJgB-CF5Ytaa"
      },
      "outputs": [],
      "source": [
        "%%script echo Remove this line after filling in your own code\n",
        "\n",
        "position = iss_location()\n",
        "assert isinstance(position[0], float) and isinstance(position[1], float)"
      ]
    },
    {
      "cell_type": "markdown",
      "metadata": {
        "id": "oxrubOiwYtab"
      },
      "source": [
        "# Coding a simple API client\n",
        "\n",
        "- An **API client** is a piece of code that facilitates the interaction with an API\n",
        "- In the example with the astronauts, we had to go through several coding steps to execute the request, obtain the JSON data, and load it into a Pandas data frame\n",
        "- All of those steps could be packed in a Python function that simplified the process of interacting with the API. That function is an API client\n",
        "- In fact, in exercise 1 you were inadvertently creating an API client!\n",
        "- Most APIs require custom information to be passed in the URL. This can be incorporated to an API client, as in the examples below\n",
        "\n",
        "## Example: URL-based parameters\n",
        "\n",
        "We previously introduced the geoBoundaries API example. After exploring this API and its documentation, we knew that it takes URLs with the following generic form:\n",
        "\n",
        "`https://www.geoboundaries.org/api/current/gbOpen/[3-letter-iso-code]/[admin-level]/`\n",
        "\n",
        "Then, we can build a function that takes the 3-letter ISO code and the administative boundaries level as parameters to automate API calls."
      ]
    },
    {
      "cell_type": "code",
      "execution_count": null,
      "metadata": {
        "id": "fFD81-72Ytab"
      },
      "outputs": [],
      "source": [
        "def fetch_geoboundaries_data(country_code, admin_level):\n",
        "\n",
        "    endpoint = 'https://www.geoboundaries.org/api/current/gbOpen/'\n",
        "    url = endpoint + country_code + '/ADM' + str(admin_level)\n",
        "    response = requests.get(url)\n",
        "\n",
        "    if response.status_code == 200:\n",
        "\n",
        "        data = response.json()\n",
        "        return data\n",
        "\n",
        "    else:\n",
        "\n",
        "        print('Request failed!')\n",
        "        return None"
      ]
    },
    {
      "cell_type": "markdown",
      "metadata": {
        "id": "_byM-R1bYtac"
      },
      "source": [
        "We can use our new function to fetch admin-1 level data from Kenya."
      ]
    },
    {
      "cell_type": "code",
      "execution_count": null,
      "metadata": {
        "id": "d20aDQgUYtac"
      },
      "outputs": [],
      "source": [
        "kenya_data = fetch_geoboundaries_data('KEN', 1)"
      ]
    },
    {
      "cell_type": "code",
      "execution_count": null,
      "metadata": {
        "id": "zvekIIzFYtac"
      },
      "outputs": [],
      "source": [
        "kenya_data"
      ]
    },
    {
      "cell_type": "markdown",
      "metadata": {
        "id": "F5T2mnl8Ytac"
      },
      "source": [
        "A few notes:\n",
        "- You might have noticed that the result stored in `kenya_data` is not the actual admin-1 level boundaries, but _metadata_ about the boundaries data\n",
        "- A visual inspection of `kenya_data` shows that a URL to the data is in the key `simplifiedGeometryGeoJSON`"
      ]
    },
    {
      "cell_type": "code",
      "execution_count": null,
      "metadata": {
        "id": "J6V_yLONYtad"
      },
      "outputs": [],
      "source": [
        "kenya_data['simplifiedGeometryGeoJSON']"
      ]
    },
    {
      "cell_type": "markdown",
      "metadata": {
        "id": "h4DiAij4Ytad"
      },
      "source": [
        "- You can use `requests` once again to fetch the data from this URL\n",
        "\n",
        "**Important:**\n",
        "- Not all APIs will provide direct access to the information you need\n",
        "- Many will require additional coding to get from the initial API call to the data of your interest"
      ]
    },
    {
      "cell_type": "markdown",
      "metadata": {
        "id": "i0iefyr5Ytad"
      },
      "source": [
        "## Coding API clients - Takeaways\n",
        "\n",
        "- Programming a client for an API requires reviewing the documentation, understanding the API uses, and how they fit your needs\n",
        "- Many APIs will use several URL-based parameters to pass information in API queries. A good API client will take that into account to build the correct query URL and parameters argument\n",
        "- Remember that further coding might be needed to get from the API result to the information that is relevant for a user\n",
        "- Some APIs divide results with many observations in pages and return only a limited number of pages. It's up to the user to review the results and take measures to ensure data is complete (check the notebook with bonus content for examples on this)"
      ]
    },
    {
      "cell_type": "markdown",
      "metadata": {
        "id": "X6v6b1gbYtad"
      },
      "source": [
        "# Exercise 2a\n",
        "\n",
        "Create a function that builds upon `fetch_geoboundaries_data()` and returns the actual geographic data from the API.\n",
        "\n",
        "Suggested steps:\n",
        "\n",
        "1. Inspect the result of `fetch_geoboundaries_data()` to locate where is the URL with the geographic data in the resulting dictionary\n",
        "1. Access the URL using `requests.get()` and store the response in a variable\n",
        "1. Use the `.json()` method to transform the response content in a dictionary and return that variable"
      ]
    },
    {
      "cell_type": "code",
      "execution_count": null,
      "metadata": {
        "id": "KlRik7eGYtae"
      },
      "outputs": [],
      "source": [
        "#  == DO NOT MODIFY THIS FUNCTION BUT THE NEXT ==\n",
        "def fetch_geoboundaries_data(country_code, admin_level):\n",
        "\n",
        "    endpoint = 'https://www.geoboundaries.org/api/current/gbOpen/'\n",
        "    url = endpoint + country_code + '/ADM' + str(admin_level)\n",
        "    response = requests.get(url)\n",
        "\n",
        "    if response.status_code == 200:\n",
        "\n",
        "        data = response.json()\n",
        "        return data\n",
        "\n",
        "    else:\n",
        "\n",
        "        print('Request failed!')\n",
        "        return None"
      ]
    },
    {
      "cell_type": "code",
      "execution_count": null,
      "metadata": {
        "id": "JX8WlRASYtaf"
      },
      "outputs": [],
      "source": [
        "# == MODIFY THIS FUNCTION FOR YOUR ANSWER ==\n",
        "def obtain_geodata(country_code, admin_level):\n",
        "\n",
        "    metadata = fetch_geoboundaries_data(country_code, admin_level)\n",
        "\n",
        "    if metadata is None:\n",
        "        # this is a check to see if the previous line worked. Do not modify it\n",
        "        return None\n",
        "\n",
        "    else:\n",
        "        # === REPLACE THE None BELOW TO ADD YOUR SOLUTION ===\n",
        "\n",
        "        data_url = None       # 1. Extract the URL containing the data from the metadata dictionary\n",
        "        response = None       # 2. Use requests to get a new reponse from that URL\n",
        "\n",
        "        if response.status_code == 200:\n",
        "            geojson_data = None    # 3. Use the json() method to extract the data from response\n",
        "            return geojson_data\n",
        "\n",
        "        # === DO NOT MODIFY THE FUNCTION FROM THIS POINT ON ===\n",
        "        else:\n",
        "            print('Request failed!')\n",
        "            return None"
      ]
    },
    {
      "cell_type": "markdown",
      "metadata": {
        "id": "zGzXdSGJYtaf"
      },
      "source": [
        "# Python API client libraries\n",
        "\n",
        "- Programming a client for an API is not always needed\n",
        "- Many APIs have their own client in the form of a Python library\n",
        "- Check the example of [`geopy`](https://geopy.readthedocs.io/), a [Nominatim](https://nominatim.org/) encoder. Nominatim operations are also called \"reverse geocoding\""
      ]
    },
    {
      "cell_type": "code",
      "execution_count": null,
      "metadata": {
        "id": "x4od5p4zYtaf"
      },
      "outputs": [],
      "source": [
        "# Installing geopy in your personal library\n",
        "!pip install geopy"
      ]
    },
    {
      "cell_type": "code",
      "execution_count": null,
      "metadata": {
        "id": "Ssai26MbYtag"
      },
      "outputs": [],
      "source": [
        "from geopy.geocoders import Nominatim"
      ]
    },
    {
      "cell_type": "code",
      "execution_count": null,
      "metadata": {
        "id": "dnt-DgR0Ytag"
      },
      "outputs": [],
      "source": [
        "# Important: please add a user alias in this function\n",
        "geolocator = Nominatim(user_agent='write-your-alias-here')"
      ]
    },
    {
      "cell_type": "code",
      "execution_count": null,
      "metadata": {
        "id": "Ej1k-O34Ytag"
      },
      "outputs": [],
      "source": [
        "query = geolocator.geocode('1818 H St NW, Washington DC, USA')"
      ]
    },
    {
      "cell_type": "code",
      "execution_count": null,
      "metadata": {
        "scrolled": true,
        "id": "dBVcfDx5Ytah"
      },
      "outputs": [],
      "source": [
        "print(query)"
      ]
    },
    {
      "cell_type": "markdown",
      "metadata": {
        "id": "q0fLKeGWYtah"
      },
      "source": [
        "`query` has an ad-hoc variable type from this library."
      ]
    },
    {
      "cell_type": "code",
      "execution_count": null,
      "metadata": {
        "id": "nyD4EuCKYtah"
      },
      "outputs": [],
      "source": [
        "type(query)"
      ]
    },
    {
      "cell_type": "markdown",
      "metadata": {
        "id": "441GG_5kYtai"
      },
      "source": [
        "If you want to check the attributes and methods of this variable type, you can use `help(query)`, `dir(query)`, `query?`, or check the [`geopy` library documentation](https://geopy.readthedocs.io/en/stable/)."
      ]
    },
    {
      "cell_type": "code",
      "execution_count": null,
      "metadata": {
        "id": "O28agXuGYtai"
      },
      "outputs": [],
      "source": [
        "query?"
      ]
    },
    {
      "cell_type": "code",
      "execution_count": null,
      "metadata": {
        "id": "6YBzIkiPYtai"
      },
      "outputs": [],
      "source": [
        "print('The address of the WB main building is: {}'.format(query.address))\n",
        "print('The location of the WB main building is: {}, {}'.format(query.latitude, query.longitude))"
      ]
    },
    {
      "cell_type": "markdown",
      "metadata": {
        "id": "z7Niy_A9Ytai"
      },
      "source": [
        "When an API client is a Python library, it will most probably have ad-hoc variable types with particular attributes and methods. You will have to check the corresponding library documentation to learn how to operate with them.\n",
        "\n",
        "Please also note the following:\n",
        "- We didn't have to code an API client using `requests` this time: `geopy` is the API client\n",
        "- The results of our query are not in JSON format. `geopy` returns an ad-hoc variable class with the attributes `.adress`, `.latitude`, and `.longitude`, among others\n",
        "- We've mostly seen examples of database query APIs, but APIs can do much more!\n",
        "    + `geopy` is an example of an API that does some data processing with the information passed (the address)\n",
        "    + Remember: in general, an API is a channel to interact with a web server"
      ]
    },
    {
      "cell_type": "markdown",
      "metadata": {
        "id": "aC_kQzXCYtaj"
      },
      "source": [
        "A few notes about API authentication:\n",
        "- Some APIs require some form of authentication to control API overuse\n",
        "    + That's why `Nominatim()` requires the `user_agent` parameter: it's a way of detecting which API calls come from the the same alias\n",
        "    + This is a very soft way of authentication\n",
        "- When authentication is needed, most APIs will require users to register and account and will provide a unique combination of characters called _API key_ that uniquely identifies the user\n",
        "- When they are required, API keys are usually passed as parameters. If the API has a dedicated client library, they will ask for the key after importing the library (as `user_agent` in `Nominatim()`)"
      ]
    },
    {
      "cell_type": "markdown",
      "metadata": {
        "id": "j_hD7OWyYtaj"
      },
      "source": [
        "## The World Bank API Python library\n",
        "\n",
        "The WBG has an extensive API with country indicators, among many other data. The following examples uses the endpoint of the total population API to fetch country population data.\n",
        "\n",
        "Documentation and use examples of the WBG API can be found in the [WBG Knowledge Base](https://datahelpdesk.worldbank.org/knowledgebase) and the [Developer Information resources](https://datahelpdesk.worldbank.org/knowledgebase/topics/125589-developer-information)."
      ]
    },
    {
      "cell_type": "code",
      "execution_count": null,
      "metadata": {
        "id": "_PodabrSYtaj"
      },
      "outputs": [],
      "source": [
        "def fetch_population_by_year(year):\n",
        "\n",
        "    endpoint = 'https://api.worldbank.org/v2/country/all/indicator/SP.POP.TOTL/'\n",
        "    url = endpoint + '?date=' + str(year) + '&format=json'\n",
        "    parameters = {'date': year, 'format':'json'}\n",
        "    # note: the API documentation specifies that format=json\n",
        "    # is a required parameter in order to return the results as JSON\n",
        "    response = requests.get(url)\n",
        "\n",
        "    if response.status_code == 200:\n",
        "\n",
        "        data = response.json()\n",
        "        return data\n",
        "\n",
        "    else:\n",
        "\n",
        "        print('Request failed!')\n",
        "        return None"
      ]
    },
    {
      "cell_type": "code",
      "execution_count": null,
      "metadata": {
        "id": "sk9TEK0fYtaj"
      },
      "outputs": [],
      "source": [
        "pop_2015 = fetch_population_by_year(2015)"
      ]
    },
    {
      "cell_type": "code",
      "execution_count": null,
      "metadata": {
        "id": "9soyGEw2Ytak"
      },
      "outputs": [],
      "source": [
        "pop_2015"
      ]
    },
    {
      "cell_type": "markdown",
      "metadata": {
        "id": "qE3SuRNKYtak"
      },
      "source": [
        "A few notes:\n",
        "- This is the same data you obtain when accessing https://api.worldbank.org/v2/country/all/indicator/SP.POP.TOTL?date=2015&format=json on a web browser\n",
        "- In this case, the resulting JSON is not interpreted by Python as a dictionary but a list\n",
        "- The first element of this list contains metadata about the data returned by the API. The second element contains the actual data"
      ]
    },
    {
      "cell_type": "markdown",
      "metadata": {
        "id": "hVwKXYRqYtak"
      },
      "source": [
        "Programming this complicated client is not needed at all to interact with the The World Bank API. It has a dedicated client Python library that greatly facilitates its use.\n",
        "- Release blog post [here](https://blogs.worldbank.org/opendata/introducing-wbgapi-new-python-package-accessing-world-bank-data)\n",
        "- Documentation [here](https://pypi.org/project/wbgapi/)\n",
        "- Examples [here](https://nbviewer.org/github/tgherzog/wbgapi/blob/master/examples/wbgapi-cookbook.ipynb)"
      ]
    },
    {
      "cell_type": "code",
      "execution_count": null,
      "metadata": {
        "id": "lcAsLTUwYtal"
      },
      "outputs": [],
      "source": [
        "!pip install wbgapi"
      ]
    },
    {
      "cell_type": "code",
      "execution_count": null,
      "metadata": {
        "id": "tVs8Z_nBYtam"
      },
      "outputs": [],
      "source": [
        "import wbgapi as wb"
      ]
    },
    {
      "cell_type": "markdown",
      "metadata": {
        "id": "AHljWxkoYtam"
      },
      "source": [
        "This example gets the total population of Brazil for all years available in a Pandas dataframe:"
      ]
    },
    {
      "cell_type": "code",
      "execution_count": null,
      "metadata": {
        "id": "VeT2sECIYtam"
      },
      "outputs": [],
      "source": [
        "wb.data.DataFrame('SP.POP.TOTL', 'BRA', labels=True)"
      ]
    },
    {
      "cell_type": "markdown",
      "metadata": {
        "id": "zqHG6rZCYtan"
      },
      "source": [
        "This URL would have returned a similar result in JSON format:\n",
        "https://api.worldbank.org/v2/country/BRA/indicator/SP.POP.TOTL?date=1960:2021&format=json\n",
        "\n",
        "We can also get the series for multiple countries if we specify a list instead of a single string:"
      ]
    },
    {
      "cell_type": "code",
      "execution_count": null,
      "metadata": {
        "id": "T0RYehMdYtan"
      },
      "outputs": [],
      "source": [
        "wb.data.DataFrame('SP.POP.TOTL', ['BRA', 'ARG', 'URY', 'PRY'], labels=True)"
      ]
    },
    {
      "cell_type": "markdown",
      "metadata": {
        "id": "YCXPwYE6Ytan"
      },
      "source": [
        "Lastly, we can specify the years we want in a population query:"
      ]
    },
    {
      "cell_type": "code",
      "execution_count": null,
      "metadata": {
        "id": "hRANK_jrYtao"
      },
      "outputs": [],
      "source": [
        "countries = ['BRA', 'ARG', 'URY', 'PRY']\n",
        "years = range(2015, 2021) # note the last element is never included in range()\n",
        "wb.data.DataFrame('SP.POP.TOTL', countries, years, labels=True)"
      ]
    },
    {
      "cell_type": "markdown",
      "metadata": {
        "id": "sNhO0rJqYtao"
      },
      "source": [
        "The WB API has hundreds of indicators available. They can be explored with `wb.series.info()`:"
      ]
    },
    {
      "cell_type": "code",
      "execution_count": null,
      "metadata": {
        "scrolled": true,
        "id": "72UAjspVYtao"
      },
      "outputs": [],
      "source": [
        "wb.series.info()"
      ]
    },
    {
      "cell_type": "markdown",
      "metadata": {
        "id": "hG3hBQQeYtap"
      },
      "source": [
        "## Python API client libraries - Main takeaways\n",
        "\n",
        "- API client libraries greatly facilitate the use of APIs. You don't have to code your own client anymore!\n",
        "    - However, not all APIs have a client library.\n",
        "- You always need to review the library documentation and explore its use to know how to use them\n",
        "- The resulting variables from client libraries might not be in JSON format\n",
        "    + `geopy` returned an ad-hoc variable class\n",
        "    + `wb.data.DataFrame` returned a Pandas dataframe, which is very convenient for further data analysis\n",
        "- Many client libraries do much more than just retrieving the API results"
      ]
    },
    {
      "cell_type": "markdown",
      "metadata": {
        "id": "cKD08e31Ytap"
      },
      "source": [
        "**Final note only if you're working on Colab:**\n",
        "Remember to go to `File` > `Save a copy in Drive` to save a copy of this notebook in your Google account."
      ]
    }
  ],
  "metadata": {
    "kernelspec": {
      "display_name": "Python 3",
      "language": "python",
      "name": "python3"
    },
    "language_info": {
      "codemirror_mode": {
        "name": "ipython",
        "version": 3
      },
      "file_extension": ".py",
      "mimetype": "text/x-python",
      "name": "python",
      "nbconvert_exporter": "python",
      "pygments_lexer": "ipython3",
      "version": "3.7.6"
    },
    "colab": {
      "provenance": [],
      "include_colab_link": true
    }
  },
  "nbformat": 4,
  "nbformat_minor": 0
}