{
  "cells": [
    {
      "cell_type": "markdown",
      "metadata": {
        "id": "view-in-github",
        "colab_type": "text"
      },
      "source": [
        "<a href=\"https://colab.research.google.com/github/franzruch/rrf24_training_ulli/blob/main/1-foundations/1-types-and-syntax/foundations-s1.ipynb\" target=\"_parent\"><img src=\"https://colab.research.google.com/assets/colab-badge.svg\" alt=\"Open In Colab\"/></a>"
      ]
    },
    {
      "cell_type": "markdown",
      "metadata": {
        "id": "DjE4ro-grt3Q"
      },
      "source": [
        "# DEC Foundations to Python - Session 1\n",
        "# Variable types and Python syntax\n",
        "\n",
        ""
      ]
    },
    {
      "cell_type": "markdown",
      "metadata": {
        "id": "dsQJaHXBrt3S"
      },
      "source": [
        "# S0.0 - Introduction\n",
        "\n",
        "## S0.1 - The building blocks of Python\n",
        "\n",
        "#### The Atoms of Python\n",
        "In this session we will cover the basic building blocks that is what everything in Python is made of. **Think of these building blocks as the atoms of Python**.\n",
        "\n",
        "There are 5 types of atoms in Python you are likely to ever interact with as a Data Scientist.\n",
        "\n",
        "<img src=https://upload.wikimedia.org/wikipedia/commons/6/6f/Stylised_atom_with_three_Bohr_model_orbits_and_stylised_nucleus.svg width=\"200\">\n",
        "\n",
        "#### The Containers of Atoms of Python\n",
        "To organize and give structure to these atoms, there are 4 types of containers they can be stored in. Without these Python would just be a soup of atoms. Think of these as the chemical bonds between atoms in Python.\n",
        "\n",
        "#### The Molecules of Python\n",
        "These atoms and containers are combined into something called objects. **We can think of these objects as molecules**.\n",
        "\n",
        "Object can be simple or very complex. But no matter how complex something you ever encounter in Python is, it can always be traced back to a combination of the atoms and their containers.\n",
        "\n",
        "With these atoms and molecules, we can make everything from databases, machine learning algorithms, natural language projects or whatever you will end up using Python for.\n",
        "\n",
        "<img src=https://upload.wikimedia.org/wikipedia/commons/e/e8/Sucrose_molecule_3d_model.png width=\"300\">\n",
        "\n",
        "\n",
        "## S0.2 - Do I really need to care about these building blocks?\n",
        "\n",
        "Maybe you are thinking right now:\n",
        "\n",
        "\"**_I'm am not super-techy and never intend to develop my own custom data structures. I just want to use Python for some cool data science. So why is this person talking about inner fabric of Python and CHEMISTRY!?!_**\".\n",
        "\n",
        "If you load some data into a dataset in Python, it will be stored in an object. While you do not need to understand the chemical make-up an object to use with it, it will expect that you to provide inputs using atoms and containers when you want to modify it, analyze the data in it etc.\n",
        "\n",
        "And after any operation it almost always returns the result in terms of a Python atom or container of atoms that you need to know how to identify and handle. But identifying and handling these atoms and containers does not require that you are an expert in them.\n",
        "\n",
        "---\n",
        "\n",
        "#### The scope of this session\n",
        "This session will show how to identify the 5 atoms and the 4 containers, and the basics of how to interact with them. But we will focus most of time to 3 of the atoms and 2 of the containers.\n",
        "\n",
        "After this session you will know enough to be able to use them in relation to other objects in Python.\n",
        "\n",
        "You will see how we will come back to these basic types when we in the following sessions interact with Python molecules developed for us by other users.\n",
        "\n",
        "---"
      ]
    },
    {
      "cell_type": "markdown",
      "metadata": {
        "id": "H_UnAy7lrt3S"
      },
      "source": [
        "## S0.3 - Google Colab\n",
        "\n",
        "<img src=https://miro.medium.com/max/986/1*pimj8lXWwZnqLs2xVCV2Aw.png width=\"500\">\n",
        "\n",
        "Click this link to open the file you are currently viewing in Google Colab: https://colab.research.google.com/github/worldbank/dec-python-course/blob/main/1-foundations/1-types-and-syntax/foundations-s1.ipynb.\n",
        "\n",
        "This will open an exact copy of this file in Google Colab. Since it is a copy, you can make edits in it without it affecting anyone else file. Through this course we expect you to always open the file for each session in Colab and follow along.\n",
        "\n",
        "### What is Colab?\n",
        "\n",
        "* It's like Google Docs but for Python code\n",
        "* Requires no installing of Python itself or common libraries (add-ons)\n",
        "* Runs on a Google server. Any files you save in Colab are saved in your Google Drive - so a very bad place for sensitive data\n",
        "* Unfortunately, you need to be logged in to a Google account to run code on Google Colab.\n",
        "\n",
        "**Do not use Google Colab for any non-public data**\n",
        "\n",
        "---\n",
        "\n",
        "### How to run code in Colab\n",
        "\n",
        "Jupyter Notebook and Colab is organized in cells. A cell can either be code or text. The only purpose of text cells is to provide information to a human reader. This information can be a few comments to the code, or a full research paper. You can format this text using [markdown](https://commonmark.org/help).\n",
        "\n",
        "Code cells is where you write your Python code. Next to each code cell there is a play button. You can run the code by either click the 'play' icon or select the cell and hit `CTRL-ENTER` on your keyboard.\n",
        "\n",
        "Try running the cell below that says `2 + 2`."
      ]
    },
    {
      "cell_type": "code",
      "execution_count": 4,
      "metadata": {
        "id": "DRiJg5lzrt3S",
        "outputId": "1bd434bd-bda5-4eca-b053-962abb56b5d5",
        "colab": {
          "base_uri": "https://localhost:8080/"
        }
      },
      "outputs": [
        {
          "output_type": "execute_result",
          "data": {
            "text/plain": [
              "16"
            ]
          },
          "metadata": {},
          "execution_count": 4
        }
      ],
      "source": [
        "2 + 14"
      ]
    },
    {
      "cell_type": "markdown",
      "metadata": {
        "id": "6lUKgbFI-tFc"
      },
      "source": [
        "### What to use for non-public data?\n",
        "\n",
        "There are alternatives to Google Colab that organize text and Python code in blocks. These are called notebooks.\n",
        "\n",
        "**Jupyter Notebooks**. The most common tool to run Python code in notebooks on your own computer is called _Jupyter Notebooks_. You can install _Jupyter Notebooks_ on your computer where you read data and other files directly from your computer such that no files needs to be shared over a server owned by Google.\n",
        "\n",
        "On WB computers, the consensus seems to be that the easiest way to install and use Python is by requesting ITS to install Anaconda (https://www.anaconda.com/) for you or by installing Anaconda from the software center app.\n",
        "\n",
        "**Databricks**. If you want to have a collaborative space in the cloud that is still approved at the WB for non-public data you can use Databricks. Databricks is also a notebook-styled Python interface. An instance in Databricks can be made more computatonally powerful than what you will ever need.\n",
        "\n",
        "In the following sessions you will be given the option to open the sessions in a WB hosted databricks session where you can share non-public data."
      ]
    },
    {
      "cell_type": "markdown",
      "metadata": {
        "id": "uNC6KMQTrt3T"
      },
      "source": [
        "# S1.0 - Variables\n",
        "\n",
        "So atoms, containers and objects are the types of data or information we can have. But we need a way to identify each piece of data or information. For this we use variables.\n",
        "\n",
        "All variables consist of three things:\n",
        "\n",
        "* The name of the variable so it can be uniquely identified and accessed\n",
        "* The \"*type*\" of the information stored (atom, container or object)\n",
        "* The information/data that the variable holds\n",
        "\n",
        "Variables are only stored in temporary memory,\n",
        "so when restarting Python,\n",
        "you need to recreate them by running your code again.\n",
        "\n",
        "(**For Stata users:** In Stata,\n",
        "\"variable\" always means a column in a dataset.\n",
        "Variables in Python behave more like a `local` in Stata.)"
      ]
    },
    {
      "cell_type": "code",
      "execution_count": 5,
      "metadata": {
        "id": "oRNy7uX5rt3T"
      },
      "outputs": [],
      "source": [
        "# Create variables with the name hw and number\n",
        "text_variable = 'Hello World'\n",
        "number_variable = 42"
      ]
    },
    {
      "cell_type": "code",
      "execution_count": 6,
      "metadata": {
        "id": "rTV2EwMFrt3U",
        "outputId": "1aa50c92-b964-4c2a-c8ab-8aa32ea03c1a",
        "colab": {
          "base_uri": "https://localhost:8080/"
        }
      },
      "outputs": [
        {
          "output_type": "stream",
          "name": "stdout",
          "text": [
            "Hello World\n",
            "42\n"
          ]
        }
      ],
      "source": [
        "# Access the variables with the name hw and number\n",
        "# and then print the information they store\n",
        "print(text_variable)\n",
        "print(number_variable)"
      ]
    },
    {
      "cell_type": "markdown",
      "metadata": {
        "id": "Xhw_agSH-tFd"
      },
      "source": [
        "Where is a variable saved? Variables are only stored in the RAM memory. RAM memory is very fast, but is cleared each time you restart python. So this memory is only for work-in-progress variables.\n",
        "\n",
        "If you need to save data in a variable to a file then you need to save to disk memory. This allows the data to be accessed by other programs and the data will still be there next time you start Python.\n",
        "\n",
        "This is the same no matter if you use Google Colab on a Google server, Jupyter Notebooks on your computer, or Databricks on a World Bank server. We will cover how to save to disk memory later."
      ]
    },
    {
      "cell_type": "markdown",
      "metadata": {
        "id": "qx20-vSBrt3U"
      },
      "source": [
        "# S2.0 The basic data types\n",
        "\n",
        "These 5 basic types are the types you are ever likely to use:\n",
        "\n",
        "| Class name | Full name      | Name used       | Usage                             |\n",
        "|:---        |:---            |:---             | :---                              |\n",
        "| int        | Integer        | \"int\"/\"integer\" | Number without decimal point      |\n",
        "| float      | Floating point | \"float\"         | Number with decimal point         |\n",
        "| str        | String         | \"string\"        | Text                              |\n",
        "| bool       | Boolean        | \"boolean\"       | Either true or false              |\n",
        "| none       | None           | \"none\"          | An explicit way of saying nothing |\n",
        "\n",
        "Any information in Python you will ever interact with is a combination of these types.\n",
        "This is similar to how tiny simple atoms in real life\n",
        "can be combined to the most wonderful complex life forms.\n",
        "This is why we in this training refer to\n",
        "**the basic data types as the _atoms of Python_.**"
      ]
    },
    {
      "cell_type": "markdown",
      "metadata": {
        "id": "gKOul9Mzrt3U"
      },
      "source": [
        "## S2.1 Numeric variables\n",
        "\n",
        "**Define a numeric variable:**"
      ]
    },
    {
      "cell_type": "code",
      "execution_count": 7,
      "metadata": {
        "id": "DmiUEgFXrt3U"
      },
      "outputs": [],
      "source": [
        "# Assign the value 6 to a variable we name x\n",
        "x = 6"
      ]
    },
    {
      "cell_type": "markdown",
      "metadata": {
        "id": "F-LLxx5Grt3V"
      },
      "source": [
        "Now somewhere in memory there is a variable with the name `x` that currently stores the value 6.\n",
        "\n",
        "We can reference this variable until we explicitly delete it or restart our Python session."
      ]
    },
    {
      "cell_type": "code",
      "execution_count": 8,
      "metadata": {
        "id": "XxnTUoGIrt3V",
        "outputId": "498d9ebd-eabc-40a8-f060-9adc2582aa24",
        "colab": {
          "base_uri": "https://localhost:8080/"
        }
      },
      "outputs": [
        {
          "output_type": "execute_result",
          "data": {
            "text/plain": [
              "6"
            ]
          },
          "metadata": {},
          "execution_count": 8
        }
      ],
      "source": [
        "# We can output the value by calling it\n",
        "x"
      ]
    },
    {
      "cell_type": "markdown",
      "metadata": {
        "id": "5x2H5BOxrt3V"
      },
      "source": [
        "**Ex. 1a:** (example excercise - do together)"
      ]
    },
    {
      "cell_type": "code",
      "execution_count": 12,
      "metadata": {
        "id": "472-QjRbrt3V",
        "outputId": "89f05be4-cde0-48f3-d613-9a3c74d326aa",
        "colab": {
          "base_uri": "https://localhost:8080/",
          "height": 211
        }
      },
      "outputs": [
        {
          "output_type": "error",
          "ename": "AssertionError",
          "evalue": "",
          "traceback": [
            "\u001b[0;31m---------------------------------------------------------------------------\u001b[0m",
            "\u001b[0;31mAssertionError\u001b[0m                            Traceback (most recent call last)",
            "\u001b[0;32m<ipython-input-12-0bf2a8540be4>\u001b[0m in \u001b[0;36m<cell line: 8>\u001b[0;34m()\u001b[0m\n\u001b[1;32m      6\u001b[0m \u001b[0;31m# this is a way to check that the value is defined.\u001b[0m\u001b[0;34m\u001b[0m\u001b[0;34m\u001b[0m\u001b[0m\n\u001b[1;32m      7\u001b[0m \u001b[0;34m\u001b[0m\u001b[0m\n\u001b[0;32m----> 8\u001b[0;31m \u001b[0;32massert\u001b[0m \u001b[0mex1_x\u001b[0m \u001b[0;34m==\u001b[0m \u001b[0;36m5\u001b[0m\u001b[0;34m\u001b[0m\u001b[0;34m\u001b[0m\u001b[0m\n\u001b[0m\u001b[1;32m      9\u001b[0m \u001b[0;34m\u001b[0m\u001b[0m\n\u001b[1;32m     10\u001b[0m \u001b[0;34m\u001b[0m\u001b[0m\n",
            "\u001b[0;31mAssertionError\u001b[0m: "
          ]
        }
      ],
      "source": [
        "# Create a variable called ex1_x and set it to the value 5\n",
        "\n",
        "ex1_x = 4\n",
        "\n",
        "# === Do not modify code below ===\n",
        "# this is a way to check that the value is defined.\n",
        "\n",
        "assert ex1_x == 5\n",
        "\n"
      ]
    },
    {
      "cell_type": "markdown",
      "metadata": {
        "id": "IANbP1f1rt3V"
      },
      "source": [
        "**Do math using a variable:**"
      ]
    },
    {
      "cell_type": "code",
      "execution_count": 13,
      "metadata": {
        "id": "X2XvtajXrt3V",
        "outputId": "3a9dc51e-a5ba-43d5-fb60-9873c755c044",
        "colab": {
          "base_uri": "https://localhost:8080/"
        }
      },
      "outputs": [
        {
          "output_type": "execute_result",
          "data": {
            "text/plain": [
              "7"
            ]
          },
          "metadata": {},
          "execution_count": 13
        }
      ],
      "source": [
        "# Take the value in x and output that value plus 1\n",
        "x + 1"
      ]
    },
    {
      "cell_type": "code",
      "execution_count": 14,
      "metadata": {
        "id": "eTl9XjSNrt3V",
        "outputId": "50ba5104-2cf5-4fd9-cb0a-68757c77f36a",
        "colab": {
          "base_uri": "https://localhost:8080/"
        }
      },
      "outputs": [
        {
          "output_type": "execute_result",
          "data": {
            "text/plain": [
              "6"
            ]
          },
          "metadata": {},
          "execution_count": 14
        }
      ],
      "source": [
        "# The value of x is still 6\n",
        "x"
      ]
    },
    {
      "cell_type": "code",
      "execution_count": 15,
      "metadata": {
        "id": "1DjxrNaJrt3V",
        "outputId": "749f70a1-4a8b-4a32-fa1d-60067aeb939d",
        "colab": {
          "base_uri": "https://localhost:8080/"
        }
      },
      "outputs": [
        {
          "output_type": "execute_result",
          "data": {
            "text/plain": [
              "7"
            ]
          },
          "metadata": {},
          "execution_count": 15
        }
      ],
      "source": [
        "# To update the variable x we need to overwrite it with a new value\n",
        "# Assign x + 1 to x and output it\n",
        "x = x + 1  # NOTE: this OVERWRITES the variable x\n",
        "x"
      ]
    },
    {
      "cell_type": "markdown",
      "metadata": {
        "id": "GOJ57kQsrt3W"
      },
      "source": [
        "Note that we can only output a variable if it is by itself on the last line in a cell. We will soon learn how to _print_ a variable where this is not the case and where we have more options.\n",
        "\n",
        "---\n",
        "**Important error message: NameError**\n",
        "\n",
        "Whenever you see an error where it says \"not defined\", as in `NameError: name 'z' is not defined`, then it means that you have tried to reference a variable `z` but that there is no variable with that name."
      ]
    },
    {
      "cell_type": "code",
      "execution_count": 16,
      "metadata": {
        "id": "bzje-Qmhrt3W",
        "outputId": "3d3dc31e-260d-4822-f2da-5a8306d16499",
        "colab": {
          "base_uri": "https://localhost:8080/",
          "height": 141
        }
      },
      "outputs": [
        {
          "output_type": "error",
          "ename": "NameError",
          "evalue": "name 'z' is not defined",
          "traceback": [
            "\u001b[0;31m---------------------------------------------------------------------------\u001b[0m",
            "\u001b[0;31mNameError\u001b[0m                                 Traceback (most recent call last)",
            "\u001b[0;32m<ipython-input-16-5a059e049a08>\u001b[0m in \u001b[0;36m<cell line: 1>\u001b[0;34m()\u001b[0m\n\u001b[0;32m----> 1\u001b[0;31m \u001b[0mx\u001b[0m \u001b[0;34m=\u001b[0m \u001b[0mz\u001b[0m \u001b[0;34m+\u001b[0m \u001b[0;36m4\u001b[0m\u001b[0;34m\u001b[0m\u001b[0;34m\u001b[0m\u001b[0m\n\u001b[0m",
            "\u001b[0;31mNameError\u001b[0m: name 'z' is not defined"
          ]
        }
      ],
      "source": [
        "x = z + 4"
      ]
    },
    {
      "cell_type": "markdown",
      "metadata": {
        "id": "bvUu-bBYrt3W"
      },
      "source": [
        "**More math and using multiple variables:**"
      ]
    },
    {
      "cell_type": "code",
      "execution_count": 17,
      "metadata": {
        "id": "mEm179INrt3W"
      },
      "outputs": [],
      "source": [
        "# Reset x to 6\n",
        "x = 6"
      ]
    },
    {
      "cell_type": "code",
      "execution_count": 18,
      "metadata": {
        "id": "fRvmUCtVrt3W"
      },
      "outputs": [],
      "source": [
        "# Define a second variable - this time with a longer name\n",
        "my_long_variable_name = 2"
      ]
    },
    {
      "cell_type": "code",
      "execution_count": 19,
      "metadata": {
        "id": "wIrg_D0irt3W",
        "outputId": "74636114-4518-47cf-e2e3-1b9c903f1f0c",
        "colab": {
          "base_uri": "https://localhost:8080/"
        }
      },
      "outputs": [
        {
          "output_type": "execute_result",
          "data": {
            "text/plain": [
              "8"
            ]
          },
          "metadata": {},
          "execution_count": 19
        }
      ],
      "source": [
        "# Adding two variables together\n",
        "x + my_long_variable_name"
      ]
    },
    {
      "cell_type": "code",
      "execution_count": 20,
      "metadata": {
        "id": "rNOgSG8Rrt3W",
        "outputId": "12cb8ffb-1101-4e08-b126-d192e973d8bf",
        "colab": {
          "base_uri": "https://localhost:8080/"
        }
      },
      "outputs": [
        {
          "output_type": "execute_result",
          "data": {
            "text/plain": [
              "4"
            ]
          },
          "metadata": {},
          "execution_count": 20
        }
      ],
      "source": [
        "# Subtracting x from my_long_variable_name\n",
        "x - my_long_variable_name"
      ]
    },
    {
      "cell_type": "code",
      "execution_count": 22,
      "metadata": {
        "id": "MWKwJZzert3W",
        "outputId": "73e05aa6-8fe5-43db-8550-eae03ba038bb",
        "colab": {
          "base_uri": "https://localhost:8080/"
        }
      },
      "outputs": [
        {
          "output_type": "stream",
          "name": "stdout",
          "text": [
            "Variable                Type    Data/Info\n",
            "-----------------------------------------\n",
            "ex1_x                   int     4\n",
            "my_long_variable_name   int     2\n",
            "number_variable         int     42\n",
            "text_variable           str     Hello World\n",
            "x                       int     6\n"
          ]
        }
      ],
      "source": [
        "# Multiplying x with my_long_variable_name\n",
        "x * my_long_variable_name\n",
        "\n",
        "%whos"
      ]
    },
    {
      "cell_type": "markdown",
      "metadata": {
        "id": "S3DJcp4Brt3W"
      },
      "source": [
        "Here is a table of the most common mathematical operators:\n",
        "\n",
        "| Symbol | Operation      | Example     | Definition |\n",
        "|:---:   |:---            |:---         |:------ |\n",
        "| +      | Addition       | 6+2 = 8   | |\n",
        "| -      | Subtraction    | 6-2 = 4   | |\n",
        "| *      | Multiplication | 6*2 = 12  | |\n",
        "| /      | Division       | 6/2 = 3   | |\n",
        "| **     | Power of       | 6**2 = 36 | |\n",
        "| %      | Modulus        | 6%2 = 0 , 6%4 = 2 | Remainder integer in a division |\n",
        "| //     | Floor division | 6//2 = 3 , 6//4 = 1 | Integer part of a division result |\n",
        "\n",
        "See full list of mathematical operators here: https://www.w3schools.com/python/python_operators.asp\n",
        "\n",
        "---\n",
        "\n",
        "If we want to save the result of a mathematical operation we need to store it in a variable. Either in a new variable or by overwriting an existing one.\n",
        "\n",
        "Only variables left of the assignment operator `=` are modified. If there is no `=` then no variable is modified from a mathematical operator."
      ]
    },
    {
      "cell_type": "code",
      "execution_count": 23,
      "metadata": {
        "id": "mpKLcFHTrt3W"
      },
      "outputs": [],
      "source": [
        "# Create a new variable that is x multiplied by my_long_variable_name\n",
        "y = x * my_long_variable_name\n",
        "\n",
        "# Create a new variable that is the sum of x and my_long_variable_name\n",
        "z = x + my_long_variable_name"
      ]
    },
    {
      "cell_type": "markdown",
      "metadata": {
        "id": "T7w_3Lgwrt3W"
      },
      "source": [
        "If we want to print multiple variables in the same cell we need to use `print()`"
      ]
    },
    {
      "cell_type": "code",
      "execution_count": 24,
      "metadata": {
        "id": "vMwdPGfQrt3W",
        "outputId": "0e4e62b6-bba3-4ee2-a427-7e510f4d1a6a",
        "colab": {
          "base_uri": "https://localhost:8080/"
        }
      },
      "outputs": [
        {
          "output_type": "stream",
          "name": "stdout",
          "text": [
            "6\n",
            "2\n",
            "12\n",
            "8\n"
          ]
        }
      ],
      "source": [
        "# Print the variables one at the time\n",
        "print(x)\n",
        "print(my_long_variable_name)\n",
        "print(y)\n",
        "print(z)"
      ]
    },
    {
      "cell_type": "code",
      "execution_count": 25,
      "metadata": {
        "id": "dtg9uhPj-tFj",
        "outputId": "30f1ce8a-7ca8-4821-e106-f1ec054063d9",
        "colab": {
          "base_uri": "https://localhost:8080/"
        }
      },
      "outputs": [
        {
          "output_type": "execute_result",
          "data": {
            "text/plain": [
              "8"
            ]
          },
          "metadata": {},
          "execution_count": 25
        }
      ],
      "source": [
        "# Only the last line is outputted\n",
        "x\n",
        "my_long_variable_name\n",
        "y\n",
        "z"
      ]
    },
    {
      "cell_type": "code",
      "execution_count": 26,
      "metadata": {
        "id": "NRzg1zyYrt3W",
        "outputId": "35f3d084-45a7-4f8c-ebaf-c9fae31e19db",
        "colab": {
          "base_uri": "https://localhost:8080/"
        }
      },
      "outputs": [
        {
          "output_type": "stream",
          "name": "stdout",
          "text": [
            "6 2 12 8\n"
          ]
        }
      ],
      "source": [
        "# Print all variables at on the same line\n",
        "print(x, my_long_variable_name, y, z)"
      ]
    },
    {
      "cell_type": "code",
      "execution_count": 27,
      "metadata": {
        "id": "xOYRV3Dert3W",
        "outputId": "a70faa2c-80d3-40f7-9e1d-2736594191a7",
        "colab": {
          "base_uri": "https://localhost:8080/"
        }
      },
      "outputs": [
        {
          "output_type": "stream",
          "name": "stdout",
          "text": [
            "1068\n",
            "-8\n"
          ]
        }
      ],
      "source": [
        "# You can also print the results of an operation\n",
        "print(12 * 89)\n",
        "print(y - 20)"
      ]
    },
    {
      "cell_type": "code",
      "execution_count": 28,
      "metadata": {
        "id": "10PKFQ_Drt3X",
        "outputId": "1088394b-48b7-43cb-f4ef-ba3d4d63b8ab",
        "colab": {
          "base_uri": "https://localhost:8080/"
        }
      },
      "outputs": [
        {
          "output_type": "stream",
          "name": "stdout",
          "text": [
            "-8\n"
          ]
        },
        {
          "output_type": "execute_result",
          "data": {
            "text/plain": [
              "125"
            ]
          },
          "metadata": {},
          "execution_count": 28
        }
      ],
      "source": [
        "# You can combine printing and output\n",
        "print(y - 20)\n",
        "5 ** 3"
      ]
    },
    {
      "cell_type": "markdown",
      "metadata": {
        "id": "H9jUv-VVrt3X"
      },
      "source": [
        "Since incrementing a variable with a value, such as in `x = x + 1`, is such a common action, there is a short hand for it that is `x += 1`\n",
        "\n",
        "See what other operators you can use like this here: https://www.w3schools.com/python/python_operators.asp"
      ]
    },
    {
      "cell_type": "code",
      "execution_count": 29,
      "metadata": {
        "id": "W0S7wZqyrt3X",
        "outputId": "d3e49774-4fc6-4d3a-eb63-e0c8fd6b4af6",
        "colab": {
          "base_uri": "https://localhost:8080/"
        }
      },
      "outputs": [
        {
          "output_type": "stream",
          "name": "stdout",
          "text": [
            "7\n"
          ]
        }
      ],
      "source": [
        "count_matches = 5\n",
        "count_matches += 2 # This is identical to: \"count_matches = count_matches + 2\"\n",
        "print(count_matches)"
      ]
    },
    {
      "cell_type": "markdown",
      "metadata": {
        "id": "EU77h60Srt3X"
      },
      "source": [
        "**Ex. 2a** (do ex 2a, 2b and 2c independently ~ 5 min)"
      ]
    },
    {
      "cell_type": "code",
      "execution_count": 30,
      "metadata": {
        "id": "6juLq6b1rt3X"
      },
      "outputs": [],
      "source": [
        "# Create two variables ex2_x and ex2_y. Set ex2_x to 3 and ex2_y to 5.\n",
        "\n",
        "### ADD YOUR CODE HERE\n",
        "ex2_x = 3\n",
        "ex2_y = 5\n",
        "\n",
        "# === Do not modify code below ===\n",
        "assert ex2_x == 3 and ex2_y == 5"
      ]
    },
    {
      "cell_type": "markdown",
      "metadata": {
        "id": "7qKXZcQJrt3X"
      },
      "source": [
        "**Ex. 2b**"
      ]
    },
    {
      "cell_type": "code",
      "execution_count": 33,
      "metadata": {
        "id": "z3E602VKrt3X"
      },
      "outputs": [],
      "source": [
        "# Multiply ex2_x with ex2_y and save the result in a new variable ex2_z\n",
        "\n",
        "ex2_z = ex2_x*ex2_y\n",
        "\n",
        "### ADD YOUR CODE HERE\n",
        "\n",
        "# === Do not modify code below ===\n",
        "assert ex2_z == 15"
      ]
    },
    {
      "cell_type": "markdown",
      "metadata": {
        "id": "zYW5EcYert3X"
      },
      "source": [
        "**Ex. 2c**"
      ]
    },
    {
      "cell_type": "code",
      "execution_count": 34,
      "metadata": {
        "id": "sAHvzbxhrt3X"
      },
      "outputs": [],
      "source": [
        "# Update the variable ex2_z by subtracting ex2_x from it\n",
        "# (Hint: re-run the cells above if/when needed)\n",
        "\n",
        "ex2_z -= ex2_x\n",
        "\n",
        "# === Do not modify code below ===\n",
        "assert ex2_z == 12"
      ]
    },
    {
      "cell_type": "markdown",
      "metadata": {
        "id": "0J6uStIirt3X"
      },
      "source": [
        "## S2.2 Two basic types of numeric variables\n",
        "\n",
        "There are two types of numeric basic data types:\n",
        "\n",
        "| Class name | Full name      | Name used       | Usage                        |\n",
        "|:---        |:---            |:---             | :---                         |\n",
        "| int        | Integer        | \"int\"/\"integer\" | Number without decimal point |\n",
        "| float      | Floating point | \"float\"         | Number with decimal point    |\n",
        "\n",
        "\n",
        "`int` is more memory efficient but cannot store decimal points.\n",
        "Python will pick `int` for you\n",
        "unless your variable must be a `float` to store your data without information loss.\n",
        "\n",
        "Read more about `int` and `float` here: https://www.w3schools.com/python/python_numbers.asp\n",
        "\n",
        "---\n",
        "\n",
        "You can test which type your numeric variable using `type()`"
      ]
    },
    {
      "cell_type": "code",
      "execution_count": 35,
      "metadata": {
        "id": "BVxOy5-Srt3X",
        "outputId": "6d4514ce-e0ee-4d28-9dc1-295adbca42cb",
        "colab": {
          "base_uri": "https://localhost:8080/"
        }
      },
      "outputs": [
        {
          "output_type": "execute_result",
          "data": {
            "text/plain": [
              "int"
            ]
          },
          "metadata": {},
          "execution_count": 35
        }
      ],
      "source": [
        "# Numeric variables assigned a number WITHOUT decimal point are created as an int\n",
        "x = 3\n",
        "type(x)"
      ]
    },
    {
      "cell_type": "code",
      "execution_count": 36,
      "metadata": {
        "id": "oj1Jh6MGrt3X",
        "outputId": "00a79299-777e-49b4-a55f-edbadb3d8a6c",
        "colab": {
          "base_uri": "https://localhost:8080/"
        }
      },
      "outputs": [
        {
          "output_type": "stream",
          "name": "stdout",
          "text": [
            "<class 'float'>\n"
          ]
        }
      ],
      "source": [
        "# Numeric variables assigned a number WITH decimal points are created as a float\n",
        "pi = 3.141592\n",
        "print(type(pi))"
      ]
    },
    {
      "cell_type": "code",
      "execution_count": 37,
      "metadata": {
        "id": "Yw131fDsrt3X",
        "outputId": "25c4ee13-0887-437a-9de5-bc4d834db485",
        "colab": {
          "base_uri": "https://localhost:8080/"
        }
      },
      "outputs": [
        {
          "output_type": "stream",
          "name": "stdout",
          "text": [
            "10 <class 'int'>\n",
            "5.0 <class 'float'>\n"
          ]
        }
      ],
      "source": [
        "# Python automatically assignes the appropriate type\n",
        "diameter = 10\n",
        "print(diameter, type(diameter))\n",
        "\n",
        "#The result of division is always a float\n",
        "radius = diameter / 2\n",
        "print(radius, type(radius))"
      ]
    },
    {
      "cell_type": "code",
      "execution_count": null,
      "metadata": {
        "id": "v7mU0bb2rt3X"
      },
      "outputs": [],
      "source": [
        "#The result of an operation with float and an int is always a float\n",
        "radius = 5\n",
        "print(radius, type(radius))\n",
        "\n",
        "circumference = pi * (radius)\n",
        "print(circumference, type(circumference))"
      ]
    },
    {
      "cell_type": "code",
      "execution_count": 38,
      "metadata": {
        "id": "O5vP3Hkzrt3X",
        "outputId": "8daf4449-92ca-4d98-a520-1d648fb7570c",
        "colab": {
          "base_uri": "https://localhost:8080/"
        }
      },
      "outputs": [
        {
          "output_type": "stream",
          "name": "stdout",
          "text": [
            "7 <class 'int'>\n"
          ]
        }
      ],
      "source": [
        "# you can force a float to be an int - it rounds down the closest int\n",
        "# NOTE: This leads to information loss about the decimal points\n",
        "y = int(7.25)\n",
        "print(y, type(y))"
      ]
    },
    {
      "cell_type": "code",
      "execution_count": null,
      "metadata": {
        "id": "ULVwPaSj-tFs"
      },
      "outputs": [],
      "source": [
        "# This is not rounding, it just takes the integer part of the float\n",
        "# and drops the decimal - rounding exists but its not int()\n",
        "z = int(7.99999)\n",
        "print(y, type(y))"
      ]
    },
    {
      "cell_type": "code",
      "execution_count": 39,
      "metadata": {
        "id": "KNftMfzQ-tFt",
        "outputId": "c54aebc8-8422-450d-a41d-24b9d91911f9",
        "colab": {
          "base_uri": "https://localhost:8080/"
        }
      },
      "outputs": [
        {
          "output_type": "stream",
          "name": "stdout",
          "text": [
            "17 <class 'int'>\n",
            "17.85 <class 'float'>\n"
          ]
        }
      ],
      "source": [
        "# Python changes the type if needed\n",
        "salary = 17\n",
        "print(salary, type(salary))\n",
        "\n",
        "#increase for inflation\n",
        "salary = salary * 1.05\n",
        "print(salary, type(salary))"
      ]
    },
    {
      "cell_type": "markdown",
      "metadata": {
        "id": "5epfdwSart3X"
      },
      "source": [
        "**Ex. 3a** (do ex 3a, 3b and 3c independently ~ 5 min)\n",
        "\n",
        "_Hint:_ Mathematical operators: https://www.w3schools.com/python/python_operators.asp"
      ]
    },
    {
      "cell_type": "code",
      "execution_count": 40,
      "metadata": {
        "id": "0cLHB5ewrt3X"
      },
      "outputs": [],
      "source": [
        "# Create a variable ex3_x that is a 13 to the power of 12\n",
        "\n",
        "### ADD YOUR CODE HERE\n",
        "\n",
        "ex3_x = 13**12\n",
        "\n",
        "# === Do not modify code below ===\n",
        "assert ex3_x == 23298085122481"
      ]
    },
    {
      "cell_type": "markdown",
      "metadata": {
        "id": "LyCy3kNIrt3Y"
      },
      "source": [
        "**Ex. 3b**"
      ]
    },
    {
      "cell_type": "code",
      "execution_count": 41,
      "metadata": {
        "id": "_T15Nfs_rt3Y"
      },
      "outputs": [],
      "source": [
        "# Create a variable ex3_y that is\n",
        "# the remainder when dividing ex3_x with 17\n",
        "\n",
        "ex3_y = ex3_x%17\n",
        "\n",
        "# === Do not modify code below ===\n",
        "assert ex3_y == 1"
      ]
    },
    {
      "cell_type": "markdown",
      "metadata": {
        "id": "yDoY71d6rt3Y"
      },
      "source": [
        "**Ex. 3c**"
      ]
    },
    {
      "cell_type": "code",
      "execution_count": 43,
      "metadata": {
        "id": "XQEZ__4Mrt3Y",
        "outputId": "02da1f5e-a110-41b8-b533-9c06119d2aa2",
        "colab": {
          "base_uri": "https://localhost:8080/"
        }
      },
      "outputs": [
        {
          "output_type": "stream",
          "name": "stdout",
          "text": [
            "<class 'float'>\n"
          ]
        }
      ],
      "source": [
        "# Create a variable ex3_z that is a float with the value three\n",
        "# (The solution has not been mentioned explicitly)\n",
        "\n",
        "### ADD YOUR CODE HERE\n",
        "\n",
        "ex3_z = 3.0\n",
        "print(type(ex3_z))\n",
        "\n",
        "# === Do not modify code below ===\n",
        "assert hash(ex3_z) == 3 and type(ex3_z) is float"
      ]
    },
    {
      "cell_type": "markdown",
      "metadata": {
        "id": "tA0YSxZ4rt3Y"
      },
      "source": [
        "## S2.3 Text variables - basic type: string\n",
        "\n"
      ]
    },
    {
      "cell_type": "markdown",
      "metadata": {
        "id": "9PoULaxkrt3Y"
      },
      "source": [
        "There is only one basic data type for text, and it is called \"string\".\n",
        "\n",
        "| Class name | Full name      | Name used       | Usage                        |\n",
        "|:---        |:---            |:---             | :---                         |\n",
        "| str        | String         | \"string\"        | Text                         |\n",
        "\n",
        "The text in a string could be anything from a single letter or word, to a full-length text like an essay.\n",
        "\n",
        "---\n",
        "\n",
        "**Define a string variable**"
      ]
    },
    {
      "cell_type": "code",
      "execution_count": 44,
      "metadata": {
        "id": "d-DJ2Vq_rt3Y",
        "outputId": "11874562-7814-492f-caf2-6dcb98c8a7c8",
        "colab": {
          "base_uri": "https://localhost:8080/"
        }
      },
      "outputs": [
        {
          "output_type": "stream",
          "name": "stdout",
          "text": [
            "Hello world! <class 'str'>\n",
            "Hello world! <class 'str'>\n"
          ]
        }
      ],
      "source": [
        "# Assign the text Hello World! to both variable a and b\n",
        "\n",
        "# We can use either \" or ' to tell where the text starts and ends so python does not confuse it for code\n",
        "a = \"Hello world!\"\n",
        "b = 'Hello world!'\n",
        "\n",
        "print(a, type(a))\n",
        "print(b, type(b))"
      ]
    },
    {
      "cell_type": "markdown",
      "metadata": {
        "id": "350j4hU7rt3Y"
      },
      "source": [
        "We must use either `\"\"` or `''` for each string, we cannot mix. It only rarely matters which one we use."
      ]
    },
    {
      "cell_type": "code",
      "execution_count": 45,
      "metadata": {
        "id": "0DoM7A2lrt3Y",
        "outputId": "66e0a9bb-ad33-4bce-96db-e82b52e5683a",
        "colab": {
          "base_uri": "https://localhost:8080/"
        }
      },
      "outputs": [
        {
          "output_type": "stream",
          "name": "stdout",
          "text": [
            "Strings are Python's way to store text <class 'str'>\n",
            "Python is the \"bestest\" programming language <class 'str'>\n"
          ]
        }
      ],
      "source": [
        "# We can use either \"\" when the text includes one or several '\n",
        "a = \"Strings are Python's way to store text\"\n",
        "\n",
        "# We can use either '' when the text includes one or several \"\n",
        "b = 'Python is the \"bestest\" programming language'\n",
        "\n",
        "print(a, type(a))\n",
        "print(b, type(b))"
      ]
    },
    {
      "cell_type": "markdown",
      "metadata": {
        "id": "zo-KVm5Grt3Y"
      },
      "source": [
        "**Simple string operations:**\n",
        "\n",
        "Some math operators work on strings as well"
      ]
    },
    {
      "cell_type": "code",
      "execution_count": 46,
      "metadata": {
        "id": "A5yturZYrt3Y",
        "outputId": "76100729-0c46-4fff-f92c-aef6a8527aac",
        "colab": {
          "base_uri": "https://localhost:8080/"
        }
      },
      "outputs": [
        {
          "output_type": "stream",
          "name": "stdout",
          "text": [
            "hello world! <class 'str'>\n",
            "hellohellohello <class 'str'>\n"
          ]
        }
      ],
      "source": [
        "a = 'hello'\n",
        "b = 'world'\n",
        "\n",
        "# Addition and multiplication work on strings (but not subtraction and division)\n",
        "c = a + ' ' + b + '!'\n",
        "d = a * 3\n",
        "\n",
        "print(c, type(c))\n",
        "print(d, type(d))"
      ]
    },
    {
      "cell_type": "markdown",
      "metadata": {
        "id": "xkmKNYr2rt3Y"
      },
      "source": [
        "**Ex. 4a** (do ex 4a, 4b independently ~ 10 min)"
      ]
    },
    {
      "cell_type": "code",
      "execution_count": 50,
      "metadata": {
        "id": "IBsDhuotrt3Y"
      },
      "outputs": [],
      "source": [
        "# Create a variable ex4_x that is a string with the word World\n",
        "# and a variable ex4_y that is a string with the word Bank\n",
        "\n",
        "ex4_x = 'World'\n",
        "ex4_y = 'Bank'\n",
        "\n",
        "### ADD YOUR CODE HERE\n",
        "\n",
        "# === Do not modify code below ===\n",
        "assert ex4_x == 'World' and ex4_y == 'Bank'"
      ]
    },
    {
      "cell_type": "markdown",
      "metadata": {
        "id": "S4DhVbPwrt3Y"
      },
      "source": [
        "**Ex. 4b**"
      ]
    },
    {
      "cell_type": "code",
      "execution_count": 52,
      "metadata": {
        "id": "ycbC4IwDrt3Y",
        "outputId": "66fbf470-6a4c-445e-e643-d282c5c526ac",
        "colab": {
          "base_uri": "https://localhost:8080/"
        }
      },
      "outputs": [
        {
          "output_type": "stream",
          "name": "stdout",
          "text": [
            "World Bank\n"
          ]
        }
      ],
      "source": [
        "# Create a variable ex4_z that use ex4_x and ex4_y\n",
        "# to create the word World Bank\n",
        "\n",
        "### ADD YOUR CODE HERE\n",
        "\n",
        "ex4_z = ex4_x + ' ' +ex4_y\n",
        "\n",
        "print(ex4_z)\n",
        "\n",
        "# === Do not modify code below ===\n",
        "assert ex4_z == 'World Bank'"
      ]
    },
    {
      "cell_type": "markdown",
      "metadata": {
        "id": "DbJy9C2b-tFw"
      },
      "source": [
        "## S2.4 Methods\n",
        "\n",
        "Atoms, containers and objects can all hold different types of information.\n",
        "But Python wouldn't be that useful if we cannot do anything to the information they hold.\n",
        "\n",
        "Each type of atom, container and object comes with actions design for that type.\n",
        "Such **actions specific to a type are called _methods_**.\n",
        "\n",
        "_All variables consist of three things:_\n",
        "\n",
        "* The name of the variable so it can be uniquely identified and accessed\n",
        "* The \"*type*\" - what type of atom, container or object\n",
        "    * What data that type can store\n",
        "    * What methods (if any) that this type comes with\n",
        "* The information/data that the variable actually stores\n",
        "\n",
        "A method is applied to the data in a variable like this `x.method()`.\n",
        "A method can be something simple like making a `str` upper case,\n",
        "or something extremely advanced as running a machine learning module.\n",
        "\n",
        "---"
      ]
    },
    {
      "cell_type": "markdown",
      "metadata": {
        "id": "SqHjJP-Wrt3Y"
      },
      "source": [
        "**String methods:**\n",
        "\n",
        "Strings is the only Python atom with methods. Upper/lower case, replace letters, remove excessive spaces etc.\n",
        "\n",
        "You can read about all string methods here: https://www.w3schools.com/python/python_ref_string.asp"
      ]
    },
    {
      "cell_type": "code",
      "execution_count": 53,
      "metadata": {
        "id": "2vHqEqQirt3Y",
        "outputId": "7220231a-f04f-40a3-e190-a9f609cfd5a7",
        "colab": {
          "base_uri": "https://localhost:8080/"
        }
      },
      "outputs": [
        {
          "output_type": "stream",
          "name": "stdout",
          "text": [
            "Hello world! <class 'str'>\n"
          ]
        }
      ],
      "source": [
        "# Define a new string\n",
        "a = 'Hello world!'\n",
        "print(a, type(a))"
      ]
    },
    {
      "cell_type": "code",
      "execution_count": 54,
      "metadata": {
        "id": "CsF00Q4Rrt3Y",
        "outputId": "aea7163d-06b3-438d-8c00-f91ba38550e8",
        "colab": {
          "base_uri": "https://localhost:8080/"
        }
      },
      "outputs": [
        {
          "output_type": "stream",
          "name": "stdout",
          "text": [
            "HELLO WORLD!\n"
          ]
        }
      ],
      "source": [
        "# Print the result of the method directly\n",
        "print(a.upper())"
      ]
    },
    {
      "cell_type": "code",
      "execution_count": 55,
      "metadata": {
        "id": "OU9bVsYsrt3Z",
        "outputId": "babfa4e4-d8f3-49ba-f347-4a2a4a4f3360",
        "colab": {
          "base_uri": "https://localhost:8080/"
        }
      },
      "outputs": [
        {
          "output_type": "stream",
          "name": "stdout",
          "text": [
            "HELLO WORLD! <class 'str'>\n"
          ]
        }
      ],
      "source": [
        "# Store the results of upper() in new variable and then print\n",
        "a_upper = a.upper()\n",
        "print(a_upper,type(a_upper))"
      ]
    },
    {
      "cell_type": "code",
      "execution_count": 57,
      "metadata": {
        "id": "KRVndIKWrt3Z",
        "outputId": "158692a0-e2f3-4c68-85ad-e4fbf0d7ed04",
        "colab": {
          "base_uri": "https://localhost:8080/"
        }
      },
      "outputs": [
        {
          "output_type": "stream",
          "name": "stdout",
          "text": [
            "Hello world! <class 'str'>\n"
          ]
        }
      ],
      "source": [
        "# Lower case\n",
        "a.lower()\n",
        "print(a,type(a)) # Why is there still a capital \"H\" in the output? We are printing a"
      ]
    },
    {
      "cell_type": "markdown",
      "metadata": {
        "id": "MowHa0xM-tFy"
      },
      "source": [
        "Some methods take arguments in their parentheses:"
      ]
    },
    {
      "cell_type": "code",
      "execution_count": 61,
      "metadata": {
        "id": "g_dfweJart3Z",
        "outputId": "b075bc50-e60b-4984-bba1-0a7bfa062c56",
        "colab": {
          "base_uri": "https://localhost:8080/"
        }
      },
      "outputs": [
        {
          "output_type": "stream",
          "name": "stdout",
          "text": [
            "a_all_i: Helli wirld! <class 'str'>\n",
            "a_one_i: Helli world! <class 'str'>\n"
          ]
        }
      ],
      "source": [
        "# Replace letters in a string\n",
        "a_all_i = a.replace('o', 'i')\n",
        "a_one_i = a.replace('o', 'i', 1)\n",
        "\n",
        "print('a_all_i:',a_all_i,type(a_all_i))\n",
        "print('a_one_i:',a_one_i,type(a_one_i))"
      ]
    },
    {
      "cell_type": "markdown",
      "metadata": {
        "id": "k5F_pPg7rt3Z"
      },
      "source": [
        "---\n",
        "\n",
        "Methods are different from operators (`+`, `-`) that we used with numbers.\n",
        "In addition to methods, each type can have support for these operators.\n",
        "\n",
        "`int` and `float` does not have any methods, they only have support for operators.\n",
        "`str` has method and support for some operators.\n",
        "\n",
        "When you are concatenating strings (combining) you can use the `+` operator.\n"
      ]
    },
    {
      "cell_type": "code",
      "execution_count": 62,
      "metadata": {
        "id": "QBW3JW1xrt3Z"
      },
      "outputs": [],
      "source": [
        "name = \"Frodo Baggins\"\n",
        "age = 51"
      ]
    },
    {
      "cell_type": "code",
      "execution_count": 63,
      "metadata": {
        "id": "u5mWv8bOrt3Z",
        "outputId": "f0b5ebd5-ef6d-4be4-bf2e-73836bd0c5b6",
        "colab": {
          "base_uri": "https://localhost:8080/"
        }
      },
      "outputs": [
        {
          "output_type": "stream",
          "name": "stdout",
          "text": [
            "His name is Frodo Baggins and his age is 51.\n"
          ]
        }
      ],
      "source": [
        "str_concat = \"His name is \" + name + \" and his age is \" + str(age) + \".\"\n",
        "print(str_concat)"
      ]
    },
    {
      "cell_type": "markdown",
      "metadata": {
        "id": "kg5dGy6F-tFz"
      },
      "source": [
        "---\n",
        "\n",
        "We can also use the `.format()` method to achieve this.\n",
        "\n",
        "In this example we have the string `\"His name is {} and his age is {}.\"`\n",
        "and we are using the `.format()` method to populate the two `{}` placeholders.\n",
        "\n",
        "This method is designed to identify an `int` and how to turn the `int` into\n",
        "a `str` without you having to think about it."
      ]
    },
    {
      "cell_type": "code",
      "execution_count": 64,
      "metadata": {
        "id": "TTqf8QP7-tF0",
        "outputId": "40c71d61-41e4-4e3f-8f62-8a2e27520b2f",
        "colab": {
          "base_uri": "https://localhost:8080/"
        }
      },
      "outputs": [
        {
          "output_type": "stream",
          "name": "stdout",
          "text": [
            "His name is Frodo Baggins and his age is 51.\n"
          ]
        }
      ],
      "source": [
        "str_format = \"His name is {} and his age is {}.\".format(name,age)\n",
        "print(str_format)"
      ]
    },
    {
      "cell_type": "markdown",
      "metadata": {
        "id": "mVdOJltr-tF0"
      },
      "source": [
        "---\n",
        "\n",
        "The `.format()` works for shorter strings, but for longer strings and\n",
        "paragraphs of text where only a few words should be dynamically populated\n",
        "the better option is an `f-string`.\n",
        "\n",
        "We won't cover what an `f-string` is,\n",
        "but all you need to know is how to recognize it."
      ]
    },
    {
      "cell_type": "code",
      "execution_count": 65,
      "metadata": {
        "id": "_yRUWt6Xrt3Z",
        "outputId": "a2de9af6-d28c-449f-e17d-ee6d81def63b",
        "colab": {
          "base_uri": "https://localhost:8080/"
        }
      },
      "outputs": [
        {
          "output_type": "stream",
          "name": "stdout",
          "text": [
            "His name is Frodo Baggins and his age is 51.\n"
          ]
        }
      ],
      "source": [
        "str_fstr = f\"His name is {name} and his age is {age}.\"\n",
        "print(str_fstr)"
      ]
    },
    {
      "cell_type": "markdown",
      "metadata": {
        "id": "H0VOzSQZrt3Z"
      },
      "source": [
        "**Important error message: AttributeError**\n",
        "\n",
        "Whenever you see an error where it says \"has no attribute\", as in `AttributeError: 'int' object has no attribute 'upper'`, then it means that the type `int` does not have a method or attribute called `upper`.\n",
        "\n",
        "Attribute is something similar to a method but attributes only return some meta data about a variable, and is not able to change the data in the variable.\n",
        "\n",
        "If you get an AttributeError, test if you have misspelled the method/attribute or if the variable is of a different type than you expected. Below we get this error as we are using a `str` method on an `int` type variable."
      ]
    },
    {
      "cell_type": "code",
      "execution_count": null,
      "metadata": {
        "id": "pWOdl5SKrt3Z"
      },
      "outputs": [],
      "source": [
        "x = 4\n",
        "x = x.upper()"
      ]
    },
    {
      "cell_type": "markdown",
      "metadata": {
        "id": "vEdeacG-rt3Z"
      },
      "source": [
        "**Ex. 5a** (do ex 5a and 5b independently ~ 10 min)"
      ]
    },
    {
      "cell_type": "code",
      "execution_count": 66,
      "metadata": {
        "id": "p2Lks-bMrt3Z",
        "scrolled": true
      },
      "outputs": [],
      "source": [
        "# Use a string method on the variable p already provided,\n",
        "# to create a variable ex5_x with the string \"PYTHON\"\n",
        "\n",
        "p = 'Python'\n",
        "\n",
        "ex5_x = p.upper()\n",
        "\n",
        "### ADD YOUR CODE HERE\n",
        "\n",
        "# === Do not modify code below ===\n",
        "assert ex5_x == 'PYTHON'"
      ]
    },
    {
      "cell_type": "markdown",
      "metadata": {
        "id": "s2TZmTW2rt3Z"
      },
      "source": [
        "**Ex. 5b**\n",
        "\n",
        "_Hint_: https://www.w3schools.com/python/python_ref_string.asp"
      ]
    },
    {
      "cell_type": "code",
      "execution_count": 68,
      "metadata": {
        "id": "EtrVGdFnrt3Z",
        "outputId": "933263a9-f2c5-4f0a-ac18-290c7d9512a2",
        "colab": {
          "base_uri": "https://localhost:8080/"
        }
      },
      "outputs": [
        {
          "output_type": "stream",
          "name": "stdout",
          "text": [
            "Python\n"
          ]
        }
      ],
      "source": [
        "# Use the variable ex5_x from ex 5a.\n",
        "# Use a method to create the string \"Python\"\n",
        "# (The solution has not been mentioned explicitly)\n",
        "\n",
        "### ADD YOUR CODE HERE\n",
        "\n",
        "ex5_y = ex5_x.lower().replace('p','P')\n",
        "ex5_y2 = ex5_x.capitalize()\n",
        "print(ex5_y2)\n",
        "\n",
        "# === Do not modify code below ===\n",
        "assert ex5_y == 'Python'"
      ]
    },
    {
      "cell_type": "markdown",
      "metadata": {
        "id": "x-zdxqIGrt3a"
      },
      "source": [
        "## S2.5 True/False variables - basic type: boolean\n",
        "\n",
        "| Class name | Full name      | Name used       | Usage                        |\n",
        "|:---        |:---            |:---             | :---                         |\n",
        "| bool       | Boolean        | \"boolean\"       | Either true or false         |\n",
        "\n",
        "Boolean is another atom in Python. Session 2 will discuss common usages of them. This session only covers how to identify them as you will see them often in Python.\n",
        "\n",
        "### Examples of usage of booleans\n",
        "\n",
        "* **Method responses**: So far we have only used string methods that have returned new strings. `upper()`, `lower()`, `replace()` etc. Many methods returns booleans instead, such as `isnumeric()`, `islower()` etc.\n",
        "* **If-conditions**: They are excellent to use to control if-else conditions.\n",
        "\n",
        "---\n",
        "\n"
      ]
    },
    {
      "cell_type": "code",
      "execution_count": 69,
      "metadata": {
        "id": "ywuA9QrQrt3a",
        "outputId": "166cfc31-e783-430f-d900-3e94cdb3a54e",
        "colab": {
          "base_uri": "https://localhost:8080/"
        }
      },
      "outputs": [
        {
          "output_type": "stream",
          "name": "stdout",
          "text": [
            "Variable a: True <class 'bool'>\n",
            "Variable b: False <class 'bool'>\n"
          ]
        }
      ],
      "source": [
        "# Generate a boolean\n",
        "a = True\n",
        "b = False\n",
        "\n",
        "# Print the variables\n",
        "print('Variable a:', a, type(a))\n",
        "print('Variable b:', b, type(b))"
      ]
    },
    {
      "cell_type": "code",
      "execution_count": 70,
      "metadata": {
        "id": "XoaaXXUw-tF2",
        "outputId": "b493b4ad-8b39-42ae-aa47-c28dfdf3b231",
        "colab": {
          "base_uri": "https://localhost:8080/"
        }
      },
      "outputs": [
        {
          "output_type": "stream",
          "name": "stdout",
          "text": [
            "Variable c: 42 <class 'str'>\n",
            "Variable d: True <class 'bool'>\n"
          ]
        }
      ],
      "source": [
        "# Get a boolean from a method\n",
        "\n",
        "# Create a variable that is a string of a number\n",
        "c = \"42\"\n",
        "d = c.isnumeric()\n",
        "\n",
        "# Print the variables\n",
        "print('Variable c:', c, type(c))\n",
        "print('Variable d:', d, type(d))"
      ]
    },
    {
      "cell_type": "markdown",
      "metadata": {
        "id": "qV9u0wZM-tF2"
      },
      "source": [
        "You can also generate boolean by using logical operators:"
      ]
    },
    {
      "cell_type": "code",
      "execution_count": 71,
      "metadata": {
        "id": "X8COniRK-tF2",
        "outputId": "1f9da715-49e7-4769-d302-b8fc9a8e153f",
        "colab": {
          "base_uri": "https://localhost:8080/"
        }
      },
      "outputs": [
        {
          "output_type": "execute_result",
          "data": {
            "text/plain": [
              "True"
            ]
          },
          "metadata": {},
          "execution_count": 71
        }
      ],
      "source": [
        "3 > 1"
      ]
    },
    {
      "cell_type": "code",
      "execution_count": 72,
      "metadata": {
        "id": "gtLNtxY2-tF3",
        "outputId": "f7dd728a-3c6f-4a95-8806-d2aa68751f20",
        "colab": {
          "base_uri": "https://localhost:8080/"
        }
      },
      "outputs": [
        {
          "output_type": "execute_result",
          "data": {
            "text/plain": [
              "False"
            ]
          },
          "metadata": {},
          "execution_count": 72
        }
      ],
      "source": [
        "3 < 2"
      ]
    },
    {
      "cell_type": "code",
      "execution_count": 73,
      "metadata": {
        "id": "tIhHzEbu-tF3",
        "outputId": "6136174d-1252-4e55-9902-2f6359d83541",
        "colab": {
          "base_uri": "https://localhost:8080/"
        }
      },
      "outputs": [
        {
          "output_type": "execute_result",
          "data": {
            "text/plain": [
              "True"
            ]
          },
          "metadata": {},
          "execution_count": 73
        }
      ],
      "source": [
        "x = 10\n",
        "x == 10 # note the double equal sign, denoting a comparison"
      ]
    },
    {
      "cell_type": "code",
      "execution_count": 74,
      "metadata": {
        "id": "Jf_ynn9n-tF3",
        "outputId": "de499452-23c7-4008-9589-d21786dedecd",
        "colab": {
          "base_uri": "https://localhost:8080/"
        }
      },
      "outputs": [
        {
          "output_type": "execute_result",
          "data": {
            "text/plain": [
              "False"
            ]
          },
          "metadata": {},
          "execution_count": 74
        }
      ],
      "source": [
        "y = 12\n",
        "y != 12 # means \"different than\""
      ]
    },
    {
      "cell_type": "markdown",
      "metadata": {
        "id": "mrv9wce_-tF3"
      },
      "source": [
        "## S2.6 The None type - a variable exists but it contains nothing\n",
        "\n",
        "| Class name | Full name      | Name used       | Usage                             |\n",
        "|:---        |:---            |:---             | :---                              |\n",
        "| none       | None           | \"none\"          | An explicit way of saying nothing |\n",
        "\n",
        "Sometimes we want to have a variable even if that variable is empty.\n",
        "This will prevent `NameError` due to a variable not existing, even when there is no information to store in that variable."
      ]
    },
    {
      "cell_type": "code",
      "execution_count": 75,
      "metadata": {
        "id": "I-L0OjVn-tF3",
        "outputId": "d79b75a2-a672-4874-d797-c2de1131f6ec",
        "colab": {
          "base_uri": "https://localhost:8080/",
          "height": 176
        }
      },
      "outputs": [
        {
          "output_type": "error",
          "ename": "NameError",
          "evalue": "name 'employer' is not defined",
          "traceback": [
            "\u001b[0;31m---------------------------------------------------------------------------\u001b[0m",
            "\u001b[0;31mNameError\u001b[0m                                 Traceback (most recent call last)",
            "\u001b[0;32m<ipython-input-75-9fb0abc2781f>\u001b[0m in \u001b[0;36m<cell line: 4>\u001b[0;34m()\u001b[0m\n\u001b[1;32m      2\u001b[0m \u001b[0mage\u001b[0m \u001b[0;34m=\u001b[0m \u001b[0;36m51\u001b[0m\u001b[0;34m\u001b[0m\u001b[0;34m\u001b[0m\u001b[0m\n\u001b[1;32m      3\u001b[0m \u001b[0;34m\u001b[0m\u001b[0m\n\u001b[0;32m----> 4\u001b[0;31m \u001b[0mprint\u001b[0m\u001b[0;34m(\u001b[0m\u001b[0;34mf\"{name} (age {age}) is employed by {employer}\"\u001b[0m\u001b[0;34m)\u001b[0m\u001b[0;34m\u001b[0m\u001b[0;34m\u001b[0m\u001b[0m\n\u001b[0m",
            "\u001b[0;31mNameError\u001b[0m: name 'employer' is not defined"
          ]
        }
      ],
      "source": [
        "name = \"Frodo Baggins\"\n",
        "age = 51\n",
        "\n",
        "print(f\"{name} (age {age}) is employed by {employer}\")"
      ]
    },
    {
      "cell_type": "code",
      "execution_count": 76,
      "metadata": {
        "id": "SlWonr8K-tF4",
        "outputId": "756c1ffb-11f2-473e-ad24-e1e6cf128232",
        "colab": {
          "base_uri": "https://localhost:8080/"
        }
      },
      "outputs": [
        {
          "output_type": "stream",
          "name": "stdout",
          "text": [
            "employer None <class 'NoneType'>\n",
            "Frodo Baggins (age 51) is employed by None\n",
            "\n",
            "\n",
            "employer World Bank <class 'str'>\n",
            "Frodo Baggins (age 51) is employed by World Bank\n"
          ]
        }
      ],
      "source": [
        "# Frodo is unemployed\n",
        "employer = None\n",
        "print(\"employer\",employer,type(employer))\n",
        "print(f\"{name} (age {age}) is employed by {employer}\")\n",
        "\n",
        "# Frodo gets a job at the World Bank\n",
        "employer = \"World Bank\"\n",
        "print('\\n')\n",
        "print(\"employer\",employer,type(employer))\n",
        "print(f\"{name} (age {age}) is employed by {employer}\")"
      ]
    },
    {
      "cell_type": "markdown",
      "metadata": {
        "id": "zmQD9Ad7rt3b"
      },
      "source": [
        "## S2.7 Basic data types summary\n",
        "\n",
        "* The only way to store data in Python\n",
        "* Stored in a variable with a name and type\n",
        "* Which operations (`+`, `-`, etc..) or methods (`.upper()`) you can use depends on the type\n",
        "\n",
        "**Important errors**\n",
        "\n",
        "| Error name         | Likely reason for the error |\n",
        "|:---                |:---                     |\n",
        "| **NameError**      | You have a typo when referencing a variable or you try to reference a variable before it is created |\n",
        "| **AttributeError** | You have used a method or an attribute on a type where that method or attributed does not exist |\n",
        "\n"
      ]
    },
    {
      "cell_type": "markdown",
      "metadata": {
        "id": "RBRoz5f9-tF4"
      },
      "source": [
        "## S3.0 Functions and summary of operators and methods\n",
        "\n",
        "### S3.1 Functions\n",
        "\n",
        "Python has some built in functions. Functions are like methods in that they're an action. But while methods are added to a variable, like `x.method()`, you use a function directly in your code.\n",
        "\n",
        "You have already seen the functions `print()` and `type()`.\n",
        "They accept any type of variable. Some functions do not work on every type."
      ]
    },
    {
      "cell_type": "code",
      "execution_count": 77,
      "metadata": {
        "id": "h4VriCX--tF4",
        "outputId": "1c50d9da-67e5-4e7b-d44e-0e36b8741251",
        "colab": {
          "base_uri": "https://localhost:8080/"
        }
      },
      "outputs": [
        {
          "output_type": "stream",
          "name": "stdout",
          "text": [
            "str_a: Frodo <class 'str'>\n",
            "str_b: Gandalf <class 'str'>\n",
            "int_a: 51 <class 'int'>\n"
          ]
        }
      ],
      "source": [
        "#Define two strings and one int\n",
        "str_a = \"Frodo\"\n",
        "str_b = \"Gandalf\"\n",
        "int_a = 51\n",
        "\n",
        "# Start by printing them\n",
        "print('str_a:',str_a,type(str_a))\n",
        "print('str_b:',str_b,type(str_b))\n",
        "print('int_a:',int_a,type(int_a))"
      ]
    },
    {
      "cell_type": "markdown",
      "metadata": {
        "id": "cn3svrw1-tF4"
      },
      "source": [
        "The function `len()` is used to get the length of a variable.\n",
        "For a string that is the number of characters."
      ]
    },
    {
      "cell_type": "code",
      "execution_count": 78,
      "metadata": {
        "id": "-cW7t5Mp-tF4",
        "outputId": "a2a8ef19-c9ea-45ea-831a-094322af4bfc",
        "colab": {
          "base_uri": "https://localhost:8080/"
        }
      },
      "outputs": [
        {
          "output_type": "stream",
          "name": "stdout",
          "text": [
            "Number of characters in Frodo : 5\n",
            "Number of characters in Gandalf : 7\n"
          ]
        }
      ],
      "source": [
        "print('Number of characters in',str_a,\":\", len(str_a))\n",
        "print('Number of characters in',str_b,\":\", len(str_b))"
      ]
    },
    {
      "cell_type": "markdown",
      "metadata": {
        "id": "suBOZdvh-tF4"
      },
      "source": [
        "What do you think that the length of an `int` is?"
      ]
    },
    {
      "cell_type": "code",
      "execution_count": 79,
      "metadata": {
        "scrolled": true,
        "id": "tNHHowTQ-tF5",
        "outputId": "b2052914-0c6e-4fdb-85dc-760ff849c983",
        "colab": {
          "base_uri": "https://localhost:8080/",
          "height": 141
        }
      },
      "outputs": [
        {
          "output_type": "error",
          "ename": "TypeError",
          "evalue": "object of type 'int' has no len()",
          "traceback": [
            "\u001b[0;31m---------------------------------------------------------------------------\u001b[0m",
            "\u001b[0;31mTypeError\u001b[0m                                 Traceback (most recent call last)",
            "\u001b[0;32m<ipython-input-79-3fab6c645b07>\u001b[0m in \u001b[0;36m<cell line: 1>\u001b[0;34m()\u001b[0m\n\u001b[0;32m----> 1\u001b[0;31m \u001b[0mprint\u001b[0m\u001b[0;34m(\u001b[0m\u001b[0;34m'The length of the int'\u001b[0m\u001b[0;34m,\u001b[0m\u001b[0mint_a\u001b[0m\u001b[0;34m,\u001b[0m\u001b[0;34m\"is:\"\u001b[0m\u001b[0;34m,\u001b[0m\u001b[0mlen\u001b[0m\u001b[0;34m(\u001b[0m\u001b[0mint_a\u001b[0m\u001b[0;34m)\u001b[0m\u001b[0;34m)\u001b[0m\u001b[0;34m\u001b[0m\u001b[0;34m\u001b[0m\u001b[0m\n\u001b[0m",
            "\u001b[0;31mTypeError\u001b[0m: object of type 'int' has no len()"
          ]
        }
      ],
      "source": [
        "print('The length of the int',int_a,\"is:\",len(int_a))"
      ]
    },
    {
      "cell_type": "markdown",
      "metadata": {
        "id": "S2TbDqHk-tF5"
      },
      "source": [
        "### S3.2 Summary of the types of \"actions\" you can take on Python data\n",
        "\n",
        "| Action name | Examples      | Description    | Documentation |\n",
        "|:---         |:---           |:---            |:---           |\n",
        "| Operator    | `+`,`-` etc.  | Only used for basic actions. Most common to use with numeric types but works in some cases on other types as well. | https://www.w3schools.com/python/python_operators.asp |\n",
        "| Method      | `x.method()`  | Always specific to a type (does not imply unique to a type). Used to interact with, modify or analyze the data in the variable. | Read the documentation for each  type of atom, container or object.       |\n",
        "| Function    | `function(x)` | Some built in and it is common to make your own (tomorrow's session) | Built-in functions: https://www.w3schools.com/python/python_ref_functions.asp |"
      ]
    },
    {
      "cell_type": "markdown",
      "metadata": {
        "id": "Tn4R0A0E-tF5"
      },
      "source": [
        "### S3.3 Where to find documentation for each type or object?\n",
        "\n",
        "For example, what methods does a type have and what do they do?\n"
      ]
    },
    {
      "cell_type": "code",
      "execution_count": 80,
      "metadata": {
        "id": "4AsLLyrc-tF5"
      },
      "outputs": [],
      "source": [
        "# Basic information of a function\n",
        "print?"
      ]
    },
    {
      "cell_type": "code",
      "execution_count": 81,
      "metadata": {
        "id": "QDn2xAxc-tF5"
      },
      "outputs": [],
      "source": [
        "# If you know the name of method you can use\n",
        "str.upper?"
      ]
    },
    {
      "cell_type": "code",
      "execution_count": 82,
      "metadata": {
        "collapsed": true,
        "id": "-0n1iOF7-tF5",
        "outputId": "45c1a64d-3e08-480b-e59f-cce8c0c8bd34",
        "colab": {
          "base_uri": "https://localhost:8080/"
        }
      },
      "outputs": [
        {
          "output_type": "execute_result",
          "data": {
            "text/plain": [
              "['__add__',\n",
              " '__class__',\n",
              " '__contains__',\n",
              " '__delattr__',\n",
              " '__dir__',\n",
              " '__doc__',\n",
              " '__eq__',\n",
              " '__format__',\n",
              " '__ge__',\n",
              " '__getattribute__',\n",
              " '__getitem__',\n",
              " '__getnewargs__',\n",
              " '__gt__',\n",
              " '__hash__',\n",
              " '__init__',\n",
              " '__init_subclass__',\n",
              " '__iter__',\n",
              " '__le__',\n",
              " '__len__',\n",
              " '__lt__',\n",
              " '__mod__',\n",
              " '__mul__',\n",
              " '__ne__',\n",
              " '__new__',\n",
              " '__reduce__',\n",
              " '__reduce_ex__',\n",
              " '__repr__',\n",
              " '__rmod__',\n",
              " '__rmul__',\n",
              " '__setattr__',\n",
              " '__sizeof__',\n",
              " '__str__',\n",
              " '__subclasshook__',\n",
              " 'capitalize',\n",
              " 'casefold',\n",
              " 'center',\n",
              " 'count',\n",
              " 'encode',\n",
              " 'endswith',\n",
              " 'expandtabs',\n",
              " 'find',\n",
              " 'format',\n",
              " 'format_map',\n",
              " 'index',\n",
              " 'isalnum',\n",
              " 'isalpha',\n",
              " 'isascii',\n",
              " 'isdecimal',\n",
              " 'isdigit',\n",
              " 'isidentifier',\n",
              " 'islower',\n",
              " 'isnumeric',\n",
              " 'isprintable',\n",
              " 'isspace',\n",
              " 'istitle',\n",
              " 'isupper',\n",
              " 'join',\n",
              " 'ljust',\n",
              " 'lower',\n",
              " 'lstrip',\n",
              " 'maketrans',\n",
              " 'partition',\n",
              " 'removeprefix',\n",
              " 'removesuffix',\n",
              " 'replace',\n",
              " 'rfind',\n",
              " 'rindex',\n",
              " 'rjust',\n",
              " 'rpartition',\n",
              " 'rsplit',\n",
              " 'rstrip',\n",
              " 'split',\n",
              " 'splitlines',\n",
              " 'startswith',\n",
              " 'strip',\n",
              " 'swapcase',\n",
              " 'title',\n",
              " 'translate',\n",
              " 'upper',\n",
              " 'zfill']"
            ]
          },
          "metadata": {},
          "execution_count": 82
        }
      ],
      "source": [
        "# A not so user friendly but complete way of listing all methods that a type has\n",
        "dir(str)"
      ]
    },
    {
      "cell_type": "code",
      "execution_count": null,
      "metadata": {
        "id": "l7sa4Ssb-tF6"
      },
      "outputs": [],
      "source": [
        "# Returns information of a class and all its methods into a single output\n",
        "help(str)"
      ]
    },
    {
      "cell_type": "markdown",
      "metadata": {
        "id": "s6uWglUg-tF6"
      },
      "source": [
        "**But in reality**, most people use this to read the documentation: https://www.google.com/search?q=google+python+str+methods\n",
        "        \n",
        "Python is such a widely used language that there is always someone who has written a great guide for what you need to know, and google helps you find it."
      ]
    },
    {
      "cell_type": "markdown",
      "metadata": {
        "id": "055IXDVmrt3b"
      },
      "source": [
        "# S4.0 - Container types\n",
        "\n",
        "So far we have only covered the atoms of Python.\n",
        "We have not yet introduced how you\n",
        "combine the atoms into more useful molecules.\n",
        "\n",
        "The basic data types `int`, `float`, `str`, `bool` and `none` can be combined in **the basic container types**.\n",
        "\n",
        "| Class name | Full name  | Access                      | Occurrence  | Remarks |\n",
        "|:---        |:---        | :---                        | :---        | :---\n",
        "| list       | List       | Access items by order       | Common      | Since we access items by order, the order you add items to a list is important |\n",
        "| dict       | Dictionary | Access items by key         | Common      | Since we access items by key names, the order is not important |\n",
        "| tuple      | Tuple      | Access items by order       | Less common | Very similar to a list, but when created it cannot be modified |\n",
        "| set        | Set        | Test if item already in set | Rare        | A container that cannot hold duplicates |\n",
        "\n",
        "Containers can hold basic data types (atoms) variables\n",
        "as well as other containers variables.\n",
        "You can mix data types and container types if need.\n",
        "Complex variables in Python are created by\n",
        "nesting many layers of container variables.\n",
        "\n",
        "`list`s and `dict`s -\n",
        "we will cover lists and dictionaries properly\n",
        "as you will create and use them a lot.\n",
        "\n",
        "`tuples`s and `set`s -\n",
        "Tuples are often returned from functions and methods\n",
        "so we will cover how to use them.\n",
        "We will only briefly cover sets.\n"
      ]
    },
    {
      "cell_type": "markdown",
      "metadata": {
        "id": "cais7dJ2rt3b"
      },
      "source": [
        "## S4.1 Container types - Lists\n",
        "\n",
        "| Class name | Full name  | Access                      | Occurrence  | Remarks |\n",
        "|:---        |:---        | :---                        | :---        | :---\n",
        "| list       | List       | Access items by order       | Common      | Since we access items by order, the order you add items to a list is important |\n",
        "\n",
        "We can add variables to a list\n",
        "at the time of creating the list\n",
        "or we can add variables later.\n",
        "\n",
        "---\n",
        "\n",
        "**Create a list:**"
      ]
    },
    {
      "cell_type": "code",
      "execution_count": 85,
      "metadata": {
        "id": "6yG55Re2rt3b",
        "outputId": "a6729aa9-f92d-4d7a-a328-1c4369cee864",
        "colab": {
          "base_uri": "https://localhost:8080/"
        }
      },
      "outputs": [
        {
          "output_type": "stream",
          "name": "stdout",
          "text": [
            "[0, 1, 2, 3, 4, 5, 6, 7, 8, 9]\n"
          ]
        },
        {
          "output_type": "execute_result",
          "data": {
            "text/plain": [
              "list"
            ]
          },
          "metadata": {},
          "execution_count": 85
        }
      ],
      "source": [
        "# Create a list of ints\n",
        "list_int = [0, 1, 2, 3, 4, 5, 6, 7, 8, 9]\n",
        "print(list_int)\n",
        "type(list_int)"
      ]
    },
    {
      "cell_type": "code",
      "execution_count": 84,
      "metadata": {
        "id": "Ng55I2_Crt3b",
        "outputId": "f5a07823-6ba4-4183-a83b-2bc25a0da2b7",
        "colab": {
          "base_uri": "https://localhost:8080/"
        }
      },
      "outputs": [
        {
          "output_type": "stream",
          "name": "stdout",
          "text": [
            "['a', 'b', 'c']\n"
          ]
        }
      ],
      "source": [
        "# Create a list of strings\n",
        "list_str = ['a', 'b', 'c']\n",
        "print(list_str)"
      ]
    },
    {
      "cell_type": "code",
      "execution_count": 86,
      "metadata": {
        "id": "YSzCMjzdrt3b",
        "outputId": "50699e85-acf2-4ca9-ec35-038dc23c333c",
        "colab": {
          "base_uri": "https://localhost:8080/"
        }
      },
      "outputs": [
        {
          "output_type": "stream",
          "name": "stdout",
          "text": [
            "[42, 'Arthur', False]\n"
          ]
        }
      ],
      "source": [
        "# Create a mixed list\n",
        "list_mix = [42, 'Arthur', False]\n",
        "print(list_mix)"
      ]
    },
    {
      "cell_type": "code",
      "execution_count": 87,
      "metadata": {
        "id": "QUhsOAFJrt3b",
        "outputId": "24dfc88c-5e3b-4616-8c61-46d3a8883cdb",
        "colab": {
          "base_uri": "https://localhost:8080/"
        }
      },
      "outputs": [
        {
          "output_type": "execute_result",
          "data": {
            "text/plain": [
              "list"
            ]
          },
          "metadata": {},
          "execution_count": 87
        }
      ],
      "source": [
        "# test the type of a list\n",
        "type(list_mix)"
      ]
    },
    {
      "cell_type": "markdown",
      "metadata": {
        "id": "ZbdS68bDrt3b"
      },
      "source": [
        "**Access an item in a list**:\n",
        "\n",
        "We access an item in the list by its order.\n",
        "For example, the 3rd item, 7th item etc.\n",
        "\n",
        "However, items are accessed by index,\n",
        "and in computer science index starts on 0 and not 1.\n",
        "So the item with index 1 is actually the second item in the list."
      ]
    },
    {
      "cell_type": "code",
      "execution_count": 88,
      "metadata": {
        "id": "GJcjuk6srt3b",
        "outputId": "f69d54af-668e-44e1-d683-00b68111c9c3",
        "colab": {
          "base_uri": "https://localhost:8080/"
        }
      },
      "outputs": [
        {
          "output_type": "stream",
          "name": "stdout",
          "text": [
            "List list_mix: [42, 'Arthur', False]\n"
          ]
        }
      ],
      "source": [
        "# Print list\n",
        "print('List list_mix:', list_mix)"
      ]
    },
    {
      "cell_type": "code",
      "execution_count": 89,
      "metadata": {
        "id": "jOViIW_B-tF8",
        "outputId": "8e84ccde-a56d-4d0d-b2b9-5bd1729448de",
        "colab": {
          "base_uri": "https://localhost:8080/"
        }
      },
      "outputs": [
        {
          "output_type": "stream",
          "name": "stdout",
          "text": [
            "First item (index 0): 42\n"
          ]
        },
        {
          "output_type": "execute_result",
          "data": {
            "text/plain": [
              "int"
            ]
          },
          "metadata": {},
          "execution_count": 89
        }
      ],
      "source": [
        "# Print first item in the list\n",
        "print('First item (index 0):' , list_mix[0])\n",
        "type(list_mix[0])"
      ]
    },
    {
      "cell_type": "code",
      "execution_count": 90,
      "metadata": {
        "id": "rRu-35kI-tF8",
        "outputId": "b2753e45-1162-4d8a-d31a-481462d0cf4a",
        "colab": {
          "base_uri": "https://localhost:8080/"
        }
      },
      "outputs": [
        {
          "output_type": "stream",
          "name": "stdout",
          "text": [
            "Second item (index 1): Arthur\n"
          ]
        }
      ],
      "source": [
        "# Print second item in the list\n",
        "print('Second item (index 1):', list_mix[1])"
      ]
    },
    {
      "cell_type": "code",
      "execution_count": 91,
      "metadata": {
        "id": "nHudnxIk-tF8",
        "outputId": "8f9a623e-c419-457e-a9f5-69e8ffea6b67",
        "colab": {
          "base_uri": "https://localhost:8080/"
        }
      },
      "outputs": [
        {
          "output_type": "stream",
          "name": "stdout",
          "text": [
            "Third item (index 2): False\n"
          ]
        }
      ],
      "source": [
        "# Print third item in the list\n",
        "print('Third item (index 2):' , list_mix[2])"
      ]
    },
    {
      "cell_type": "code",
      "execution_count": 92,
      "metadata": {
        "id": "FJsL14xXrt3b",
        "outputId": "721679ff-c965-4a64-ca5a-fd91acd2065c",
        "colab": {
          "base_uri": "https://localhost:8080/"
        }
      },
      "outputs": [
        {
          "output_type": "stream",
          "name": "stdout",
          "text": [
            "Variable name: Arthur\n"
          ]
        }
      ],
      "source": [
        "# Access item in list and store in variable\n",
        "name = list_mix[1]\n",
        "print('Variable name:', name)"
      ]
    },
    {
      "cell_type": "code",
      "execution_count": 93,
      "metadata": {
        "id": "cqPJ1CqKrt3b",
        "outputId": "f3a10500-0e6d-4173-bcab-470d37ecd4b8",
        "colab": {
          "base_uri": "https://localhost:8080/"
        }
      },
      "outputs": [
        {
          "output_type": "stream",
          "name": "stdout",
          "text": [
            "List list_mix: [42, 'Arthur', False]\n"
          ]
        }
      ],
      "source": [
        "# Accessing items using the index does not modify the list\n",
        "print('List list_mix:', list_mix)"
      ]
    },
    {
      "cell_type": "markdown",
      "metadata": {
        "id": "BrHSLrZtrt3b"
      },
      "source": [
        "**Access multiple items in a list:**"
      ]
    },
    {
      "cell_type": "code",
      "execution_count": 95,
      "metadata": {
        "id": "o_fcZFs9rt3b"
      },
      "outputs": [],
      "source": [
        "# Re-create list of ints\n",
        "list_int = [0, 1, 2, 3, 4, 5, 6, 7, 8, 9]"
      ]
    },
    {
      "cell_type": "code",
      "execution_count": 96,
      "metadata": {
        "id": "RY1nR1zErt3b",
        "outputId": "1a690cb4-5fde-431b-cfeb-973d5319baf4",
        "colab": {
          "base_uri": "https://localhost:8080/"
        }
      },
      "outputs": [
        {
          "output_type": "stream",
          "name": "stdout",
          "text": [
            "[0, 1, 2]\n"
          ]
        }
      ],
      "source": [
        "# Get all items between the item with index 0\n",
        "# up until but not including the item with index 3\n",
        "# 0 ≤ index < 3\n",
        "print(list_int[0:3])"
      ]
    },
    {
      "cell_type": "code",
      "execution_count": 97,
      "metadata": {
        "id": "tTFFwXB1rt3b",
        "outputId": "83e8539d-6011-489b-cc2b-97179610c266",
        "colab": {
          "base_uri": "https://localhost:8080/"
        }
      },
      "outputs": [
        {
          "output_type": "stream",
          "name": "stdout",
          "text": [
            "[0, 1, 2]\n"
          ]
        }
      ],
      "source": [
        "# Index 0 is assumed if the fist number is omitted\n",
        "# So 0:3 is the same as :3\n",
        "print(list_int[:3])"
      ]
    },
    {
      "cell_type": "code",
      "execution_count": 100,
      "metadata": {
        "id": "a2k1Dwvtrt3c",
        "outputId": "e458c065-5db5-46f4-c3a7-2c380dd20ad9",
        "colab": {
          "base_uri": "https://localhost:8080/"
        }
      },
      "outputs": [
        {
          "output_type": "stream",
          "name": "stdout",
          "text": [
            "[5, 6]\n"
          ]
        }
      ],
      "source": [
        "# 5 ≤ index < 7\n",
        "print(list_int[5:7])"
      ]
    },
    {
      "cell_type": "code",
      "execution_count": 101,
      "metadata": {
        "id": "IRKEQ8TPrt3c",
        "outputId": "ca5946fb-5f16-4a2a-d734-538953289264",
        "colab": {
          "base_uri": "https://localhost:8080/"
        }
      },
      "outputs": [
        {
          "output_type": "stream",
          "name": "stdout",
          "text": [
            "[8, 9]\n"
          ]
        }
      ],
      "source": [
        "# 8 ≤ index < infinity\n",
        "# All remaining items are included if the second number is omitted\n",
        "print(list_int[8:])"
      ]
    },
    {
      "cell_type": "code",
      "execution_count": 102,
      "metadata": {
        "id": "rjA58p9_rt3c",
        "outputId": "b2d9e2bf-2e12-4fb9-cbbb-c0b6dc4976e5",
        "colab": {
          "base_uri": "https://localhost:8080/"
        }
      },
      "outputs": [
        {
          "output_type": "stream",
          "name": "stdout",
          "text": [
            "[7, 8, 9]\n"
          ]
        }
      ],
      "source": [
        "# (number of items - 3) ≤ index < infinity\n",
        "print(list_int[-3:])"
      ]
    },
    {
      "cell_type": "code",
      "execution_count": 103,
      "metadata": {
        "id": "kUv5LLyGrt3c",
        "outputId": "9501f407-80a8-440d-c253-701b2667682a",
        "colab": {
          "base_uri": "https://localhost:8080/"
        }
      },
      "outputs": [
        {
          "output_type": "stream",
          "name": "stdout",
          "text": [
            "[3, 4, 5, 6, 7]\n",
            "[3, 4, 5, 6, 7]\n"
          ]
        }
      ],
      "source": [
        "# (number of items - 7) ≤ index < (number of items - 2)\n",
        "print(list_int[-7:-2])\n",
        "# 3 ≤ index < 8\n",
        "print(list_int[3:8])"
      ]
    },
    {
      "cell_type": "markdown",
      "metadata": {
        "id": "bmwF0kf9rt3c"
      },
      "source": [
        "**Important error message: IndexError**\n",
        "    \n",
        "Whenever you see an error where it says \"index out of range\", as in `IndexError: list index out of range`, then it means that you have tried to access an item in the list, using an index that is not used in the list."
      ]
    },
    {
      "cell_type": "code",
      "execution_count": 104,
      "metadata": {
        "id": "5Ans_DPprt3c",
        "outputId": "8541fda1-4290-4e69-e822-6026c9396a21",
        "colab": {
          "base_uri": "https://localhost:8080/",
          "height": 193
        }
      },
      "outputs": [
        {
          "output_type": "stream",
          "name": "stdout",
          "text": [
            "[0, 1, 2, 3, 4, 5, 6, 7, 8, 9]\n"
          ]
        },
        {
          "output_type": "error",
          "ename": "IndexError",
          "evalue": "list index out of range",
          "traceback": [
            "\u001b[0;31m---------------------------------------------------------------------------\u001b[0m",
            "\u001b[0;31mIndexError\u001b[0m                                Traceback (most recent call last)",
            "\u001b[0;32m<ipython-input-104-402857466940>\u001b[0m in \u001b[0;36m<cell line: 3>\u001b[0;34m()\u001b[0m\n\u001b[1;32m      1\u001b[0m \u001b[0;31m# IndexError: list index out of range\u001b[0m\u001b[0;34m\u001b[0m\u001b[0;34m\u001b[0m\u001b[0m\n\u001b[1;32m      2\u001b[0m \u001b[0mprint\u001b[0m\u001b[0;34m(\u001b[0m\u001b[0mlist_int\u001b[0m\u001b[0;34m)\u001b[0m\u001b[0;34m\u001b[0m\u001b[0;34m\u001b[0m\u001b[0m\n\u001b[0;32m----> 3\u001b[0;31m \u001b[0mprint\u001b[0m\u001b[0;34m(\u001b[0m\u001b[0mlist_int\u001b[0m\u001b[0;34m[\u001b[0m\u001b[0;36m10\u001b[0m\u001b[0;34m]\u001b[0m\u001b[0;34m)\u001b[0m\u001b[0;34m\u001b[0m\u001b[0;34m\u001b[0m\u001b[0m\n\u001b[0m",
            "\u001b[0;31mIndexError\u001b[0m: list index out of range"
          ]
        }
      ],
      "source": [
        "# IndexError: list index out of range\n",
        "print(list_int)\n",
        "print(list_int[10])"
      ]
    },
    {
      "cell_type": "markdown",
      "metadata": {
        "id": "HrKvXJjbrt3c"
      },
      "source": [
        "**Ex. 6a** (do ex 6a and 6b independently ~ 5 min)"
      ]
    },
    {
      "cell_type": "code",
      "execution_count": null,
      "metadata": {
        "id": "DPbyQ_iTrt3c"
      },
      "outputs": [],
      "source": [
        "# From the list digits, in one line of code,\n",
        "# create the variable ex7_x with the list [0,1,2,3,4]\n",
        "\n",
        "digits = [0,1,2,3,4,5,6,7,8,9]\n",
        "\n",
        "### ADD YOUR CODE HERE\n",
        "\n",
        "# === Do not modify code below ===\n",
        "assert ex7_x == [0,1,2,3,4]"
      ]
    },
    {
      "cell_type": "markdown",
      "metadata": {
        "id": "YIGDz3_mrt3c"
      },
      "source": [
        "**Ex. 6b**"
      ]
    },
    {
      "cell_type": "code",
      "execution_count": null,
      "metadata": {
        "id": "yRBGZOMvrt3c"
      },
      "outputs": [],
      "source": [
        "# From the list digits, in one line of code,\n",
        "# create the variable ex7_y with the list [5,6,7,8]\n",
        "\n",
        "digits = [0,1,2,3,4,5,6,7,8,9]\n",
        "\n",
        "### ADD YOUR CODE HERE\n",
        "\n",
        "# === Do not modify code below ===\n",
        "assert ex7_y == [5,6,7,8]"
      ]
    },
    {
      "cell_type": "markdown",
      "metadata": {
        "id": "u2SxOnLzrt3c"
      },
      "source": [
        "**Edit a list:**\n",
        "\n",
        "So far, every time we have modified a variable we have used a `=`. For example `x = x + 1` or `name = list_mix[1]`.\n",
        "\n",
        "Lists have some _in-place_ operator methods, meaning methods that change modify the item itself.\n",
        "\n",
        "You find a list of more list methods here: https://www.w3schools.com/python/python_ref_list.asp"
      ]
    },
    {
      "cell_type": "code",
      "execution_count": 105,
      "metadata": {
        "id": "MMdRH3Awrt3c",
        "scrolled": true,
        "outputId": "1cf576e3-c75f-4ca9-a61b-1112a2747ad7",
        "colab": {
          "base_uri": "https://localhost:8080/"
        }
      },
      "outputs": [
        {
          "output_type": "stream",
          "name": "stdout",
          "text": [
            "Variable pets: ['cat', 'dog']\n",
            "Variable pets: ['cat', 'dog', 'gold fish']\n"
          ]
        }
      ],
      "source": [
        "# Create a list of strs\n",
        "pets = ['cat','dog']\n",
        "print('Variable pets:', pets)\n",
        "\n",
        "# Add one item to the list\n",
        "# Important: append() modifies the list in-place\n",
        "pets.append('gold fish')\n",
        "print('Variable pets:', pets)"
      ]
    },
    {
      "cell_type": "markdown",
      "metadata": {
        "id": "RveJVjSD-tGA"
      },
      "source": [
        "Note that we did not do: `pets = pets.append('gold fish')`. This would return a `None` type:"
      ]
    },
    {
      "cell_type": "code",
      "execution_count": 106,
      "metadata": {
        "id": "X1rOxWocrt3c",
        "outputId": "ec85c45a-eeee-4b4c-ab5c-3cde13677371",
        "colab": {
          "base_uri": "https://localhost:8080/"
        }
      },
      "outputs": [
        {
          "output_type": "stream",
          "name": "stdout",
          "text": [
            "Variable pets: ['cat', 'dog', 'gold fish', 'butterfly'] <class 'list'>\n",
            "Variable pets_append_return: None <class 'NoneType'>\n"
          ]
        }
      ],
      "source": [
        "# Add another item to the list using in-place .append() and the \"=\" assign operator\n",
        "pets_append_return = pets.append('butterfly')\n",
        "print('Variable pets:', pets, type(pets))\n",
        "print('Variable pets_append_return:', pets_append_return, type(pets_append_return))"
      ]
    },
    {
      "cell_type": "markdown",
      "metadata": {
        "id": "KSPxAE3_-tGA"
      },
      "source": [
        "We can also insert new items in lists with `.insert()`:"
      ]
    },
    {
      "cell_type": "code",
      "execution_count": null,
      "metadata": {
        "id": "Q-Np9qtprt3c"
      },
      "outputs": [],
      "source": [
        "# Re-create the list of pets\n",
        "pets = ['cat', 'dog', 'gold fish', 'butterfly']\n",
        "print(pets)\n",
        "\n",
        "# Print item with index 3 in original list\n",
        "print('Print pet at index 3:', pets[3])"
      ]
    },
    {
      "cell_type": "code",
      "execution_count": null,
      "metadata": {
        "id": "e0VSIKeC-tGB"
      },
      "outputs": [],
      "source": [
        "# Add item at index 2\n",
        "pets.insert(2,'parrot')\n",
        "\n",
        "# Print item with index 3 again\n",
        "print('Print pet at index 3:', pets[3])\n",
        "\n",
        "#Print all pets\n",
        "print('Variable pets:', pets)"
      ]
    },
    {
      "cell_type": "code",
      "execution_count": 107,
      "metadata": {
        "id": "RcXxsxgkrt3c",
        "outputId": "ba74c90e-10b8-486e-f9c9-6fecffb671c1",
        "colab": {
          "base_uri": "https://localhost:8080/"
        }
      },
      "outputs": [
        {
          "output_type": "stream",
          "name": "stdout",
          "text": [
            "Variable pets: ['cat', 'wolf', 'gold fish', 'butterfly']\n"
          ]
        }
      ],
      "source": [
        "# Modify item with index 1\n",
        "pets[1] = 'wolf'\n",
        "print('Variable pets:', pets)"
      ]
    },
    {
      "cell_type": "code",
      "execution_count": 108,
      "metadata": {
        "id": "GffHXEZmrt3c",
        "outputId": "56e3d1df-6b6a-4a07-a482-3ea6375bf1fe",
        "colab": {
          "base_uri": "https://localhost:8080/"
        }
      },
      "outputs": [
        {
          "output_type": "stream",
          "name": "stdout",
          "text": [
            "Variable pets: ['cat', 'wolf', 'gold fish', 'butterfly']\n",
            "Variable pet_pop: butterfly\n",
            "Variable pets: ['wolf', 'gold fish']\n"
          ]
        }
      ],
      "source": [
        "#Print initial list\n",
        "print('Variable pets:', pets)\n",
        "\n",
        "# Erase item in list by index. Item returned\n",
        "pet_pop = pets.pop(3)\n",
        "# Erase item in list by value. Modifies list in-place\n",
        "pets.remove(\"cat\")\n",
        "\n",
        "# Print results\n",
        "print('Variable pet_pop:', pet_pop)\n",
        "print('Variable pets:', pets)"
      ]
    },
    {
      "cell_type": "markdown",
      "metadata": {
        "id": "gsBT1hLyrt3c"
      },
      "source": [
        "**Work with lists:**\n",
        "\n",
        "List addition:"
      ]
    },
    {
      "cell_type": "code",
      "execution_count": 109,
      "metadata": {
        "id": "VNyaGqpErt3c",
        "outputId": "fe5f18a5-68ef-476f-db6e-612b14cae47f",
        "colab": {
          "base_uri": "https://localhost:8080/"
        }
      },
      "outputs": [
        {
          "output_type": "stream",
          "name": "stdout",
          "text": [
            "Variable all_nums: [1, 3, 5, 7, 9, 0, 2, 4, 6, 8]\n",
            "Variable all_nums: [0, 1, 2, 3, 4, 5, 6, 7, 8, 9]\n"
          ]
        }
      ],
      "source": [
        "# Create two lists.\n",
        "odds = [1,3,5,7,9]\n",
        "evens = [0,2,4,6,8]\n",
        "\n",
        "# Combine and sort them\n",
        "all_nums = odds + evens\n",
        "print('Variable all_nums:', all_nums)\n",
        "\n",
        "# Sort the list - note that .sort() is an in-place method\n",
        "all_nums.sort()\n",
        "print('Variable all_nums:', all_nums)"
      ]
    },
    {
      "cell_type": "markdown",
      "metadata": {
        "id": "9PygqYyk-tGD"
      },
      "source": [
        "Nested lists:"
      ]
    },
    {
      "cell_type": "code",
      "execution_count": 110,
      "metadata": {
        "id": "BDe8Xv_4rt3c",
        "outputId": "b0253f03-cdf2-4a66-91fc-7381a3dffc02",
        "colab": {
          "base_uri": "https://localhost:8080/"
        }
      },
      "outputs": [
        {
          "output_type": "stream",
          "name": "stdout",
          "text": [
            "Variable nested_list: [['a', 'b', 'c'], ['d', 'e', 'f'], ['g', 'h', 'i']] <class 'list'>\n"
          ]
        }
      ],
      "source": [
        "# Create a list of lists\n",
        "l1 = ['a','b','c']\n",
        "l2 = ['d','e','f']\n",
        "l3 = ['g','h','i']\n",
        "\n",
        "# Create the list of list\n",
        "nested_list = [l1,l2,l3]\n",
        "print('Variable nested_list:', nested_list, type(nested_list))"
      ]
    },
    {
      "cell_type": "markdown",
      "metadata": {
        "id": "8oFRrwfk-tGE"
      },
      "source": [
        "Concatenated list indexing:"
      ]
    },
    {
      "cell_type": "code",
      "execution_count": 112,
      "metadata": {
        "id": "ukvbR6NErt3d",
        "outputId": "9eb4c998-e3c5-419f-efe5-5763f7748ce3",
        "colab": {
          "base_uri": "https://localhost:8080/"
        }
      },
      "outputs": [
        {
          "output_type": "stream",
          "name": "stdout",
          "text": [
            "Variable nested_lvl1: ['d', 'e', 'f']\n",
            "Variable nested_f: f\n",
            "Variable f: f\n"
          ]
        }
      ],
      "source": [
        "# Access the item \"f\" in nested_list - multiple lines\n",
        "nested_lvl1 = nested_list[1]\n",
        "print('Variable nested_lvl1:', nested_lvl1)\n",
        "nested_f    = nested_lvl1[2]\n",
        "print('Variable nested_f:', nested_f)\n",
        "\n",
        "# Access the item \"f\" in nested_list - single line\n",
        "f = nested_list[1][2]\n",
        "print('Variable f:', f)"
      ]
    },
    {
      "cell_type": "markdown",
      "metadata": {
        "id": "anjIOJRs-tGF"
      },
      "source": [
        "Adding new elements at the end of a list:"
      ]
    },
    {
      "cell_type": "code",
      "execution_count": 113,
      "metadata": {
        "id": "7MMpbUOKrt3d",
        "outputId": "46588506-c1ce-4361-c640-c3c2f815f356",
        "colab": {
          "base_uri": "https://localhost:8080/"
        }
      },
      "outputs": [
        {
          "output_type": "stream",
          "name": "stdout",
          "text": [
            "Variable sample_means: [23.45, 45.1, 28.62]\n"
          ]
        }
      ],
      "source": [
        "# Start with an empty list\n",
        "sample_means = []\n",
        "\n",
        "# Add items to the list\n",
        "sample_means.append(23.45)\n",
        "sample_means.append(45.1)\n",
        "sample_means.append(28.62)\n",
        "\n",
        "print('Variable sample_means:', sample_means)"
      ]
    },
    {
      "cell_type": "markdown",
      "metadata": {
        "id": "ecEwWd5P-tGF"
      },
      "source": [
        "List \"multiplication\":"
      ]
    },
    {
      "cell_type": "code",
      "execution_count": 115,
      "metadata": {
        "id": "G5oEL5Dnrt3d",
        "outputId": "b4fd4909-7d2d-498e-bfae-92b0aa5f17ad",
        "colab": {
          "base_uri": "https://localhost:8080/"
        }
      },
      "outputs": [
        {
          "output_type": "stream",
          "name": "stdout",
          "text": [
            "Variable list_a: ['a']\n",
            "Variable list_a5: ['a', 'a', 'a', 'a', 'a']\n",
            "Variable list_abc3: ['a', 'b', 'c', 'a', 'b', 'c', 'a', 'b', 'c']\n"
          ]
        }
      ],
      "source": [
        "# Create a list by repeating another list\n",
        "list_a = ['a']\n",
        "list_a5 = list_a * 5\n",
        "list_abc3 = ['a','b','c'] * 3\n",
        "\n",
        "print('Variable list_a:', list_a)\n",
        "print('Variable list_a5:', list_a5)\n",
        "print('Variable list_abc3:', list_abc3)"
      ]
    },
    {
      "cell_type": "markdown",
      "metadata": {
        "id": "OqNTht40rt3d"
      },
      "source": [
        "**Get info about a list:**"
      ]
    },
    {
      "cell_type": "markdown",
      "metadata": {
        "id": "aJN7i25wrt3d"
      },
      "source": [
        "We can use the same function `len()` we used for strings"
      ]
    },
    {
      "cell_type": "code",
      "execution_count": 116,
      "metadata": {
        "id": "EhqCNtoNrt3d",
        "outputId": "94b3cea3-4f31-41c5-f6d2-311767cbb724",
        "colab": {
          "base_uri": "https://localhost:8080/"
        }
      },
      "outputs": [
        {
          "output_type": "stream",
          "name": "stdout",
          "text": [
            "Number of items in list_a5: 5\n"
          ]
        }
      ],
      "source": [
        "#print('Number of items in list_a:', len(list_a))\n",
        "print('Number of items in list_a5:', len(list_a5))"
      ]
    },
    {
      "cell_type": "code",
      "execution_count": null,
      "metadata": {
        "id": "FMSP8t5ort3d"
      },
      "outputs": [],
      "source": [
        "# We can store the length of a list in a variable if needed\n",
        "len_list_abc3 = len(list_abc3)\n",
        "print('Number of items in list_abc3:', len_list_abc3)\n",
        "type(len_list_abc3)"
      ]
    },
    {
      "cell_type": "markdown",
      "metadata": {
        "id": "2r3SN04Jrt3d"
      },
      "source": [
        "Test if an item is or isn't in a list"
      ]
    },
    {
      "cell_type": "code",
      "execution_count": 117,
      "metadata": {
        "id": "m3o_vsB4rt3d",
        "outputId": "be03e940-dae4-4550-d871-22b617550fdc",
        "colab": {
          "base_uri": "https://localhost:8080/"
        }
      },
      "outputs": [
        {
          "output_type": "stream",
          "name": "stdout",
          "text": [
            "Variable list_abc: ['a', 'b', 'c']\n",
            "Variable a_in_list_abc: True\n",
            "Variable d_not_in_list_abc: True\n"
          ]
        }
      ],
      "source": [
        "list_abc = ['a','b','c']\n",
        "\n",
        "a_in_list_abc = 'a' in list_abc\n",
        "d_not_in_list_abc = 'd' not in list_abc\n",
        "\n",
        "print('Variable list_abc:', list_abc)\n",
        "print('Variable a_in_list_abc:', a_in_list_abc)\n",
        "print('Variable d_not_in_list_abc:', d_not_in_list_abc)"
      ]
    },
    {
      "cell_type": "markdown",
      "metadata": {
        "id": "iRcHfNPlrt3d"
      },
      "source": [
        "**Ex. 7a** (do ex 7a, 7b, 7c, 7d and 7e independently ~ 8 min, 15 if including advanced)"
      ]
    },
    {
      "cell_type": "code",
      "execution_count": null,
      "metadata": {
        "id": "l8-3RNmBrt3d"
      },
      "outputs": [],
      "source": [
        "# From the list digits, in one line of code,\n",
        "# create the variable ex8_x with the int 6\n",
        "\n",
        "digits = [[0,1,2],[3,4,5],6,[7,8,9]]\n",
        "\n",
        "### ADD YOUR CODE HERE\n",
        "\n",
        "# === Do not modify code below ===\n",
        "assert ex8_x == 6"
      ]
    },
    {
      "cell_type": "markdown",
      "metadata": {
        "id": "O0LDustxrt3d"
      },
      "source": [
        "**Ex. 7b**"
      ]
    },
    {
      "cell_type": "code",
      "execution_count": null,
      "metadata": {
        "id": "PuSDB65rrt3d"
      },
      "outputs": [],
      "source": [
        "# From the list digits, in one line of code,\n",
        "# create the variable ex8_y with the int 4\n",
        "\n",
        "digits = [[0,1,2],[3,4,5],6,[7,8,9]]\n",
        "\n",
        "### ADD YOUR CODE HERE\n",
        "\n",
        "# === Do not modify code below ===\n",
        "assert ex8_y == 4"
      ]
    },
    {
      "cell_type": "markdown",
      "metadata": {
        "id": "1ylL5S_-rt3e"
      },
      "source": [
        "**Ex. 7c**"
      ]
    },
    {
      "cell_type": "code",
      "execution_count": null,
      "metadata": {
        "id": "Dm1Wgcptrt3e"
      },
      "outputs": [],
      "source": [
        "# Using only the lists in the variables a, b and c and list methods\n",
        "# create a list [1,2,3] and store it in the variable ex8_k.\n",
        "# You may not use any ints\n",
        "\n",
        "a = 2\n",
        "b = [1,4,3]\n",
        "c = 1\n",
        "\n",
        "### ADD YOUR CODE HERE\n",
        "\n",
        "# === Do not modify code below ===\n",
        "assert ex8_k == [1,2,3]"
      ]
    },
    {
      "cell_type": "markdown",
      "metadata": {
        "id": "0qj2FzrWrt3e"
      },
      "source": [
        "**Ex. 7d** (advanced)"
      ]
    },
    {
      "cell_type": "code",
      "execution_count": null,
      "metadata": {
        "id": "a8JwViBrrt3e"
      },
      "outputs": [],
      "source": [
        "# Using only the lists in the variables a, b and c and list methods\n",
        "# create a list [1,2,3,4] and store it in the variable ex8_z.\n",
        "# You may not use any ints\n",
        "\n",
        "a = 4\n",
        "b = [2,3]\n",
        "c = [1]\n",
        "\n",
        "### ADD YOUR CODE HERE\n",
        "\n",
        "# === Do not modify code below ===\n",
        "assert ex8_z == [1,2,3,4]"
      ]
    },
    {
      "cell_type": "markdown",
      "metadata": {
        "id": "MhrRuaBWrt3e"
      },
      "source": [
        "**Ex. 7e** (advanced)"
      ]
    },
    {
      "cell_type": "code",
      "execution_count": null,
      "metadata": {
        "id": "RWy4ma3mrt3e"
      },
      "outputs": [],
      "source": [
        "# Using only the lists in the variables a, b and c and list methods\n",
        "# create a list [1,2,3] and store it in the variable ex8_i.\n",
        "# You may not use any ints\n",
        "\n",
        "a = 3\n",
        "b = [1,4,2]\n",
        "c = 1\n",
        "\n",
        "### ADD YOUR CODE HERE\n",
        "\n",
        "# === Do not modify code below ===\n",
        "assert ex8_i == [1,2,3]"
      ]
    },
    {
      "cell_type": "markdown",
      "metadata": {
        "id": "ClhdECnJrt3e"
      },
      "source": [
        "## S4.2 Container types - Dictionaries\n",
        "\n",
        "| Class name | Full name  | Access                      | Occurrence  | Remarks |\n",
        "|:---        |:---        | :---                        | :---        | :---\n",
        "| dict       | Dictionary | Access items by key         | Common      | Since we access items by key names, the order is not important |\n",
        "\n",
        "Each item in a dictionary consists of two things. The item itself and a key used to refer to it.\n",
        "\n",
        "The item can be of any type (anything from atoms to advanced molecules) but the key is always a string.\n",
        "\n",
        "---\n",
        "\n",
        "**Create dictionaries and access items:**"
      ]
    },
    {
      "cell_type": "code",
      "execution_count": 118,
      "metadata": {
        "id": "nMMO8AsOrt3f",
        "outputId": "a60c7ac7-f62a-4183-f15e-b20430306a54",
        "colab": {
          "base_uri": "https://localhost:8080/"
        }
      },
      "outputs": [
        {
          "output_type": "stream",
          "name": "stdout",
          "text": [
            "Variable x: {'a': 'alpha', 'b': 3, 'c': True, 'd': [1, 2, 3]}\n"
          ]
        },
        {
          "output_type": "execute_result",
          "data": {
            "text/plain": [
              "dict"
            ]
          },
          "metadata": {},
          "execution_count": 118
        }
      ],
      "source": [
        "# Create a dictionary\n",
        "x = {'a': 'alpha', 'b': 3, 'c': True, 'd': [1,2,3]}\n",
        "print('Variable x:', x)\n",
        "type(x)"
      ]
    },
    {
      "cell_type": "code",
      "execution_count": null,
      "metadata": {
        "id": "74-anTaIrt3f"
      },
      "outputs": [],
      "source": [
        "# Access item in a dict using the key\n",
        "print(\"Variable x['a']:\", x['a'], type(x['a']))\n",
        "print(\"Variable x['b']:\", x['b'], type(x['b']))\n",
        "print(\"Variable x['c']:\", x['c'], type(x['c']))\n",
        "print(\"Variable x['d']:\", x['d'], type(x['d']))"
      ]
    },
    {
      "cell_type": "code",
      "execution_count": null,
      "metadata": {
        "id": "A69FAGvSrt3f"
      },
      "outputs": [],
      "source": [
        "# Lets say we are a bank keeping track of info about accounts\n",
        "\n",
        "# Start with an empty dict\n",
        "accounta = {}\n",
        "accountb = {}\n",
        "\n",
        "# Set up account A details\n",
        "accounta['owner'] = 'Jerry Ehman'\n",
        "accounta['id'] = '6EQUJ5'\n",
        "\n",
        "# Set up account B details in different order\n",
        "accountb['id'] = 'GTCTAT'\n",
        "accountb['owner'] = 'Rosalind Franklin'\n",
        "\n",
        "print('Variable accounta:', accounta)\n",
        "print('Variable accountb:', accountb)"
      ]
    },
    {
      "cell_type": "markdown",
      "metadata": {
        "id": "0-swOIQD-tGJ"
      },
      "source": [
        "Values can only be accessed with their keys."
      ]
    },
    {
      "cell_type": "code",
      "execution_count": null,
      "metadata": {
        "id": "iReXoF7Krt3f"
      },
      "outputs": [],
      "source": [
        "print('Owner account A:', accounta['owner'])\n",
        "print('Owner account B:', accountb['owner'])"
      ]
    },
    {
      "cell_type": "markdown",
      "metadata": {
        "id": "nNzeh0X1-tGJ"
      },
      "source": [
        "You can also add new key-value pairs in an existing dictionary:"
      ]
    },
    {
      "cell_type": "code",
      "execution_count": null,
      "metadata": {
        "id": "U2f9_J19rt3f"
      },
      "outputs": [],
      "source": [
        "# Deposit initial amount on account A\n",
        "accounta['balance'] = 1420\n",
        "print(accounta)"
      ]
    },
    {
      "cell_type": "markdown",
      "metadata": {
        "id": "d8lMNiwFrt3f"
      },
      "source": [
        "**Important error message: KeyError**\n",
        "    \n",
        "Whenever you see an error on the format\n",
        "`KeyError: 'balance'`,\n",
        "then it means that you have tried to access an item in the list, using a key that is not used in the dictionary."
      ]
    },
    {
      "cell_type": "code",
      "execution_count": null,
      "metadata": {
        "id": "39aCbdhjrt3f",
        "scrolled": true
      },
      "outputs": [],
      "source": [
        "print('Balance account B:', accountb['balance'], type(accountb['balance']))"
      ]
    },
    {
      "cell_type": "code",
      "execution_count": null,
      "metadata": {
        "id": "xlyHLT87rt3f"
      },
      "outputs": [],
      "source": [
        "# When applicable, use get() method to set a default value if key does not exist\n",
        "print('Balance account A:', accounta.get('balance', 0))\n",
        "print('Balance account B:', accountb.get('balance', 0))"
      ]
    },
    {
      "cell_type": "code",
      "execution_count": null,
      "metadata": {
        "id": "b_ALum82rt3f"
      },
      "outputs": [],
      "source": [
        "# Python returns None when using .get() on a key that does not exist without a default value\n",
        "print('Balance account B:', accountb.get('color'), type(accountb.get('color')))"
      ]
    },
    {
      "cell_type": "markdown",
      "metadata": {
        "id": "fGZWI5G3rt3f"
      },
      "source": [
        "**Ex. 8a** (do ex 8a and 8b independently ~ 10 min)"
      ]
    },
    {
      "cell_type": "code",
      "execution_count": null,
      "metadata": {
        "id": "RSDKnoyWrt3f"
      },
      "outputs": [],
      "source": [
        "# Using only the already defined variables,\n",
        "# (you may not type any keys manually)\n",
        "# modify the empty dict ex8_z into\n",
        "# {'pet1':'Dog','pet2':'Cat'}\n",
        "# You may not overwrite ex8_z\n",
        "\n",
        "p1 = 'pet1'\n",
        "p2 = 'pet2'\n",
        "Arthur = 'Cat'\n",
        "b = \"Dog\"\n",
        "c = Arthur\n",
        "ex8_z = {}\n",
        "\n",
        "### ADD YOUR CODE HERE\n",
        "\n",
        "# === Do not modify code below ===\n",
        "assert ex8_z == {'pet1':'Dog','pet2':'Cat'}"
      ]
    },
    {
      "cell_type": "markdown",
      "metadata": {
        "id": "hfOEFvnvrt3f"
      },
      "source": [
        "**Ex. 8b**"
      ]
    },
    {
      "cell_type": "code",
      "execution_count": null,
      "metadata": {
        "id": "NpVMiYlCrt3f"
      },
      "outputs": [],
      "source": [
        "# Using only the complex_dict and\n",
        "# accessing items using only keys and indexes,\n",
        "# create the following variables zero as the int 0,\n",
        "# d as the string d, minus_three as the int -3\n",
        "# and symbol_list as the list ['%','?','~']\n",
        "# Try create each of these variables in a single line of code\n",
        "\n",
        "\n",
        "complex_dict = {\n",
        "    'alpha': [\n",
        "        'a','b','c','d'\n",
        "    ],\n",
        "    'numbers': [\n",
        "        [1,2,3],\n",
        "        0,\n",
        "        [-1,-2,-3]\n",
        "    ],\n",
        "    'symbols' : {\n",
        "        'percent' : '%',\n",
        "        'question' : '?',\n",
        "        'tilde' : '~'\n",
        "    }\n",
        "}\n",
        "\n",
        "zero = ### ADD YOUR CODE HERE\n",
        "d = ### ADD YOUR CODE HERE\n",
        "minus_three = ### ADD YOUR CODE HERE\n",
        "symbol_list = ### ADD YOUR CODE HERE\n",
        "\n",
        "# === Do not modify code below ===\n",
        "assert zero==0 and d=='d' and minus_three==-3 and symbol_list==['%','?','~']"
      ]
    },
    {
      "cell_type": "markdown",
      "metadata": {
        "id": "ufRYKmqw-tGK"
      },
      "source": [
        "**Get the keys and/or the items of a dictionary**\n",
        "\n",
        "Containers are great at holding variables with data in a structured way.\n",
        "It is often the case we want to access one item at the time in the list.\n",
        "\n",
        "We will cover loops in the next session, but now we will already cover\n",
        "three methods important when looping over the key-value pair of a dict.\n"
      ]
    },
    {
      "cell_type": "code",
      "execution_count": null,
      "metadata": {
        "id": "WGqjL1ot-tGK"
      },
      "outputs": [],
      "source": [
        "# Define a dictionary with countries and capitals\n",
        "capitals = {\n",
        "    'China':'Beijing',\n",
        "    'India':'New Delhi',\n",
        "    'Ohio':'Columbus',\n",
        "    'Peru':'Lima',\n",
        "    'Sweden':'Stockholm',\n",
        "}\n",
        "\n",
        "# We can get all keys or all lists using the methods .keys() and .values()\n",
        "print(\"Keys list:\", capitals.keys(), type(capitals.keys()))\n",
        "print(\"Values list:\", capitals.values(), type(capitals.values()))"
      ]
    },
    {
      "cell_type": "code",
      "execution_count": null,
      "metadata": {
        "id": "JFG690-E-tGK"
      },
      "outputs": [],
      "source": [
        "# Get all keys in a dictionary\n",
        "for country in capitals.keys() :\n",
        "    print(country)"
      ]
    },
    {
      "cell_type": "code",
      "execution_count": null,
      "metadata": {
        "id": "uVKWU6tU-tGK"
      },
      "outputs": [],
      "source": [
        "# Get all values in a dictionary\n",
        "for capital in capitals.values() :\n",
        "    print(capital)"
      ]
    },
    {
      "cell_type": "code",
      "execution_count": null,
      "metadata": {
        "id": "9NpHp1tK-tGL"
      },
      "outputs": [],
      "source": [
        "# Get both keys and values in a dictionary\n",
        "for country, capital in capitals.items():\n",
        "    print(f\"The capital of {country} is {capital}.\")"
      ]
    }
  ],
  "metadata": {
    "colab": {
      "provenance": [],
      "include_colab_link": true
    },
    "kernelspec": {
      "display_name": "Python 3 (ipykernel)",
      "language": "python",
      "name": "python3"
    },
    "language_info": {
      "codemirror_mode": {
        "name": "ipython",
        "version": 3
      },
      "file_extension": ".py",
      "mimetype": "text/x-python",
      "name": "python",
      "nbconvert_exporter": "python",
      "pygments_lexer": "ipython3",
      "version": "3.9.12"
    },
    "vscode": {
      "interpreter": {
        "hash": "deb4792152b8b9767403eeef0a1b0f34b83d442136ccee9184cd7d1131f09aa0"
      }
    }
  },
  "nbformat": 4,
  "nbformat_minor": 0
}